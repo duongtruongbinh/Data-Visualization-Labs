{
 "cells": [
  {
   "cell_type": "markdown",
   "id": "677ff204",
   "metadata": {
    "papermill": {
     "duration": 0.015189,
     "end_time": "2024-01-09T21:46:45.003623",
     "exception": false,
     "start_time": "2024-01-09T21:46:44.988434",
     "status": "completed"
    },
    "tags": []
   },
   "source": [
    "# <p style=\"text-align: center; font-size: 3rem\"> <b> Titanic: Machine Learning from Disaster </b> </p>\n",
    "\n",
    "<div style=\"text-align:center;\">\n",
    "  <img src=\"https://www.thetimes.co.uk/imageserver/image/%2Fmethode%2Ftimes%2Fprod%2Fweb%2Fbin%2Ff3fe3e9a-3bb2-11ea-9c52-a30e6a70847e.jpg?crop=6542%2C3680%2C16%2C412&resize=1024\"/>\n",
    "</div>\n"
   ]
  },
  {
   "cell_type": "markdown",
   "id": "841aab18",
   "metadata": {
    "papermill": {
     "duration": 0.014723,
     "end_time": "2024-01-09T21:46:45.034089",
     "exception": false,
     "start_time": "2024-01-09T21:46:45.019366",
     "status": "completed"
    },
    "tags": []
   },
   "source": [
    "## Table of Contents\n",
    "\n",
    "- [1. Introduction](#1)\n",
    "- [2. Loading the Data](#2)\n",
    "- [3. Basic Information](#3)\n",
    "- [4. Exploratory Data Analysis (EDA)](#4)\n",
    "- [5. Feature Engineering](#5)\n",
    "- [6. Data Wrangling](#6)\n",
    "- [7. Model Training](#7)"
   ]
  },
  {
   "cell_type": "markdown",
   "id": "743ab666",
   "metadata": {
    "papermill": {
     "duration": 0.014412,
     "end_time": "2024-01-09T21:46:45.064190",
     "exception": false,
     "start_time": "2024-01-09T21:46:45.049778",
     "status": "completed"
    },
    "tags": []
   },
   "source": [
    "# 1. Introduction <a class=\"anchor\" id=\"1\"></a>\n",
    "\n",
    "Vụ chìm tàu RMS Titanic là một trong những vụ đắm tàu ​​khét tiếng nhất trong lịch sử. Vào ngày 15 tháng 4 năm 1912, trong chuyến hành trình đầu tiên, tàu Titanic bị chìm sau khi va chạm với một tảng băng trôi, khiến 1502 trong số 2224 hành khách và thủy thủ đoàn thiệt mạng. Thảm kịch giật gân này đã gây chấn động cộng đồng quốc tế và dẫn tới những quy định an toàn tốt hơn cho tàu thuyền.\n",
    "\n",
    "Một trong những nguyên nhân khiến vụ đắm tàu dẫn đến thiệt hại về người là do không có đủ xuồng cứu sinh cho hành khách và thủy thủ đoàn. Mặc dù có một số\n",
    "Yếu tố may mắn liên quan đến việc sống sót sau vụ chìm tàu, một số nhóm người có nhiều khả năng sống sót hơn những nhóm khác, chẳng hạn như phụ nữ, trẻ em và tầng lớp thượng lưu.\n",
    "\n",
    "Trong thử thách này, chúng ta được yêu cầu hoàn thành bản phân tích \"Những loại người nào có nhiều khả năng sống sót hơn?\". Đặc biệt, chúng tôi được yêu cầu áp dụng các công cụ học máy để dự đoán hành khách nào sống sót sau thảm kịch.\n"
   ]
  },
  {
   "cell_type": "markdown",
   "id": "e4d9fb7f",
   "metadata": {
    "papermill": {
     "duration": 0.014444,
     "end_time": "2024-01-09T21:46:45.093193",
     "exception": false,
     "start_time": "2024-01-09T21:46:45.078749",
     "status": "completed"
    },
    "tags": []
   },
   "source": [
    "# 2. Loading the Data <a class=\"anchor\" id=\"2\"></a>"
   ]
  },
  {
   "cell_type": "code",
   "execution_count": 1,
   "id": "ce396217",
   "metadata": {
    "execution": {
     "iopub.execute_input": "2024-01-09T21:46:45.127587Z",
     "iopub.status.busy": "2024-01-09T21:46:45.126746Z",
     "iopub.status.idle": "2024-01-09T21:46:46.972887Z",
     "shell.execute_reply": "2024-01-09T21:46:46.971517Z"
    },
    "papermill": {
     "duration": 1.866409,
     "end_time": "2024-01-09T21:46:46.975865",
     "exception": false,
     "start_time": "2024-01-09T21:46:45.109456",
     "status": "completed"
    },
    "tags": []
   },
   "outputs": [],
   "source": [
    "import numpy as np \n",
    "import pandas as pd \n",
    "import matplotlib.pyplot as plt\n",
    "import seaborn as sns\n",
    "import re\n",
    "import os\n"
   ]
  },
  {
   "cell_type": "code",
   "execution_count": 3,
   "id": "32e4992e",
   "metadata": {
    "execution": {
     "iopub.execute_input": "2024-01-09T21:46:47.008830Z",
     "iopub.status.busy": "2024-01-09T21:46:47.007453Z",
     "iopub.status.idle": "2024-01-09T21:46:47.084838Z",
     "shell.execute_reply": "2024-01-09T21:46:47.083573Z"
    },
    "papermill": {
     "duration": 0.097295,
     "end_time": "2024-01-09T21:46:47.088194",
     "exception": false,
     "start_time": "2024-01-09T21:46:46.990899",
     "status": "completed"
    },
    "tags": []
   },
   "outputs": [
    {
     "data": {
      "text/html": [
       "<div>\n",
       "<style scoped>\n",
       "    .dataframe tbody tr th:only-of-type {\n",
       "        vertical-align: middle;\n",
       "    }\n",
       "\n",
       "    .dataframe tbody tr th {\n",
       "        vertical-align: top;\n",
       "    }\n",
       "\n",
       "    .dataframe thead th {\n",
       "        text-align: right;\n",
       "    }\n",
       "</style>\n",
       "<table border=\"1\" class=\"dataframe\">\n",
       "  <thead>\n",
       "    <tr style=\"text-align: right;\">\n",
       "      <th></th>\n",
       "      <th>PassengerId</th>\n",
       "      <th>Survived</th>\n",
       "      <th>Pclass</th>\n",
       "      <th>Name</th>\n",
       "      <th>Sex</th>\n",
       "      <th>Age</th>\n",
       "      <th>SibSp</th>\n",
       "      <th>Parch</th>\n",
       "      <th>Ticket</th>\n",
       "      <th>Fare</th>\n",
       "      <th>Cabin</th>\n",
       "      <th>Embarked</th>\n",
       "    </tr>\n",
       "  </thead>\n",
       "  <tbody>\n",
       "    <tr>\n",
       "      <th>153</th>\n",
       "      <td>154</td>\n",
       "      <td>0</td>\n",
       "      <td>3</td>\n",
       "      <td>van Billiard, Mr. Austin Blyler</td>\n",
       "      <td>male</td>\n",
       "      <td>40.5</td>\n",
       "      <td>0</td>\n",
       "      <td>2</td>\n",
       "      <td>A/5. 851</td>\n",
       "      <td>14.5000</td>\n",
       "      <td>NaN</td>\n",
       "      <td>S</td>\n",
       "    </tr>\n",
       "    <tr>\n",
       "      <th>692</th>\n",
       "      <td>693</td>\n",
       "      <td>1</td>\n",
       "      <td>3</td>\n",
       "      <td>Lam, Mr. Ali</td>\n",
       "      <td>male</td>\n",
       "      <td>NaN</td>\n",
       "      <td>0</td>\n",
       "      <td>0</td>\n",
       "      <td>1601</td>\n",
       "      <td>56.4958</td>\n",
       "      <td>NaN</td>\n",
       "      <td>S</td>\n",
       "    </tr>\n",
       "    <tr>\n",
       "      <th>385</th>\n",
       "      <td>386</td>\n",
       "      <td>0</td>\n",
       "      <td>2</td>\n",
       "      <td>Davies, Mr. Charles Henry</td>\n",
       "      <td>male</td>\n",
       "      <td>18.0</td>\n",
       "      <td>0</td>\n",
       "      <td>0</td>\n",
       "      <td>S.O.C. 14879</td>\n",
       "      <td>73.5000</td>\n",
       "      <td>NaN</td>\n",
       "      <td>S</td>\n",
       "    </tr>\n",
       "    <tr>\n",
       "      <th>787</th>\n",
       "      <td>788</td>\n",
       "      <td>0</td>\n",
       "      <td>3</td>\n",
       "      <td>Rice, Master. George Hugh</td>\n",
       "      <td>male</td>\n",
       "      <td>8.0</td>\n",
       "      <td>4</td>\n",
       "      <td>1</td>\n",
       "      <td>382652</td>\n",
       "      <td>29.1250</td>\n",
       "      <td>NaN</td>\n",
       "      <td>Q</td>\n",
       "    </tr>\n",
       "    <tr>\n",
       "      <th>267</th>\n",
       "      <td>268</td>\n",
       "      <td>1</td>\n",
       "      <td>3</td>\n",
       "      <td>Persson, Mr. Ernst Ulrik</td>\n",
       "      <td>male</td>\n",
       "      <td>25.0</td>\n",
       "      <td>1</td>\n",
       "      <td>0</td>\n",
       "      <td>347083</td>\n",
       "      <td>7.7750</td>\n",
       "      <td>NaN</td>\n",
       "      <td>S</td>\n",
       "    </tr>\n",
       "  </tbody>\n",
       "</table>\n",
       "</div>"
      ],
      "text/plain": [
       "     PassengerId  Survived  Pclass                             Name   Sex  \\\n",
       "153          154         0       3  van Billiard, Mr. Austin Blyler  male   \n",
       "692          693         1       3                     Lam, Mr. Ali  male   \n",
       "385          386         0       2        Davies, Mr. Charles Henry  male   \n",
       "787          788         0       3        Rice, Master. George Hugh  male   \n",
       "267          268         1       3         Persson, Mr. Ernst Ulrik  male   \n",
       "\n",
       "      Age  SibSp  Parch        Ticket     Fare Cabin Embarked  \n",
       "153  40.5      0      2      A/5. 851  14.5000   NaN        S  \n",
       "692   NaN      0      0          1601  56.4958   NaN        S  \n",
       "385  18.0      0      0  S.O.C. 14879  73.5000   NaN        S  \n",
       "787   8.0      4      1        382652  29.1250   NaN        Q  \n",
       "267  25.0      1      0        347083   7.7750   NaN        S  "
      ]
     },
     "execution_count": 3,
     "metadata": {},
     "output_type": "execute_result"
    }
   ],
   "source": [
    "train_df = pd.read_csv('data/train.csv')\n",
    "test_df = pd.read_csv('data/test.csv')\n",
    "train_df.sample(5)"
   ]
  },
  {
   "cell_type": "markdown",
   "id": "d0a83403",
   "metadata": {
    "papermill": {
     "duration": 0.014991,
     "end_time": "2024-01-09T21:46:47.125614",
     "exception": false,
     "start_time": "2024-01-09T21:46:47.110623",
     "status": "completed"
    },
    "tags": []
   },
   "source": [
    "# 3. Thông tin cơ bản <a class=\"anchor\" id=\"3\"></a>\n",
    "\n",
    "### "
   ]
  },
  {
   "cell_type": "code",
   "execution_count": 3,
   "id": "217fe93f",
   "metadata": {
    "execution": {
     "iopub.execute_input": "2024-01-09T21:46:47.164040Z",
     "iopub.status.busy": "2024-01-09T21:46:47.163436Z",
     "iopub.status.idle": "2024-01-09T21:46:47.171612Z",
     "shell.execute_reply": "2024-01-09T21:46:47.170133Z"
    },
    "papermill": {
     "duration": 0.033836,
     "end_time": "2024-01-09T21:46:47.174662",
     "exception": false,
     "start_time": "2024-01-09T21:46:47.140826",
     "status": "completed"
    },
    "tags": []
   },
   "outputs": [
    {
     "name": "stdout",
     "output_type": "stream",
     "text": [
      "Train has 891 rows and 12 columns\n",
      "Test has 418 rows and 11 columns\n"
     ]
    }
   ],
   "source": [
    "print(f'\n",
    "print(f'Test has {test_df.shape[0]} rows and {test_df.shape[1]} columns')"
   ]
  },
  {
   "cell_type": "markdown",
   "id": "92095511",
   "metadata": {
    "papermill": {
     "duration": 0.016364,
     "end_time": "2024-01-09T21:46:47.206639",
     "exception": false,
     "start_time": "2024-01-09T21:46:47.190275",
     "status": "completed"
    },
    "tags": []
   },
   "source": [
    "### Is there any duplicate rows in the train and test data?"
   ]
  },
  {
   "cell_type": "code",
   "execution_count": 4,
   "id": "7545ab12",
   "metadata": {
    "execution": {
     "iopub.execute_input": "2024-01-09T21:46:47.241665Z",
     "iopub.status.busy": "2024-01-09T21:46:47.240169Z",
     "iopub.status.idle": "2024-01-09T21:46:47.262197Z",
     "shell.execute_reply": "2024-01-09T21:46:47.260957Z"
    },
    "papermill": {
     "duration": 0.043922,
     "end_time": "2024-01-09T21:46:47.265960",
     "exception": false,
     "start_time": "2024-01-09T21:46:47.222038",
     "status": "completed"
    },
    "tags": []
   },
   "outputs": [
    {
     "name": "stdout",
     "output_type": "stream",
     "text": [
      "Train has 0 duplicated rows\n",
      "Test has 0 duplicated rows\n"
     ]
    }
   ],
   "source": [
    "print(f'Train has {train_df.duplicated().sum()} duplicated rows')\n",
    "print(f'Test has {test_df.duplicated().sum()} duplicated rows')"
   ]
  },
  {
   "cell_type": "markdown",
   "id": "61b2f920",
   "metadata": {
    "papermill": {
     "duration": 0.018625,
     "end_time": "2024-01-09T21:46:47.309450",
     "exception": false,
     "start_time": "2024-01-09T21:46:47.290825",
     "status": "completed"
    },
    "tags": []
   },
   "source": [
    "## Meanings of each rows\n",
    "\n",
    "Each row of the data represents a passenger on the Titanic, and some information about them.\n",
    "\n",
    "## Meaning of each columns\n",
    "\n",
    "|Column Name|Meaning|\n",
    "|:---|:---|\n",
    "|PassengerId|An unique index for passenger rows|\n",
    "|Survived|If the passenger survived or not (1 - yes, 0 - no)|\n",
    "|Pclass|Ticket class (1 - 1st, 2 - 2nd, 3 - 3rd)|\n",
    "|Name|Name of the passenger|\n",
    "|Sex|Sex of passenger|\n",
    "|Age|Age of passenger|\n",
    "|SibSp|Number of siblings/spouses aboard|\n",
    "|Parch|Number of parents/children aboard|\n",
    "|Ticket|Ticket number of passenger|\n",
    "|Fare|Indicating the fare paid|\n",
    "|Cabin|The cabin number of passenger|\n",
    "|Embarked|The port in which a passenger has embarked. (C - Cherbourg, S - Southampton, Q = Queenstown)|\n"
   ]
  },
  {
   "cell_type": "markdown",
   "id": "4d51d2cf",
   "metadata": {
    "papermill": {
     "duration": 0.015307,
     "end_time": "2024-01-09T21:46:47.432325",
     "exception": false,
     "start_time": "2024-01-09T21:46:47.417018",
     "status": "completed"
    },
    "tags": []
   },
   "source": [
    "***PassengerId***\n",
    "\n",
    "The first column is the passenger ID. The ID for a passenger is just a number to identify this passenger in this dataset. So this column is not really a part of the\n",
    "information we should care about. We can drop this column or make it the index for this dataset."
   ]
  },
  {
   "cell_type": "code",
   "execution_count": 5,
   "id": "8438bc5c",
   "metadata": {
    "execution": {
     "iopub.execute_input": "2024-01-09T21:46:47.466717Z",
     "iopub.status.busy": "2024-01-09T21:46:47.465822Z",
     "iopub.status.idle": "2024-01-09T21:46:47.487751Z",
     "shell.execute_reply": "2024-01-09T21:46:47.486473Z"
    },
    "papermill": {
     "duration": 0.041754,
     "end_time": "2024-01-09T21:46:47.490385",
     "exception": false,
     "start_time": "2024-01-09T21:46:47.448631",
     "status": "completed"
    },
    "tags": []
   },
   "outputs": [
    {
     "data": {
      "text/html": [
       "<div>\n",
       "<style scoped>\n",
       "    .dataframe tbody tr th:only-of-type {\n",
       "        vertical-align: middle;\n",
       "    }\n",
       "\n",
       "    .dataframe tbody tr th {\n",
       "        vertical-align: top;\n",
       "    }\n",
       "\n",
       "    .dataframe thead th {\n",
       "        text-align: right;\n",
       "    }\n",
       "</style>\n",
       "<table border=\"1\" class=\"dataframe\">\n",
       "  <thead>\n",
       "    <tr style=\"text-align: right;\">\n",
       "      <th></th>\n",
       "      <th>Survived</th>\n",
       "      <th>Pclass</th>\n",
       "      <th>Name</th>\n",
       "      <th>Sex</th>\n",
       "      <th>Age</th>\n",
       "      <th>SibSp</th>\n",
       "      <th>Parch</th>\n",
       "      <th>Ticket</th>\n",
       "      <th>Fare</th>\n",
       "      <th>Cabin</th>\n",
       "      <th>Embarked</th>\n",
       "    </tr>\n",
       "    <tr>\n",
       "      <th>PassengerId</th>\n",
       "      <th></th>\n",
       "      <th></th>\n",
       "      <th></th>\n",
       "      <th></th>\n",
       "      <th></th>\n",
       "      <th></th>\n",
       "      <th></th>\n",
       "      <th></th>\n",
       "      <th></th>\n",
       "      <th></th>\n",
       "      <th></th>\n",
       "    </tr>\n",
       "  </thead>\n",
       "  <tbody>\n",
       "    <tr>\n",
       "      <th>1</th>\n",
       "      <td>0</td>\n",
       "      <td>3</td>\n",
       "      <td>Braund, Mr. Owen Harris</td>\n",
       "      <td>male</td>\n",
       "      <td>22.0</td>\n",
       "      <td>1</td>\n",
       "      <td>0</td>\n",
       "      <td>A/5 21171</td>\n",
       "      <td>7.2500</td>\n",
       "      <td>NaN</td>\n",
       "      <td>S</td>\n",
       "    </tr>\n",
       "    <tr>\n",
       "      <th>2</th>\n",
       "      <td>1</td>\n",
       "      <td>1</td>\n",
       "      <td>Cumings, Mrs. John Bradley (Florence Briggs Th...</td>\n",
       "      <td>female</td>\n",
       "      <td>38.0</td>\n",
       "      <td>1</td>\n",
       "      <td>0</td>\n",
       "      <td>PC 17599</td>\n",
       "      <td>71.2833</td>\n",
       "      <td>C85</td>\n",
       "      <td>C</td>\n",
       "    </tr>\n",
       "    <tr>\n",
       "      <th>3</th>\n",
       "      <td>1</td>\n",
       "      <td>3</td>\n",
       "      <td>Heikkinen, Miss. Laina</td>\n",
       "      <td>female</td>\n",
       "      <td>26.0</td>\n",
       "      <td>0</td>\n",
       "      <td>0</td>\n",
       "      <td>STON/O2. 3101282</td>\n",
       "      <td>7.9250</td>\n",
       "      <td>NaN</td>\n",
       "      <td>S</td>\n",
       "    </tr>\n",
       "    <tr>\n",
       "      <th>4</th>\n",
       "      <td>1</td>\n",
       "      <td>1</td>\n",
       "      <td>Futrelle, Mrs. Jacques Heath (Lily May Peel)</td>\n",
       "      <td>female</td>\n",
       "      <td>35.0</td>\n",
       "      <td>1</td>\n",
       "      <td>0</td>\n",
       "      <td>113803</td>\n",
       "      <td>53.1000</td>\n",
       "      <td>C123</td>\n",
       "      <td>S</td>\n",
       "    </tr>\n",
       "    <tr>\n",
       "      <th>5</th>\n",
       "      <td>0</td>\n",
       "      <td>3</td>\n",
       "      <td>Allen, Mr. William Henry</td>\n",
       "      <td>male</td>\n",
       "      <td>35.0</td>\n",
       "      <td>0</td>\n",
       "      <td>0</td>\n",
       "      <td>373450</td>\n",
       "      <td>8.0500</td>\n",
       "      <td>NaN</td>\n",
       "      <td>S</td>\n",
       "    </tr>\n",
       "  </tbody>\n",
       "</table>\n",
       "</div>"
      ],
      "text/plain": [
       "             Survived  Pclass  \\\n",
       "PassengerId                     \n",
       "1                   0       3   \n",
       "2                   1       1   \n",
       "3                   1       3   \n",
       "4                   1       1   \n",
       "5                   0       3   \n",
       "\n",
       "                                                          Name     Sex   Age  \\\n",
       "PassengerId                                                                    \n",
       "1                                      Braund, Mr. Owen Harris    male  22.0   \n",
       "2            Cumings, Mrs. John Bradley (Florence Briggs Th...  female  38.0   \n",
       "3                                       Heikkinen, Miss. Laina  female  26.0   \n",
       "4                 Futrelle, Mrs. Jacques Heath (Lily May Peel)  female  35.0   \n",
       "5                                     Allen, Mr. William Henry    male  35.0   \n",
       "\n",
       "             SibSp  Parch            Ticket     Fare Cabin Embarked  \n",
       "PassengerId                                                          \n",
       "1                1      0         A/5 21171   7.2500   NaN        S  \n",
       "2                1      0          PC 17599  71.2833   C85        C  \n",
       "3                0      0  STON/O2. 3101282   7.9250   NaN        S  \n",
       "4                1      0            113803  53.1000  C123        S  \n",
       "5                0      0            373450   8.0500   NaN        S  "
      ]
     },
     "execution_count": 5,
     "metadata": {},
     "output_type": "execute_result"
    }
   ],
   "source": [
    "train_df.set_index('PassengerId', inplace=True)\n",
    "test_df.set_index('PassengerId', inplace=True)\n",
    "train_df.head()"
   ]
  },
  {
   "cell_type": "markdown",
   "id": "4392fa7d",
   "metadata": {
    "papermill": {
     "duration": 0.015545,
     "end_time": "2024-01-09T21:46:47.521832",
     "exception": false,
     "start_time": "2024-01-09T21:46:47.506287",
     "status": "completed"
    },
    "tags": []
   },
   "source": [
    "# Data types of each columns"
   ]
  },
  {
   "cell_type": "code",
   "execution_count": 6,
   "id": "e2166a81",
   "metadata": {
    "execution": {
     "iopub.execute_input": "2024-01-09T21:46:47.556765Z",
     "iopub.status.busy": "2024-01-09T21:46:47.555817Z",
     "iopub.status.idle": "2024-01-09T21:46:47.698690Z",
     "shell.execute_reply": "2024-01-09T21:46:47.697461Z"
    },
    "papermill": {
     "duration": 0.163363,
     "end_time": "2024-01-09T21:46:47.701536",
     "exception": false,
     "start_time": "2024-01-09T21:46:47.538173",
     "status": "completed"
    },
    "tags": []
   },
   "outputs": [
    {
     "name": "stdout",
     "output_type": "stream",
     "text": [
      "<class 'pandas.core.frame.DataFrame'>\n",
      "Index: 891 entries, 1 to 891\n",
      "Data columns (total 11 columns):\n",
      " #   Column    Non-Null Count  Dtype  \n",
      "---  ------    --------------  -----  \n",
      " 0   Survived  891 non-null    int64  \n",
      " 1   Pclass    891 non-null    int64  \n",
      " 2   Name      891 non-null    object \n",
      " 3   Sex       891 non-null    object \n",
      " 4   Age       714 non-null    float64\n",
      " 5   SibSp     891 non-null    int64  \n",
      " 6   Parch     891 non-null    int64  \n",
      " 7   Ticket    891 non-null    object \n",
      " 8   Fare      891 non-null    float64\n",
      " 9   Cabin     204 non-null    object \n",
      " 10  Embarked  889 non-null    object \n",
      "dtypes: float64(2), int64(4), object(5)\n",
      "memory usage: 83.5+ KB\n"
     ]
    }
   ],
   "source": [
    "train_df.info()"
   ]
  },
  {
   "cell_type": "markdown",
   "id": "8a06f5e4",
   "metadata": {
    "papermill": {
     "duration": 0.016068,
     "end_time": "2024-01-09T21:46:47.734419",
     "exception": false,
     "start_time": "2024-01-09T21:46:47.718351",
     "status": "completed"
    },
    "tags": []
   },
   "source": [
    "- Categorical: `Survived`, `Sex`, `Embarked`, `Pclass` (ordinal), `SibSp`, `Parch`\n",
    "- Numerical: `Age`, `Fare`\n",
    "- Mix type: `Ticket`, `Cabin`\n",
    "- Contain errors or typos: `Name`\n",
    "- Missing values: `Age`, `Cabin`, `Embarked`\n",
    "- Data type: String, Integer, Float"
   ]
  },
  {
   "cell_type": "code",
   "execution_count": 7,
   "id": "2dcf1575",
   "metadata": {
    "execution": {
     "iopub.execute_input": "2024-01-09T21:46:47.770731Z",
     "iopub.status.busy": "2024-01-09T21:46:47.769450Z",
     "iopub.status.idle": "2024-01-09T21:46:47.784980Z",
     "shell.execute_reply": "2024-01-09T21:46:47.783890Z"
    },
    "papermill": {
     "duration": 0.037157,
     "end_time": "2024-01-09T21:46:47.788130",
     "exception": false,
     "start_time": "2024-01-09T21:46:47.750973",
     "status": "completed"
    },
    "tags": []
   },
   "outputs": [],
   "source": [
    "converted_features = ['Pclass', 'Sex', 'SibSp', 'Parch', 'Embarked', 'Survived']\n",
    "def convert_features(df,features):\n",
    "    for feature in features:\n",
    "        df[feature] = df[feature].astype('category')\n",
    "    return df\n",
    "\n",
    "train_df = convert_features(train_df,converted_features)\n",
    "test_df = convert_features(test_df,converted_features[:-1])"
   ]
  },
  {
   "cell_type": "code",
   "execution_count": 8,
   "id": "a8d51b1b",
   "metadata": {
    "execution": {
     "iopub.execute_input": "2024-01-09T21:46:47.824728Z",
     "iopub.status.busy": "2024-01-09T21:46:47.823750Z",
     "iopub.status.idle": "2024-01-09T21:46:47.840596Z",
     "shell.execute_reply": "2024-01-09T21:46:47.839135Z"
    },
    "papermill": {
     "duration": 0.038495,
     "end_time": "2024-01-09T21:46:47.843552",
     "exception": false,
     "start_time": "2024-01-09T21:46:47.805057",
     "status": "completed"
    },
    "tags": []
   },
   "outputs": [
    {
     "name": "stdout",
     "output_type": "stream",
     "text": [
      "<class 'pandas.core.frame.DataFrame'>\n",
      "Index: 891 entries, 1 to 891\n",
      "Data columns (total 11 columns):\n",
      " #   Column    Non-Null Count  Dtype   \n",
      "---  ------    --------------  -----   \n",
      " 0   Survived  891 non-null    category\n",
      " 1   Pclass    891 non-null    category\n",
      " 2   Name      891 non-null    object  \n",
      " 3   Sex       891 non-null    category\n",
      " 4   Age       714 non-null    float64 \n",
      " 5   SibSp     891 non-null    category\n",
      " 6   Parch     891 non-null    category\n",
      " 7   Ticket    891 non-null    object  \n",
      " 8   Fare      891 non-null    float64 \n",
      " 9   Cabin     204 non-null    object  \n",
      " 10  Embarked  889 non-null    category\n",
      "dtypes: category(6), float64(2), object(3)\n",
      "memory usage: 48.2+ KB\n"
     ]
    }
   ],
   "source": [
    "train_df.info()"
   ]
  },
  {
   "cell_type": "markdown",
   "id": "ce6f2e9e",
   "metadata": {
    "papermill": {
     "duration": 0.015823,
     "end_time": "2024-01-09T21:46:47.875457",
     "exception": false,
     "start_time": "2024-01-09T21:46:47.859634",
     "status": "completed"
    },
    "tags": []
   },
   "source": [
    "## Distribution of numerical features"
   ]
  },
  {
   "cell_type": "code",
   "execution_count": 9,
   "id": "0614405f",
   "metadata": {
    "execution": {
     "iopub.execute_input": "2024-01-09T21:46:47.910567Z",
     "iopub.status.busy": "2024-01-09T21:46:47.909815Z",
     "iopub.status.idle": "2024-01-09T21:46:47.929415Z",
     "shell.execute_reply": "2024-01-09T21:46:47.928193Z"
    },
    "papermill": {
     "duration": 0.040209,
     "end_time": "2024-01-09T21:46:47.931855",
     "exception": false,
     "start_time": "2024-01-09T21:46:47.891646",
     "status": "completed"
    },
    "tags": []
   },
   "outputs": [
    {
     "data": {
      "text/html": [
       "<div>\n",
       "<style scoped>\n",
       "    .dataframe tbody tr th:only-of-type {\n",
       "        vertical-align: middle;\n",
       "    }\n",
       "\n",
       "    .dataframe tbody tr th {\n",
       "        vertical-align: top;\n",
       "    }\n",
       "\n",
       "    .dataframe thead th {\n",
       "        text-align: right;\n",
       "    }\n",
       "</style>\n",
       "<table border=\"1\" class=\"dataframe\">\n",
       "  <thead>\n",
       "    <tr style=\"text-align: right;\">\n",
       "      <th></th>\n",
       "      <th>Age</th>\n",
       "      <th>Fare</th>\n",
       "    </tr>\n",
       "  </thead>\n",
       "  <tbody>\n",
       "    <tr>\n",
       "      <th>count</th>\n",
       "      <td>714.000000</td>\n",
       "      <td>891.000000</td>\n",
       "    </tr>\n",
       "    <tr>\n",
       "      <th>mean</th>\n",
       "      <td>29.699118</td>\n",
       "      <td>32.204208</td>\n",
       "    </tr>\n",
       "    <tr>\n",
       "      <th>std</th>\n",
       "      <td>14.526497</td>\n",
       "      <td>49.693429</td>\n",
       "    </tr>\n",
       "    <tr>\n",
       "      <th>min</th>\n",
       "      <td>0.420000</td>\n",
       "      <td>0.000000</td>\n",
       "    </tr>\n",
       "    <tr>\n",
       "      <th>25%</th>\n",
       "      <td>20.125000</td>\n",
       "      <td>7.910400</td>\n",
       "    </tr>\n",
       "    <tr>\n",
       "      <th>50%</th>\n",
       "      <td>28.000000</td>\n",
       "      <td>14.454200</td>\n",
       "    </tr>\n",
       "    <tr>\n",
       "      <th>75%</th>\n",
       "      <td>38.000000</td>\n",
       "      <td>31.000000</td>\n",
       "    </tr>\n",
       "    <tr>\n",
       "      <th>max</th>\n",
       "      <td>80.000000</td>\n",
       "      <td>512.329200</td>\n",
       "    </tr>\n",
       "  </tbody>\n",
       "</table>\n",
       "</div>"
      ],
      "text/plain": [
       "              Age        Fare\n",
       "count  714.000000  891.000000\n",
       "mean    29.699118   32.204208\n",
       "std     14.526497   49.693429\n",
       "min      0.420000    0.000000\n",
       "25%     20.125000    7.910400\n",
       "50%     28.000000   14.454200\n",
       "75%     38.000000   31.000000\n",
       "max     80.000000  512.329200"
      ]
     },
     "execution_count": 9,
     "metadata": {},
     "output_type": "execute_result"
    }
   ],
   "source": [
    "train_df.describe()"
   ]
  },
  {
   "cell_type": "markdown",
   "id": "439284f2",
   "metadata": {
    "papermill": {
     "duration": 0.01594,
     "end_time": "2024-01-09T21:46:47.963982",
     "exception": false,
     "start_time": "2024-01-09T21:46:47.948042",
     "status": "completed"
    },
    "tags": []
   },
   "source": [
    "## Distribution of categorical features"
   ]
  },
  {
   "cell_type": "code",
   "execution_count": 10,
   "id": "9eb06d28",
   "metadata": {
    "execution": {
     "iopub.execute_input": "2024-01-09T21:46:48.001547Z",
     "iopub.status.busy": "2024-01-09T21:46:48.000803Z",
     "iopub.status.idle": "2024-01-09T21:46:48.025001Z",
     "shell.execute_reply": "2024-01-09T21:46:48.023719Z"
    },
    "papermill": {
     "duration": 0.047447,
     "end_time": "2024-01-09T21:46:48.027781",
     "exception": false,
     "start_time": "2024-01-09T21:46:47.980334",
     "status": "completed"
    },
    "tags": []
   },
   "outputs": [
    {
     "data": {
      "text/html": [
       "<div>\n",
       "<style scoped>\n",
       "    .dataframe tbody tr th:only-of-type {\n",
       "        vertical-align: middle;\n",
       "    }\n",
       "\n",
       "    .dataframe tbody tr th {\n",
       "        vertical-align: top;\n",
       "    }\n",
       "\n",
       "    .dataframe thead th {\n",
       "        text-align: right;\n",
       "    }\n",
       "</style>\n",
       "<table border=\"1\" class=\"dataframe\">\n",
       "  <thead>\n",
       "    <tr style=\"text-align: right;\">\n",
       "      <th></th>\n",
       "      <th>Survived</th>\n",
       "      <th>Pclass</th>\n",
       "      <th>Sex</th>\n",
       "      <th>SibSp</th>\n",
       "      <th>Parch</th>\n",
       "      <th>Embarked</th>\n",
       "    </tr>\n",
       "  </thead>\n",
       "  <tbody>\n",
       "    <tr>\n",
       "      <th>count</th>\n",
       "      <td>891</td>\n",
       "      <td>891</td>\n",
       "      <td>891</td>\n",
       "      <td>891</td>\n",
       "      <td>891</td>\n",
       "      <td>889</td>\n",
       "    </tr>\n",
       "    <tr>\n",
       "      <th>unique</th>\n",
       "      <td>2</td>\n",
       "      <td>3</td>\n",
       "      <td>2</td>\n",
       "      <td>7</td>\n",
       "      <td>7</td>\n",
       "      <td>3</td>\n",
       "    </tr>\n",
       "    <tr>\n",
       "      <th>top</th>\n",
       "      <td>0</td>\n",
       "      <td>3</td>\n",
       "      <td>male</td>\n",
       "      <td>0</td>\n",
       "      <td>0</td>\n",
       "      <td>S</td>\n",
       "    </tr>\n",
       "    <tr>\n",
       "      <th>freq</th>\n",
       "      <td>549</td>\n",
       "      <td>491</td>\n",
       "      <td>577</td>\n",
       "      <td>608</td>\n",
       "      <td>678</td>\n",
       "      <td>644</td>\n",
       "    </tr>\n",
       "  </tbody>\n",
       "</table>\n",
       "</div>"
      ],
      "text/plain": [
       "        Survived  Pclass   Sex  SibSp  Parch Embarked\n",
       "count        891     891   891    891    891      889\n",
       "unique         2       3     2      7      7        3\n",
       "top            0       3  male      0      0        S\n",
       "freq         549     491   577    608    678      644"
      ]
     },
     "execution_count": 10,
     "metadata": {},
     "output_type": "execute_result"
    }
   ],
   "source": [
    "train_df.describe(include=['category'])"
   ]
  },
  {
   "cell_type": "markdown",
   "id": "7b85d887",
   "metadata": {
    "papermill": {
     "duration": 0.01663,
     "end_time": "2024-01-09T21:46:48.061192",
     "exception": false,
     "start_time": "2024-01-09T21:46:48.044562",
     "status": "completed"
    },
    "tags": []
   },
   "source": [
    "# 4. Exploratory Data Analysis (EDA) <a class=\"anchor\" id=\"4\"></a>\n",
    "\n",
    "### 4.1 Correlating categorical features <a class = \"anchor\" id=\"4.1\"></a>\n",
    "- Catetorical: `Sex`, `Embarked`, `Pclass`, `SibSp`, `Parch`, `Survived`\n",
    "\n",
    "#### Target variable: `Survived`"
   ]
  },
  {
   "cell_type": "code",
   "execution_count": 11,
   "id": "b2a1dddd",
   "metadata": {
    "execution": {
     "iopub.execute_input": "2024-01-09T21:46:48.097133Z",
     "iopub.status.busy": "2024-01-09T21:46:48.095985Z",
     "iopub.status.idle": "2024-01-09T21:46:48.113456Z",
     "shell.execute_reply": "2024-01-09T21:46:48.112247Z"
    },
    "papermill": {
     "duration": 0.038294,
     "end_time": "2024-01-09T21:46:48.116038",
     "exception": false,
     "start_time": "2024-01-09T21:46:48.077744",
     "status": "completed"
    },
    "tags": []
   },
   "outputs": [
    {
     "data": {
      "text/html": [
       "<div>\n",
       "<style scoped>\n",
       "    .dataframe tbody tr th:only-of-type {\n",
       "        vertical-align: middle;\n",
       "    }\n",
       "\n",
       "    .dataframe tbody tr th {\n",
       "        vertical-align: top;\n",
       "    }\n",
       "\n",
       "    .dataframe thead th {\n",
       "        text-align: right;\n",
       "    }\n",
       "</style>\n",
       "<table border=\"1\" class=\"dataframe\">\n",
       "  <thead>\n",
       "    <tr style=\"text-align: right;\">\n",
       "      <th></th>\n",
       "      <th>count</th>\n",
       "      <th>Rate</th>\n",
       "    </tr>\n",
       "    <tr>\n",
       "      <th>Survived</th>\n",
       "      <th></th>\n",
       "      <th></th>\n",
       "    </tr>\n",
       "  </thead>\n",
       "  <tbody>\n",
       "    <tr>\n",
       "      <th>0</th>\n",
       "      <td>549</td>\n",
       "      <td>61.62</td>\n",
       "    </tr>\n",
       "    <tr>\n",
       "      <th>1</th>\n",
       "      <td>342</td>\n",
       "      <td>38.38</td>\n",
       "    </tr>\n",
       "  </tbody>\n",
       "</table>\n",
       "</div>"
      ],
      "text/plain": [
       "          count   Rate\n",
       "Survived              \n",
       "0           549  61.62\n",
       "1           342  38.38"
      ]
     },
     "execution_count": 11,
     "metadata": {},
     "output_type": "execute_result"
    }
   ],
   "source": [
    "survival_rate = train_df['Survived'].value_counts().to_frame()\n",
    "survival_rate['Rate'] = round(train_df['Survived'].value_counts(normalize=True)*100,2)\n",
    "survival_rate"
   ]
  },
  {
   "cell_type": "markdown",
   "id": "94839188",
   "metadata": {
    "papermill": {
     "duration": 0.016559,
     "end_time": "2024-01-09T21:46:48.149880",
     "exception": false,
     "start_time": "2024-01-09T21:46:48.133321",
     "status": "completed"
    },
    "tags": []
   },
   "source": [
    "Only 38.4% of the passengers survived the disaster. So the training data suffers from data imbalance but it not too severe which is why I will not consider techniques like sampling to tackle this problem.\n",
    "\n",
    "#### `Sex`"
   ]
  },
  {
   "cell_type": "code",
   "execution_count": 12,
   "id": "8611fb5c",
   "metadata": {
    "execution": {
     "iopub.execute_input": "2024-01-09T21:46:48.186792Z",
     "iopub.status.busy": "2024-01-09T21:46:48.185601Z",
     "iopub.status.idle": "2024-01-09T21:46:48.204285Z",
     "shell.execute_reply": "2024-01-09T21:46:48.203286Z"
    },
    "papermill": {
     "duration": 0.039274,
     "end_time": "2024-01-09T21:46:48.206539",
     "exception": false,
     "start_time": "2024-01-09T21:46:48.167265",
     "status": "completed"
    },
    "tags": []
   },
   "outputs": [
    {
     "data": {
      "text/html": [
       "<div>\n",
       "<style scoped>\n",
       "    .dataframe tbody tr th:only-of-type {\n",
       "        vertical-align: middle;\n",
       "    }\n",
       "\n",
       "    .dataframe tbody tr th {\n",
       "        vertical-align: top;\n",
       "    }\n",
       "\n",
       "    .dataframe thead th {\n",
       "        text-align: right;\n",
       "    }\n",
       "</style>\n",
       "<table border=\"1\" class=\"dataframe\">\n",
       "  <thead>\n",
       "    <tr style=\"text-align: right;\">\n",
       "      <th></th>\n",
       "      <th>count</th>\n",
       "      <th>Rate</th>\n",
       "    </tr>\n",
       "    <tr>\n",
       "      <th>Sex</th>\n",
       "      <th></th>\n",
       "      <th></th>\n",
       "    </tr>\n",
       "  </thead>\n",
       "  <tbody>\n",
       "    <tr>\n",
       "      <th>male</th>\n",
       "      <td>577</td>\n",
       "      <td>64.76</td>\n",
       "    </tr>\n",
       "    <tr>\n",
       "      <th>female</th>\n",
       "      <td>314</td>\n",
       "      <td>35.24</td>\n",
       "    </tr>\n",
       "  </tbody>\n",
       "</table>\n",
       "</div>"
      ],
      "text/plain": [
       "        count   Rate\n",
       "Sex                 \n",
       "male      577  64.76\n",
       "female    314  35.24"
      ]
     },
     "execution_count": 12,
     "metadata": {},
     "output_type": "execute_result"
    }
   ],
   "source": [
    "sex_rate = train_df['Sex'].value_counts().to_frame()\n",
    "sex_rate['Rate'] = round(train_df['Sex'].value_counts(normalize=True)*100,2)\n",
    "sex_rate"
   ]
  },
  {
   "cell_type": "code",
   "execution_count": 13,
   "id": "6d82a3a2",
   "metadata": {
    "execution": {
     "iopub.execute_input": "2024-01-09T21:46:48.243079Z",
     "iopub.status.busy": "2024-01-09T21:46:48.242178Z",
     "iopub.status.idle": "2024-01-09T21:46:48.520070Z",
     "shell.execute_reply": "2024-01-09T21:46:48.518986Z"
    },
    "papermill": {
     "duration": 0.299439,
     "end_time": "2024-01-09T21:46:48.522858",
     "exception": false,
     "start_time": "2024-01-09T21:46:48.223419",
     "status": "completed"
    },
    "tags": []
   },
   "outputs": [
    {
     "data": {
      "image/png": "[encoded data removed]",
      "text/plain": [
       "<Figure size 640x480 with 1 Axes>"
      ]
     },
     "metadata": {},
     "output_type": "display_data"
    }
   ],
   "source": [
    "sns.countplot(data=train_df,x='Sex', hue='Survived', palette='Set1');"
   ]
  },
  {
   "cell_type": "markdown",
   "id": "eff103a1",
   "metadata": {
    "papermill": {
     "duration": 0.01678,
     "end_time": "2024-01-09T21:46:48.557029",
     "exception": false,
     "start_time": "2024-01-09T21:46:48.540249",
     "status": "completed"
    },
    "tags": []
   },
   "source": [
    "- Remaining Categorical feature columns"
   ]
  },
  {
   "cell_type": "code",
   "execution_count": 14,
   "id": "c64b472d",
   "metadata": {
    "execution": {
     "iopub.execute_input": "2024-01-09T21:46:48.594275Z",
     "iopub.status.busy": "2024-01-09T21:46:48.593781Z",
     "iopub.status.idle": "2024-01-09T21:46:49.871462Z",
     "shell.execute_reply": "2024-01-09T21:46:49.870160Z"
    },
    "papermill": {
     "duration": 1.299416,
     "end_time": "2024-01-09T21:46:49.874181",
     "exception": false,
     "start_time": "2024-01-09T21:46:48.574765",
     "status": "completed"
    },
    "tags": []
   },
   "outputs": [
    {
     "data": {
      "image/png": "[encoded data removed]",
      "text/plain": [
       "<Figure size 1050x700 with 6 Axes>"
      ]
     },
     "metadata": {},
     "output_type": "display_data"
    }
   ],
   "source": [
    "cols = ['Sex', 'Pclass', 'SibSp', 'Parch', 'Embarked']\n",
    "\n",
    "n_rows = 2\n",
    "n_cols = 3\n",
    "\n",
    "fig, axs = plt.subplots(n_rows, n_cols, figsize=(n_cols*3.5,n_rows*3.5))\n",
    "\n",
    "for r in range(0,n_rows):\n",
    "    for c in range(0,n_cols):  \n",
    "        \n",
    "        i = r*n_cols+ c       \n",
    "        if i < len(cols):\n",
    "            ax = axs[r][c]\n",
    "            sns.countplot(train_df, x=cols[i],hue='Survived', ax=ax, palette='Set1')\n",
    "            ax.set_title(f'Figure {i+1}: {cols[i]} vs Survived Rate')\n",
    "            ax.legend(title='', loc='upper right', labels=['Not Survived', 'Survived'])\n",
    "\n",
    "axs.flat[-1].set_visible(False)\n",
    "plt.tight_layout()\n",
    "plt.show()"
   ]
  },
  {
   "cell_type": "markdown",
   "id": "ebfc9617",
   "metadata": {
    "papermill": {
     "duration": 0.018748,
     "end_time": "2024-01-09T21:46:49.913042",
     "exception": false,
     "start_time": "2024-01-09T21:46:49.894294",
     "status": "completed"
    },
    "tags": []
   },
   "source": [
    "Observation:\n",
    "\n",
    "- **Survival Rate**:\n",
    "    - Fig 1: Female survival rate > male\n",
    "    - Fig 2: Most People embarked on Southampton, and also had the highest people not survived\n",
    "    - Fig 3: 1st class higher survival rate\n",
    "    - Fig 4: People going with 0 SibSp are mostly not survived. The number of passenger with 1-2 family members has a better chance of survival\n",
    "    - Fig 5: People going with 0 Parch are mostly not survived"
   ]
  },
  {
   "cell_type": "markdown",
   "id": "85045e88",
   "metadata": {
    "papermill": {
     "duration": 0.01797,
     "end_time": "2024-01-09T21:46:49.949360",
     "exception": false,
     "start_time": "2024-01-09T21:46:49.931390",
     "status": "completed"
    },
    "tags": []
   },
   "source": [
    "## 4.2 EDa for Numerical Features <a class=\"anchor\" id=\"4.2\"></a>\n",
    "\n",
    "- Numerical Features: `Age`, `Fare`\n",
    "\n",
    "#### `Age`"
   ]
  },
  {
   "cell_type": "code",
   "execution_count": 15,
   "id": "561e6e67",
   "metadata": {
    "execution": {
     "iopub.execute_input": "2024-01-09T21:46:49.988734Z",
     "iopub.status.busy": "2024-01-09T21:46:49.988259Z",
     "iopub.status.idle": "2024-01-09T21:46:50.653308Z",
     "shell.execute_reply": "2024-01-09T21:46:50.652004Z"
    },
    "papermill": {
     "duration": 0.688259,
     "end_time": "2024-01-09T21:46:50.656365",
     "exception": false,
     "start_time": "2024-01-09T21:46:49.968106",
     "status": "completed"
    },
    "tags": []
   },
   "outputs": [
    {
     "data": {
      "image/png": "[encoded data removed]",
      "text/plain": [
       "<Figure size 640x480 with 1 Axes>"
      ]
     },
     "metadata": {},
     "output_type": "display_data"
    }
   ],
   "source": [
    "sns.histplot(data=train_df, x='Age', hue='Survived', bins = 40, kde=True);"
   ]
  },
  {
   "cell_type": "markdown",
   "id": "bf5bbd85",
   "metadata": {
    "papermill": {
     "duration": 0.020743,
     "end_time": "2024-01-09T21:46:50.697062",
     "exception": false,
     "start_time": "2024-01-09T21:46:50.676319",
     "status": "completed"
    },
    "tags": []
   },
   "source": [
    "- Majority passengers were in the age range of 18 - 40\n",
    "- Children below 10 years of age had more chance to survive than any other age group\n",
    "\n",
    "#### `Fare`"
   ]
  },
  {
   "cell_type": "code",
   "execution_count": 16,
   "id": "1f4901b6",
   "metadata": {
    "execution": {
     "iopub.execute_input": "2024-01-09T21:46:50.739158Z",
     "iopub.status.busy": "2024-01-09T21:46:50.737650Z",
     "iopub.status.idle": "2024-01-09T21:46:50.750910Z",
     "shell.execute_reply": "2024-01-09T21:46:50.749594Z"
    },
    "papermill": {
     "duration": 0.036761,
     "end_time": "2024-01-09T21:46:50.753642",
     "exception": false,
     "start_time": "2024-01-09T21:46:50.716881",
     "status": "completed"
    },
    "tags": []
   },
   "outputs": [
    {
     "data": {
      "text/plain": [
       "count    891.000000\n",
       "mean      32.204208\n",
       "std       49.693429\n",
       "min        0.000000\n",
       "25%        7.910400\n",
       "50%       14.454200\n",
       "75%       31.000000\n",
       "max      512.329200\n",
       "Name: Fare, dtype: float64"
      ]
     },
     "execution_count": 16,
     "metadata": {},
     "output_type": "execute_result"
    }
   ],
   "source": [
    "train_df['Fare'].describe()"
   ]
  },
  {
   "cell_type": "code",
   "execution_count": 17,
   "id": "8d8d49b0",
   "metadata": {
    "execution": {
     "iopub.execute_input": "2024-01-09T21:46:50.794965Z",
     "iopub.status.busy": "2024-01-09T21:46:50.793587Z",
     "iopub.status.idle": "2024-01-09T21:46:51.304747Z",
     "shell.execute_reply": "2024-01-09T21:46:51.303350Z"
    },
    "papermill": {
     "duration": 0.534462,
     "end_time": "2024-01-09T21:46:51.307432",
     "exception": false,
     "start_time": "2024-01-09T21:46:50.772970",
     "status": "completed"
    },
    "tags": []
   },
   "outputs": [
    {
     "data": {
      "image/png": "[encoded data removed]",
      "text/plain": [
       "<Figure size 640x480 with 1 Axes>"
      ]
     },
     "metadata": {},
     "output_type": "display_data"
    }
   ],
   "source": [
    "sns.histplot(data=train_df, x='Fare', hue='Survived', bins = 40, kde=True);"
   ]
  },
  {
   "cell_type": "code",
   "execution_count": 18,
   "id": "02670a32",
   "metadata": {
    "execution": {
     "iopub.execute_input": "2024-01-09T21:46:51.349925Z",
     "iopub.status.busy": "2024-01-09T21:46:51.348934Z",
     "iopub.status.idle": "2024-01-09T21:46:51.594487Z",
     "shell.execute_reply": "2024-01-09T21:46:51.593234Z"
    },
    "papermill": {
     "duration": 0.270363,
     "end_time": "2024-01-09T21:46:51.597373",
     "exception": false,
     "start_time": "2024-01-09T21:46:51.327010",
     "status": "completed"
    },
    "tags": []
   },
   "outputs": [
    {
     "data": {
      "image/png": "[encoded data removed]",
      "text/plain": [
       "<Figure size 640x480 with 1 Axes>"
      ]
     },
     "metadata": {},
     "output_type": "display_data"
    }
   ],
   "source": [
    "fare_categories = ['Economic', 'Standard', 'Expensive', 'Luxury']\n",
    "quartitle_data = pd.qcut(train_df['Fare'], q=4, labels=fare_categories)\n",
    "\n",
    "sns.countplot(data=train_df, x=quartitle_data, hue='Survived');"
   ]
  },
  {
   "cell_type": "markdown",
   "id": "be2ae2b7",
   "metadata": {
    "papermill": {
     "duration": 0.019598,
     "end_time": "2024-01-09T21:46:51.637516",
     "exception": false,
     "start_time": "2024-01-09T21:46:51.617918",
     "status": "completed"
    },
    "tags": []
   },
   "source": [
    "- Distribution of Fare\n",
    "    - Fare does not follow a normal distribution and has a huge spike at the price range (`0-100$`)\n",
    "    - The distribution is skewed towards the right with `75%` of the fare paid under `$31` and a maximum fare of `$512`\n",
    "- Quartile plot\n",
    "    - Passenger with Luxury & Expensive Fare will have a higher chance of survival\n",
    "    - The more the fare, the higher the chance of survival as shown in the quartile plot\n",
    "\n",
    "# 5. Feature Engineering <a class=\"anchor\" id=\"5\"></a>\n",
    "\n",
    "## Name"
   ]
  },
  {
   "cell_type": "code",
   "execution_count": 19,
   "id": "09899bec",
   "metadata": {
    "execution": {
     "iopub.execute_input": "2024-01-09T21:46:51.680642Z",
     "iopub.status.busy": "2024-01-09T21:46:51.679892Z",
     "iopub.status.idle": "2024-01-09T21:46:51.691202Z",
     "shell.execute_reply": "2024-01-09T21:46:51.689878Z"
    },
    "papermill": {
     "duration": 0.036369,
     "end_time": "2024-01-09T21:46:51.693915",
     "exception": false,
     "start_time": "2024-01-09T21:46:51.657546",
     "status": "completed"
    },
    "tags": []
   },
   "outputs": [
    {
     "data": {
      "text/plain": [
       "PassengerId\n",
       "1                                Braund, Mr. Owen Harris\n",
       "2      Cumings, Mrs. John Bradley (Florence Briggs Th...\n",
       "3                                 Heikkinen, Miss. Laina\n",
       "4           Futrelle, Mrs. Jacques Heath (Lily May Peel)\n",
       "5                               Allen, Mr. William Henry\n",
       "                             ...                        \n",
       "887                                Montvila, Rev. Juozas\n",
       "888                         Graham, Miss. Margaret Edith\n",
       "889             Johnston, Miss. Catherine Helen \"Carrie\"\n",
       "890                                Behr, Mr. Karl Howell\n",
       "891                                  Dooley, Mr. Patrick\n",
       "Name: Name, Length: 891, dtype: object"
      ]
     },
     "execution_count": 19,
     "metadata": {},
     "output_type": "execute_result"
    }
   ],
   "source": [
    "train_df['Name']"
   ]
  },
  {
   "cell_type": "markdown",
   "id": "ab564b60",
   "metadata": {
    "papermill": {
     "duration": 0.020603,
     "end_time": "2024-01-09T21:46:51.735528",
     "exception": false,
     "start_time": "2024-01-09T21:46:51.714925",
     "status": "completed"
    },
    "tags": []
   },
   "source": [
    "- Most of the names have a title associated with them. We can extract the title from each name and then analyze and categorize it."
   ]
  },
  {
   "cell_type": "code",
   "execution_count": 20,
   "id": "da067ce7",
   "metadata": {
    "execution": {
     "iopub.execute_input": "2024-01-09T21:46:51.779059Z",
     "iopub.status.busy": "2024-01-09T21:46:51.778550Z",
     "iopub.status.idle": "2024-01-09T21:46:51.788406Z",
     "shell.execute_reply": "2024-01-09T21:46:51.786801Z"
    },
    "papermill": {
     "duration": 0.034621,
     "end_time": "2024-01-09T21:46:51.790985",
     "exception": false,
     "start_time": "2024-01-09T21:46:51.756364",
     "status": "completed"
    },
    "tags": []
   },
   "outputs": [],
   "source": [
    "def extract_title(name):\n",
    "    p = re.compile(r',([\\w\\s]+)\\.')\n",
    "    return p.search(name).groups(1)[0].strip()\n",
    "\n",
    "train_df['Title'] = train_df['Name'].apply(extract_title)"
   ]
  },
  {
   "cell_type": "code",
   "execution_count": 21,
   "id": "74f96d07",
   "metadata": {
    "execution": {
     "iopub.execute_input": "2024-01-09T21:46:51.834873Z",
     "iopub.status.busy": "2024-01-09T21:46:51.834350Z",
     "iopub.status.idle": "2024-01-09T21:46:51.845019Z",
     "shell.execute_reply": "2024-01-09T21:46:51.843775Z"
    },
    "papermill": {
     "duration": 0.036112,
     "end_time": "2024-01-09T21:46:51.847486",
     "exception": false,
     "start_time": "2024-01-09T21:46:51.811374",
     "status": "completed"
    },
    "tags": []
   },
   "outputs": [
    {
     "data": {
      "text/plain": [
       "Title\n",
       "Mr              517\n",
       "Miss            182\n",
       "Mrs             125\n",
       "Master           40\n",
       "Dr                7\n",
       "Rev               6\n",
       "Mlle              2\n",
       "Major             2\n",
       "Col               2\n",
       "the Countess      1\n",
       "Capt              1\n",
       "Ms                1\n",
       "Sir               1\n",
       "Lady              1\n",
       "Mme               1\n",
       "Don               1\n",
       "Jonkheer          1\n",
       "Name: count, dtype: int64"
      ]
     },
     "execution_count": 21,
     "metadata": {},
     "output_type": "execute_result"
    }
   ],
   "source": [
    "train_df['Title'].value_counts()"
   ]
  },
  {
   "cell_type": "code",
   "execution_count": 22,
   "id": "41a49580",
   "metadata": {
    "execution": {
     "iopub.execute_input": "2024-01-09T21:46:51.890167Z",
     "iopub.status.busy": "2024-01-09T21:46:51.889648Z",
     "iopub.status.idle": "2024-01-09T21:46:51.901669Z",
     "shell.execute_reply": "2024-01-09T21:46:51.900491Z"
    },
    "papermill": {
     "duration": 0.036443,
     "end_time": "2024-01-09T21:46:51.904294",
     "exception": false,
     "start_time": "2024-01-09T21:46:51.867851",
     "status": "completed"
    },
    "tags": []
   },
   "outputs": [
    {
     "data": {
      "text/plain": [
       "Title\n",
       "Mr        240\n",
       "Miss       78\n",
       "Mrs        72\n",
       "Master     21\n",
       "Col         2\n",
       "Rev         2\n",
       "Ms          1\n",
       "Dr          1\n",
       "Dona        1\n",
       "Name: count, dtype: int64"
      ]
     },
     "execution_count": 22,
     "metadata": {},
     "output_type": "execute_result"
    }
   ],
   "source": [
    "test_df['Title'] = test_df['Name'].apply(extract_title)\n",
    "test_df['Title'].value_counts()"
   ]
  },
  {
   "cell_type": "markdown",
   "id": "67471f24",
   "metadata": {
    "papermill": {
     "duration": 0.019858,
     "end_time": "2024-01-09T21:46:51.944543",
     "exception": false,
     "start_time": "2024-01-09T21:46:51.924685",
     "status": "completed"
    },
    "tags": []
   },
   "source": [
    "- 4 titles: `Mr`, `Miss`, `Mrs`, `Master` are the majority so we will assign the remaining titles to 1 title as `Others`"
   ]
  },
  {
   "cell_type": "code",
   "execution_count": 23,
   "id": "dc46e083",
   "metadata": {
    "execution": {
     "iopub.execute_input": "2024-01-09T21:46:51.988623Z",
     "iopub.status.busy": "2024-01-09T21:46:51.987678Z",
     "iopub.status.idle": "2024-01-09T21:46:52.013490Z",
     "shell.execute_reply": "2024-01-09T21:46:52.012070Z"
    },
    "papermill": {
     "duration": 0.051108,
     "end_time": "2024-01-09T21:46:52.015839",
     "exception": false,
     "start_time": "2024-01-09T21:46:51.964731",
     "status": "completed"
    },
    "tags": []
   },
   "outputs": [],
   "source": [
    "def group_titles(col):\n",
    "    title = col['Title']\n",
    "    if title in ['Mr', 'Miss', 'Mrs', 'Master']:\n",
    "        return title\n",
    "    elif title in ['Don', 'Major', 'Capt', 'Jonkheer', 'Rev', 'Col']:\n",
    "        return 'Mr'\n",
    "    elif title in ['Countess', 'Mme']:\n",
    "        return 'Mrs'\n",
    "    elif title in ['Mlle', 'Ms']:\n",
    "        return 'Miss'\n",
    "    elif title =='Dr':\n",
    "        if col['Sex']=='Male':\n",
    "            return 'Mr'\n",
    "        else:\n",
    "            return 'Mrs'\n",
    "    else:\n",
    "        return 'Others'\n",
    "    \n",
    "train_df['Title'] = train_df.apply(group_titles, axis=1)\n",
    "test_df['Title'] = test_df.apply(group_titles, axis=1)"
   ]
  },
  {
   "cell_type": "code",
   "execution_count": 24,
   "id": "d40894a5",
   "metadata": {
    "execution": {
     "iopub.execute_input": "2024-01-09T21:46:52.058240Z",
     "iopub.status.busy": "2024-01-09T21:46:52.057729Z",
     "iopub.status.idle": "2024-01-09T21:46:52.297783Z",
     "shell.execute_reply": "2024-01-09T21:46:52.296544Z"
    },
    "papermill": {
     "duration": 0.264451,
     "end_time": "2024-01-09T21:46:52.300578",
     "exception": false,
     "start_time": "2024-01-09T21:46:52.036127",
     "status": "completed"
    },
    "tags": []
   },
   "outputs": [
    {
     "data": {
      "image/png": "[encoded data removed]",
      "text/plain": [
       "<Figure size 640x480 with 1 Axes>"
      ]
     },
     "metadata": {},
     "output_type": "display_data"
    }
   ],
   "source": [
    "sns.countplot(data=train_df, x='Title', hue='Survived');"
   ]
  },
  {
   "cell_type": "markdown",
   "id": "d8cb1806",
   "metadata": {
    "papermill": {
     "duration": 0.02006,
     "end_time": "2024-01-09T21:46:52.341741",
     "exception": false,
     "start_time": "2024-01-09T21:46:52.321681",
     "status": "completed"
    },
    "tags": []
   },
   "source": [
    "## Family\n",
    "- `SibSP`, `Parch`"
   ]
  },
  {
   "cell_type": "code",
   "execution_count": 25,
   "id": "b8d2f479",
   "metadata": {
    "execution": {
     "iopub.execute_input": "2024-01-09T21:46:52.386338Z",
     "iopub.status.busy": "2024-01-09T21:46:52.385166Z",
     "iopub.status.idle": "2024-01-09T21:46:52.395542Z",
     "shell.execute_reply": "2024-01-09T21:46:52.394229Z"
    },
    "papermill": {
     "duration": 0.035384,
     "end_time": "2024-01-09T21:46:52.397642",
     "exception": false,
     "start_time": "2024-01-09T21:46:52.362258",
     "status": "completed"
    },
    "tags": []
   },
   "outputs": [],
   "source": [
    "train_df['Family_Size'] = train_df['SibSp'].astype(int) + train_df['Parch'].astype(int) + 1\n",
    "test_df['Family_Size'] = test_df['SibSp'].astype(int) + test_df['Parch'].astype(int) + 1"
   ]
  },
  {
   "cell_type": "code",
   "execution_count": 26,
   "id": "7cd1015f",
   "metadata": {
    "execution": {
     "iopub.execute_input": "2024-01-09T21:46:52.441815Z",
     "iopub.status.busy": "2024-01-09T21:46:52.440855Z",
     "iopub.status.idle": "2024-01-09T21:46:52.452122Z",
     "shell.execute_reply": "2024-01-09T21:46:52.450998Z"
    },
    "papermill": {
     "duration": 0.036676,
     "end_time": "2024-01-09T21:46:52.454967",
     "exception": false,
     "start_time": "2024-01-09T21:46:52.418291",
     "status": "completed"
    },
    "tags": []
   },
   "outputs": [],
   "source": [
    "train_df['Family_Cat'] = pd.cut(train_df['Family_Size'], bins=[0,1,4,6,20], labels=['Solo', 'Small', 'Medium', 'Large'])\n",
    "test_df['Family_Cat'] = pd.cut(test_df['Family_Size'], bins=[0,1,4,6,20], labels=['Solo', 'Small', 'Medium', 'Large'])"
   ]
  },
  {
   "cell_type": "code",
   "execution_count": 27,
   "id": "f84bfd52",
   "metadata": {
    "execution": {
     "iopub.execute_input": "2024-01-09T21:46:52.498511Z",
     "iopub.status.busy": "2024-01-09T21:46:52.497556Z",
     "iopub.status.idle": "2024-01-09T21:46:52.785759Z",
     "shell.execute_reply": "2024-01-09T21:46:52.784522Z"
    },
    "papermill": {
     "duration": 0.313134,
     "end_time": "2024-01-09T21:46:52.788677",
     "exception": false,
     "start_time": "2024-01-09T21:46:52.475543",
     "status": "completed"
    },
    "tags": []
   },
   "outputs": [
    {
     "data": {
      "image/png": "[encoded data removed]",
      "text/plain": [
       "<Figure size 640x480 with 1 Axes>"
      ]
     },
     "metadata": {},
     "output_type": "display_data"
    }
   ],
   "source": [
    "sns.countplot(data=train_df, x='Family_Cat', hue='Survived');"
   ]
  },
  {
   "cell_type": "markdown",
   "id": "cc188a7d",
   "metadata": {
    "papermill": {
     "duration": 0.022019,
     "end_time": "2024-01-09T21:46:52.831945",
     "exception": false,
     "start_time": "2024-01-09T21:46:52.809926",
     "status": "completed"
    },
    "tags": []
   },
   "source": [
    "# 6. Data Wrangling <a class=\"anchor\" id=\"6\"></a>"
   ]
  },
  {
   "cell_type": "code",
   "execution_count": 28,
   "id": "5499144d",
   "metadata": {
    "execution": {
     "iopub.execute_input": "2024-01-09T21:46:52.876831Z",
     "iopub.status.busy": "2024-01-09T21:46:52.876278Z",
     "iopub.status.idle": "2024-01-09T21:46:52.883664Z",
     "shell.execute_reply": "2024-01-09T21:46:52.882296Z"
    },
    "papermill": {
     "duration": 0.032976,
     "end_time": "2024-01-09T21:46:52.886257",
     "exception": false,
     "start_time": "2024-01-09T21:46:52.853281",
     "status": "completed"
    },
    "tags": []
   },
   "outputs": [
    {
     "name": "stdout",
     "output_type": "stream",
     "text": [
      "['Age', 'Fare', 'Sex', 'Pclass', 'Embarked', 'Title', 'Family_Cat']\n"
     ]
    }
   ],
   "source": [
    "num_features = ['Age', 'Fare']\n",
    "cat_features = ['Sex', 'Pclass', 'Embarked', 'Title', 'Family_Cat']\n",
    "feature_cols = num_features + cat_features\n",
    "print(feature_cols)"
   ]
  },
  {
   "cell_type": "code",
   "execution_count": 29,
   "id": "12aa4b8a",
   "metadata": {
    "execution": {
     "iopub.execute_input": "2024-01-09T21:46:52.930793Z",
     "iopub.status.busy": "2024-01-09T21:46:52.929734Z",
     "iopub.status.idle": "2024-01-09T21:46:52.943241Z",
     "shell.execute_reply": "2024-01-09T21:46:52.941621Z"
    },
    "papermill": {
     "duration": 0.038681,
     "end_time": "2024-01-09T21:46:52.945921",
     "exception": false,
     "start_time": "2024-01-09T21:46:52.907240",
     "status": "completed"
    },
    "tags": []
   },
   "outputs": [
    {
     "name": "stdout",
     "output_type": "stream",
     "text": [
      "Age has 177 missing values and 19.87%\n",
      "Embarked has 2 missing values and 0.22%\n",
      "Age has 86 missing values and 20.57%\n",
      "Fare has 1 missing values and 0.24%\n"
     ]
    }
   ],
   "source": [
    "def display_missing(df, cols):\n",
    "    for col in cols:\n",
    "        missing_count = df[col].isnull().sum()\n",
    "        if missing_count != 0:\n",
    "            print(f'{col} has {missing_count} missing values and {round(missing_count*100/df.shape[0],2)}%')\n",
    "\n",
    "display_missing(train_df, feature_cols)\n",
    "display_missing(test_df, feature_cols)"
   ]
  },
  {
   "cell_type": "markdown",
   "id": "44009798",
   "metadata": {
    "papermill": {
     "duration": 0.020757,
     "end_time": "2024-01-09T21:46:52.987696",
     "exception": false,
     "start_time": "2024-01-09T21:46:52.966939",
     "status": "completed"
    },
    "tags": []
   },
   "source": [
    "### Fill missing values\n",
    "\n",
    "#### `Age`\n",
    "\n",
    "- Fill missing values with the median age of similar rows according to `Pclass` and `Sex`"
   ]
  },
  {
   "cell_type": "code",
   "execution_count": 30,
   "id": "05deb4e2",
   "metadata": {
    "execution": {
     "iopub.execute_input": "2024-01-09T21:46:53.032198Z",
     "iopub.status.busy": "2024-01-09T21:46:53.031700Z",
     "iopub.status.idle": "2024-01-09T21:46:53.053612Z",
     "shell.execute_reply": "2024-01-09T21:46:53.052223Z"
    },
    "papermill": {
     "duration": 0.047696,
     "end_time": "2024-01-09T21:46:53.056568",
     "exception": false,
     "start_time": "2024-01-09T21:46:53.008872",
     "status": "completed"
    },
    "tags": []
   },
   "outputs": [
    {
     "data": {
      "text/html": [
       "<div>\n",
       "<style scoped>\n",
       "    .dataframe tbody tr th:only-of-type {\n",
       "        vertical-align: middle;\n",
       "    }\n",
       "\n",
       "    .dataframe tbody tr th {\n",
       "        vertical-align: top;\n",
       "    }\n",
       "\n",
       "    .dataframe thead th {\n",
       "        text-align: right;\n",
       "    }\n",
       "</style>\n",
       "<table border=\"1\" class=\"dataframe\">\n",
       "  <thead>\n",
       "    <tr style=\"text-align: right;\">\n",
       "      <th></th>\n",
       "      <th></th>\n",
       "      <th></th>\n",
       "      <th>Age</th>\n",
       "    </tr>\n",
       "    <tr>\n",
       "      <th>Sex</th>\n",
       "      <th>Pclass</th>\n",
       "      <th>Parch</th>\n",
       "      <th></th>\n",
       "    </tr>\n",
       "  </thead>\n",
       "  <tbody>\n",
       "    <tr>\n",
       "      <th rowspan=\"14\" valign=\"top\">female</th>\n",
       "      <th rowspan=\"3\" valign=\"top\">1</th>\n",
       "      <th>0</th>\n",
       "      <td>35.0</td>\n",
       "    </tr>\n",
       "    <tr>\n",
       "      <th>1</th>\n",
       "      <td>41.5</td>\n",
       "    </tr>\n",
       "    <tr>\n",
       "      <th>2</th>\n",
       "      <td>22.0</td>\n",
       "    </tr>\n",
       "    <tr>\n",
       "      <th rowspan=\"4\" valign=\"top\">2</th>\n",
       "      <th>0</th>\n",
       "      <td>30.0</td>\n",
       "    </tr>\n",
       "    <tr>\n",
       "      <th>1</th>\n",
       "      <td>25.0</td>\n",
       "    </tr>\n",
       "    <tr>\n",
       "      <th>2</th>\n",
       "      <td>22.0</td>\n",
       "    </tr>\n",
       "    <tr>\n",
       "      <th>3</th>\n",
       "      <td>39.0</td>\n",
       "    </tr>\n",
       "    <tr>\n",
       "      <th rowspan=\"7\" valign=\"top\">3</th>\n",
       "      <th>0</th>\n",
       "      <td>22.0</td>\n",
       "    </tr>\n",
       "    <tr>\n",
       "      <th>1</th>\n",
       "      <td>9.0</td>\n",
       "    </tr>\n",
       "    <tr>\n",
       "      <th>2</th>\n",
       "      <td>9.5</td>\n",
       "    </tr>\n",
       "    <tr>\n",
       "      <th>3</th>\n",
       "      <td>36.0</td>\n",
       "    </tr>\n",
       "    <tr>\n",
       "      <th>4</th>\n",
       "      <td>37.0</td>\n",
       "    </tr>\n",
       "    <tr>\n",
       "      <th>5</th>\n",
       "      <td>39.0</td>\n",
       "    </tr>\n",
       "    <tr>\n",
       "      <th>6</th>\n",
       "      <td>43.0</td>\n",
       "    </tr>\n",
       "    <tr>\n",
       "      <th rowspan=\"13\" valign=\"top\">male</th>\n",
       "      <th rowspan=\"4\" valign=\"top\">1</th>\n",
       "      <th>0</th>\n",
       "      <td>42.0</td>\n",
       "    </tr>\n",
       "    <tr>\n",
       "      <th>1</th>\n",
       "      <td>43.5</td>\n",
       "    </tr>\n",
       "    <tr>\n",
       "      <th>2</th>\n",
       "      <td>18.0</td>\n",
       "    </tr>\n",
       "    <tr>\n",
       "      <th>4</th>\n",
       "      <td>64.0</td>\n",
       "    </tr>\n",
       "    <tr>\n",
       "      <th rowspan=\"3\" valign=\"top\">2</th>\n",
       "      <th>0</th>\n",
       "      <td>31.0</td>\n",
       "    </tr>\n",
       "    <tr>\n",
       "      <th>1</th>\n",
       "      <td>13.5</td>\n",
       "    </tr>\n",
       "    <tr>\n",
       "      <th>2</th>\n",
       "      <td>25.0</td>\n",
       "    </tr>\n",
       "    <tr>\n",
       "      <th rowspan=\"6\" valign=\"top\">3</th>\n",
       "      <th>0</th>\n",
       "      <td>26.0</td>\n",
       "    </tr>\n",
       "    <tr>\n",
       "      <th>1</th>\n",
       "      <td>14.0</td>\n",
       "    </tr>\n",
       "    <tr>\n",
       "      <th>2</th>\n",
       "      <td>9.0</td>\n",
       "    </tr>\n",
       "    <tr>\n",
       "      <th>3</th>\n",
       "      <td>16.0</td>\n",
       "    </tr>\n",
       "    <tr>\n",
       "      <th>4</th>\n",
       "      <td>40.0</td>\n",
       "    </tr>\n",
       "    <tr>\n",
       "      <th>5</th>\n",
       "      <td>39.0</td>\n",
       "    </tr>\n",
       "  </tbody>\n",
       "</table>\n",
       "</div>"
      ],
      "text/plain": [
       "                      Age\n",
       "Sex    Pclass Parch      \n",
       "female 1      0      35.0\n",
       "              1      41.5\n",
       "              2      22.0\n",
       "       2      0      30.0\n",
       "              1      25.0\n",
       "              2      22.0\n",
       "              3      39.0\n",
       "       3      0      22.0\n",
       "              1       9.0\n",
       "              2       9.5\n",
       "              3      36.0\n",
       "              4      37.0\n",
       "              5      39.0\n",
       "              6      43.0\n",
       "male   1      0      42.0\n",
       "              1      43.5\n",
       "              2      18.0\n",
       "              4      64.0\n",
       "       2      0      31.0\n",
       "              1      13.5\n",
       "              2      25.0\n",
       "       3      0      26.0\n",
       "              1      14.0\n",
       "              2       9.0\n",
       "              3      16.0\n",
       "              4      40.0\n",
       "              5      39.0"
      ]
     },
     "execution_count": 30,
     "metadata": {},
     "output_type": "execute_result"
    }
   ],
   "source": [
    "age_by_sex_pclass = train_df.groupby(['Sex', 'Pclass','Parch'], observed=True)['Age'].median().to_frame()\n",
    "age_by_sex_pclass"
   ]
  },
  {
   "cell_type": "code",
   "execution_count": 31,
   "id": "c0aa5932",
   "metadata": {
    "execution": {
     "iopub.execute_input": "2024-01-09T21:46:53.103552Z",
     "iopub.status.busy": "2024-01-09T21:46:53.102570Z",
     "iopub.status.idle": "2024-01-09T21:46:53.166762Z",
     "shell.execute_reply": "2024-01-09T21:46:53.164873Z"
    },
    "papermill": {
     "duration": 0.090082,
     "end_time": "2024-01-09T21:46:53.169525",
     "exception": false,
     "start_time": "2024-01-09T21:46:53.079443",
     "status": "completed"
    },
    "tags": []
   },
   "outputs": [
    {
     "name": "stderr",
     "output_type": "stream",
     "text": [
      "/opt/conda/lib/python3.10/site-packages/numpy/lib/nanfunctions.py:1215: RuntimeWarning: Mean of empty slice\n",
      "  return np.nanmean(a, axis, out=out, keepdims=keepdims)\n",
      "/opt/conda/lib/python3.10/site-packages/numpy/lib/nanfunctions.py:1215: RuntimeWarning: Mean of empty slice\n",
      "  return np.nanmean(a, axis, out=out, keepdims=keepdims)\n",
      "/opt/conda/lib/python3.10/site-packages/numpy/lib/nanfunctions.py:1215: RuntimeWarning: Mean of empty slice\n",
      "  return np.nanmean(a, axis, out=out, keepdims=keepdims)\n"
     ]
    }
   ],
   "source": [
    "# Fill missing values in 'Age' with the median of 'Sex' and 'Pclass' groups\n",
    "train_df['Age'] = train_df.groupby(['Sex', 'Pclass','Parch'], observed=True)['Age'].apply(lambda x: x.fillna(x.median())).reset_index(level=['Sex', 'Pclass','Parch'], drop=True)\n",
    "test_df['Age'] = test_df.groupby(['Sex', 'Pclass','Parch'], observed=True)['Age'].apply(lambda x: x.fillna(x.median())).reset_index(level=['Sex', 'Pclass','Parch'], drop=True)"
   ]
  },
  {
   "cell_type": "code",
   "execution_count": 32,
   "id": "55a3495c",
   "metadata": {
    "execution": {
     "iopub.execute_input": "2024-01-09T21:46:53.215653Z",
     "iopub.status.busy": "2024-01-09T21:46:53.214687Z",
     "iopub.status.idle": "2024-01-09T21:46:53.225997Z",
     "shell.execute_reply": "2024-01-09T21:46:53.224477Z"
    },
    "papermill": {
     "duration": 0.037608,
     "end_time": "2024-01-09T21:46:53.228795",
     "exception": false,
     "start_time": "2024-01-09T21:46:53.191187",
     "status": "completed"
    },
    "tags": []
   },
   "outputs": [
    {
     "name": "stdout",
     "output_type": "stream",
     "text": [
      "Embarked has 2 missing values and 0.22%\n",
      "Age has 3 missing values and 0.72%\n",
      "Fare has 1 missing values and 0.24%\n"
     ]
    }
   ],
   "source": [
    "display_missing(train_df, feature_cols)\n",
    "display_missing(test_df, feature_cols)"
   ]
  },
  {
   "cell_type": "code",
   "execution_count": 33,
   "id": "9e5d8ed9",
   "metadata": {
    "execution": {
     "iopub.execute_input": "2024-01-09T21:46:53.274307Z",
     "iopub.status.busy": "2024-01-09T21:46:53.273832Z",
     "iopub.status.idle": "2024-01-09T21:46:53.282821Z",
     "shell.execute_reply": "2024-01-09T21:46:53.281660Z"
    },
    "papermill": {
     "duration": 0.035482,
     "end_time": "2024-01-09T21:46:53.285885",
     "exception": false,
     "start_time": "2024-01-09T21:46:53.250403",
     "status": "completed"
    },
    "tags": []
   },
   "outputs": [],
   "source": [
    "X = train_df[feature_cols]\n",
    "y = train_df['Survived']\n",
    "\n",
    "X_test = test_df[feature_cols]"
   ]
  },
  {
   "cell_type": "code",
   "execution_count": 34,
   "id": "44ff3b54",
   "metadata": {
    "execution": {
     "iopub.execute_input": "2024-01-09T21:46:53.332151Z",
     "iopub.status.busy": "2024-01-09T21:46:53.331622Z",
     "iopub.status.idle": "2024-01-09T21:46:53.955483Z",
     "shell.execute_reply": "2024-01-09T21:46:53.954166Z"
    },
    "papermill": {
     "duration": 0.651751,
     "end_time": "2024-01-09T21:46:53.959248",
     "exception": false,
     "start_time": "2024-01-09T21:46:53.307497",
     "status": "completed"
    },
    "tags": []
   },
   "outputs": [],
   "source": [
    "# preprocess pipeline\n",
    "from sklearn.pipeline import Pipeline\n",
    "from sklearn.preprocessing import StandardScaler, OneHotEncoder\n",
    "from sklearn.impute import SimpleImputer\n",
    "from sklearn.compose import ColumnTransformer\n",
    "\n",
    "num_transformer = Pipeline(steps=[\n",
    "    ('imputer', SimpleImputer(strategy='median')),\n",
    "    ('scaler', StandardScaler())\n",
    "])\n",
    "\n",
    "cat_transformer = Pipeline(steps=[\n",
    "    ('imputer', SimpleImputer(strategy='most_frequent')),\n",
    "    ('encoder', OneHotEncoder(handle_unknown='ignore'))\n",
    "])"
   ]
  },
  {
   "cell_type": "code",
   "execution_count": 35,
   "id": "18290352",
   "metadata": {
    "execution": {
     "iopub.execute_input": "2024-01-09T21:46:54.005920Z",
     "iopub.status.busy": "2024-01-09T21:46:54.004690Z",
     "iopub.status.idle": "2024-01-09T21:46:54.010578Z",
     "shell.execute_reply": "2024-01-09T21:46:54.009556Z"
    },
    "papermill": {
     "duration": 0.032003,
     "end_time": "2024-01-09T21:46:54.013447",
     "exception": false,
     "start_time": "2024-01-09T21:46:53.981444",
     "status": "completed"
    },
    "tags": []
   },
   "outputs": [],
   "source": [
    "preprocessor = ColumnTransformer(transformers=[\n",
    "    ('num', num_transformer, num_features),\n",
    "    ('cat', cat_transformer, cat_features)\n",
    "])"
   ]
  },
  {
   "cell_type": "code",
   "execution_count": 36,
   "id": "c634f7c2",
   "metadata": {
    "execution": {
     "iopub.execute_input": "2024-01-09T21:46:54.060256Z",
     "iopub.status.busy": "2024-01-09T21:46:54.059412Z",
     "iopub.status.idle": "2024-01-09T21:46:54.118947Z",
     "shell.execute_reply": "2024-01-09T21:46:54.117661Z"
    },
    "papermill": {
     "duration": 0.086087,
     "end_time": "2024-01-09T21:46:54.121510",
     "exception": false,
     "start_time": "2024-01-09T21:46:54.035423",
     "status": "completed"
    },
    "tags": []
   },
   "outputs": [
    {
     "data": {
      "text/html": [
       "<style>#sk-container-id-1 {color: black;background-color: white;}#sk-container-id-1 pre{padding: 0;}#sk-container-id-1 div.sk-toggleable {background-color: white;}#sk-container-id-1 label.sk-toggleable__label {cursor: pointer;display: block;width: 100%;margin-bottom: 0;padding: 0.3em;box-sizing: border-box;text-align: center;}#sk-container-id-1 label.sk-toggleable__label-arrow:before {content: \"▸\";float: left;margin-right: 0.25em;color: #696969;}#sk-container-id-1 label.sk-toggleable__label-arrow:hover:before {color: black;}#sk-container-id-1 div.sk-estimator:hover label.sk-toggleable__label-arrow:before {color: black;}#sk-container-id-1 div.sk-toggleable__content {max-height: 0;max-width: 0;overflow: hidden;text-align: left;background-color: #f0f8ff;}#sk-container-id-1 div.sk-toggleable__content pre {margin: 0.2em;color: black;border-radius: 0.25em;background-color: #f0f8ff;}#sk-container-id-1 input.sk-toggleable__control:checked~div.sk-toggleable__content {max-height: 200px;max-width: 100%;overflow: auto;}#sk-container-id-1 input.sk-toggleable__control:checked~label.sk-toggleable__label-arrow:before {content: \"▾\";}#sk-container-id-1 div.sk-estimator input.sk-toggleable__control:checked~label.sk-toggleable__label {background-color: #d4ebff;}#sk-container-id-1 div.sk-label input.sk-toggleable__control:checked~label.sk-toggleable__label {background-color: #d4ebff;}#sk-container-id-1 input.sk-hidden--visually {border: 0;clip: rect(1px 1px 1px 1px);clip: rect(1px, 1px, 1px, 1px);height: 1px;margin: -1px;overflow: hidden;padding: 0;position: absolute;width: 1px;}#sk-container-id-1 div.sk-estimator {font-family: monospace;background-color: #f0f8ff;border: 1px dotted black;border-radius: 0.25em;box-sizing: border-box;margin-bottom: 0.5em;}#sk-container-id-1 div.sk-estimator:hover {background-color: #d4ebff;}#sk-container-id-1 div.sk-parallel-item::after {content: \"\";width: 100%;border-bottom: 1px solid gray;flex-grow: 1;}#sk-container-id-1 div.sk-label:hover label.sk-toggleable__label {background-color: #d4ebff;}#sk-container-id-1 div.sk-serial::before {content: \"\";position: absolute;border-left: 1px solid gray;box-sizing: border-box;top: 0;bottom: 0;left: 50%;z-index: 0;}#sk-container-id-1 div.sk-serial {display: flex;flex-direction: column;align-items: center;background-color: white;padding-right: 0.2em;padding-left: 0.2em;position: relative;}#sk-container-id-1 div.sk-item {position: relative;z-index: 1;}#sk-container-id-1 div.sk-parallel {display: flex;align-items: stretch;justify-content: center;background-color: white;position: relative;}#sk-container-id-1 div.sk-item::before, #sk-container-id-1 div.sk-parallel-item::before {content: \"\";position: absolute;border-left: 1px solid gray;box-sizing: border-box;top: 0;bottom: 0;left: 50%;z-index: -1;}#sk-container-id-1 div.sk-parallel-item {display: flex;flex-direction: column;z-index: 1;position: relative;background-color: white;}#sk-container-id-1 div.sk-parallel-item:first-child::after {align-self: flex-end;width: 50%;}#sk-container-id-1 div.sk-parallel-item:last-child::after {align-self: flex-start;width: 50%;}#sk-container-id-1 div.sk-parallel-item:only-child::after {width: 0;}#sk-container-id-1 div.sk-dashed-wrapped {border: 1px dashed gray;margin: 0 0.4em 0.5em 0.4em;box-sizing: border-box;padding-bottom: 0.4em;background-color: white;}#sk-container-id-1 div.sk-label label {font-family: monospace;font-weight: bold;display: inline-block;line-height: 1.2em;}#sk-container-id-1 div.sk-label-container {text-align: center;}#sk-container-id-1 div.sk-container {/* jupyter's `normalize.less` sets `[hidden] { display: none; }` but bootstrap.min.css set `[hidden] { display: none !important; }` so we also need the `!important` here to be able to override the default hidden behavior on the sphinx rendered scikit-learn.org. See: https://github.com/scikit-learn/scikit-learn/issues/21755 */display: inline-block !important;position: relative;}#sk-container-id-1 div.sk-text-repr-fallback {display: none;}</style><div id=\"sk-container-id-1\" class=\"sk-top-container\"><div class=\"sk-text-repr-fallback\"><pre>ColumnTransformer(transformers=[(&#x27;num&#x27;,\n",
       "                                 Pipeline(steps=[(&#x27;imputer&#x27;,\n",
       "                                                  SimpleImputer(strategy=&#x27;median&#x27;)),\n",
       "                                                 (&#x27;scaler&#x27;, StandardScaler())]),\n",
       "                                 [&#x27;Age&#x27;, &#x27;Fare&#x27;]),\n",
       "                                (&#x27;cat&#x27;,\n",
       "                                 Pipeline(steps=[(&#x27;imputer&#x27;,\n",
       "                                                  SimpleImputer(strategy=&#x27;most_frequent&#x27;)),\n",
       "                                                 (&#x27;encoder&#x27;,\n",
       "                                                  OneHotEncoder(handle_unknown=&#x27;ignore&#x27;))]),\n",
       "                                 [&#x27;Sex&#x27;, &#x27;Pclass&#x27;, &#x27;Embarked&#x27;, &#x27;Title&#x27;,\n",
       "                                  &#x27;Family_Cat&#x27;])])</pre><b>In a Jupyter environment, please rerun this cell to show the HTML representation or trust the notebook. <br />On GitHub, the HTML representation is unable to render, please try loading this page with nbviewer.org.</b></div><div class=\"sk-container\" hidden><div class=\"sk-item sk-dashed-wrapped\"><div class=\"sk-label-container\"><div class=\"sk-label sk-toggleable\"><input class=\"sk-toggleable__control sk-hidden--visually\" id=\"sk-estimator-id-1\" type=\"checkbox\" ><label for=\"sk-estimator-id-1\" class=\"sk-toggleable__label sk-toggleable__label-arrow\">ColumnTransformer</label><div class=\"sk-toggleable__content\"><pre>ColumnTransformer(transformers=[(&#x27;num&#x27;,\n",
       "                                 Pipeline(steps=[(&#x27;imputer&#x27;,\n",
       "                                                  SimpleImputer(strategy=&#x27;median&#x27;)),\n",
       "                                                 (&#x27;scaler&#x27;, StandardScaler())]),\n",
       "                                 [&#x27;Age&#x27;, &#x27;Fare&#x27;]),\n",
       "                                (&#x27;cat&#x27;,\n",
       "                                 Pipeline(steps=[(&#x27;imputer&#x27;,\n",
       "                                                  SimpleImputer(strategy=&#x27;most_frequent&#x27;)),\n",
       "                                                 (&#x27;encoder&#x27;,\n",
       "                                                  OneHotEncoder(handle_unknown=&#x27;ignore&#x27;))]),\n",
       "                                 [&#x27;Sex&#x27;, &#x27;Pclass&#x27;, &#x27;Embarked&#x27;, &#x27;Title&#x27;,\n",
       "                                  &#x27;Family_Cat&#x27;])])</pre></div></div></div><div class=\"sk-parallel\"><div class=\"sk-parallel-item\"><div class=\"sk-item\"><div class=\"sk-label-container\"><div class=\"sk-label sk-toggleable\"><input class=\"sk-toggleable__control sk-hidden--visually\" id=\"sk-estimator-id-2\" type=\"checkbox\" ><label for=\"sk-estimator-id-2\" class=\"sk-toggleable__label sk-toggleable__label-arrow\">num</label><div class=\"sk-toggleable__content\"><pre>[&#x27;Age&#x27;, &#x27;Fare&#x27;]</pre></div></div></div><div class=\"sk-serial\"><div class=\"sk-item\"><div class=\"sk-serial\"><div class=\"sk-item\"><div class=\"sk-estimator sk-toggleable\"><input class=\"sk-toggleable__control sk-hidden--visually\" id=\"sk-estimator-id-3\" type=\"checkbox\" ><label for=\"sk-estimator-id-3\" class=\"sk-toggleable__label sk-toggleable__label-arrow\">SimpleImputer</label><div class=\"sk-toggleable__content\"><pre>SimpleImputer(strategy=&#x27;median&#x27;)</pre></div></div></div><div class=\"sk-item\"><div class=\"sk-estimator sk-toggleable\"><input class=\"sk-toggleable__control sk-hidden--visually\" id=\"sk-estimator-id-4\" type=\"checkbox\" ><label for=\"sk-estimator-id-4\" class=\"sk-toggleable__label sk-toggleable__label-arrow\">StandardScaler</label><div class=\"sk-toggleable__content\"><pre>StandardScaler()</pre></div></div></div></div></div></div></div></div><div class=\"sk-parallel-item\"><div class=\"sk-item\"><div class=\"sk-label-container\"><div class=\"sk-label sk-toggleable\"><input class=\"sk-toggleable__control sk-hidden--visually\" id=\"sk-estimator-id-5\" type=\"checkbox\" ><label for=\"sk-estimator-id-5\" class=\"sk-toggleable__label sk-toggleable__label-arrow\">cat</label><div class=\"sk-toggleable__content\"><pre>[&#x27;Sex&#x27;, &#x27;Pclass&#x27;, &#x27;Embarked&#x27;, &#x27;Title&#x27;, &#x27;Family_Cat&#x27;]</pre></div></div></div><div class=\"sk-serial\"><div class=\"sk-item\"><div class=\"sk-serial\"><div class=\"sk-item\"><div class=\"sk-estimator sk-toggleable\"><input class=\"sk-toggleable__control sk-hidden--visually\" id=\"sk-estimator-id-6\" type=\"checkbox\" ><label for=\"sk-estimator-id-6\" class=\"sk-toggleable__label sk-toggleable__label-arrow\">SimpleImputer</label><div class=\"sk-toggleable__content\"><pre>SimpleImputer(strategy=&#x27;most_frequent&#x27;)</pre></div></div></div><div class=\"sk-item\"><div class=\"sk-estimator sk-toggleable\"><input class=\"sk-toggleable__control sk-hidden--visually\" id=\"sk-estimator-id-7\" type=\"checkbox\" ><label for=\"sk-estimator-id-7\" class=\"sk-toggleable__label sk-toggleable__label-arrow\">OneHotEncoder</label><div class=\"sk-toggleable__content\"><pre>OneHotEncoder(handle_unknown=&#x27;ignore&#x27;)</pre></div></div></div></div></div></div></div></div></div></div></div></div>"
      ],
      "text/plain": [
       "ColumnTransformer(transformers=[('num',\n",
       "                                 Pipeline(steps=[('imputer',\n",
       "                                                  SimpleImputer(strategy='median')),\n",
       "                                                 ('scaler', StandardScaler())]),\n",
       "                                 ['Age', 'Fare']),\n",
       "                                ('cat',\n",
       "                                 Pipeline(steps=[('imputer',\n",
       "                                                  SimpleImputer(strategy='most_frequent')),\n",
       "                                                 ('encoder',\n",
       "                                                  OneHotEncoder(handle_unknown='ignore'))]),\n",
       "                                 ['Sex', 'Pclass', 'Embarked', 'Title',\n",
       "                                  'Family_Cat'])])"
      ]
     },
     "execution_count": 36,
     "metadata": {},
     "output_type": "execute_result"
    }
   ],
   "source": [
    "preprocessor.fit(X)"
   ]
  },
  {
   "cell_type": "code",
   "execution_count": 37,
   "id": "573732c3",
   "metadata": {
    "execution": {
     "iopub.execute_input": "2024-01-09T21:46:54.171700Z",
     "iopub.status.busy": "2024-01-09T21:46:54.171186Z",
     "iopub.status.idle": "2024-01-09T21:46:54.200057Z",
     "shell.execute_reply": "2024-01-09T21:46:54.198612Z"
    },
    "papermill": {
     "duration": 0.056409,
     "end_time": "2024-01-09T21:46:54.203142",
     "exception": false,
     "start_time": "2024-01-09T21:46:54.146733",
     "status": "completed"
    },
    "tags": []
   },
   "outputs": [],
   "source": [
    "X = preprocessor.transform(X)\n",
    "X_test = preprocessor.transform(X_test)"
   ]
  },
  {
   "cell_type": "markdown",
   "id": "1b39956f",
   "metadata": {
    "papermill": {
     "duration": 0.023046,
     "end_time": "2024-01-09T21:46:54.249413",
     "exception": false,
     "start_time": "2024-01-09T21:46:54.226367",
     "status": "completed"
    },
    "tags": []
   },
   "source": [
    "# 7. Model Training <a class=\"anchor\" id=\"7\"></a>\n",
    "\n",
    "We will start by training a few classification models and then build a baseline model. Then we will evaluate the performance of our baseline models and choose the best performing model for further tuning."
   ]
  },
  {
   "cell_type": "code",
   "execution_count": 38,
   "id": "036b53f8",
   "metadata": {
    "execution": {
     "iopub.execute_input": "2024-01-09T21:46:54.300500Z",
     "iopub.status.busy": "2024-01-09T21:46:54.299475Z",
     "iopub.status.idle": "2024-01-09T21:46:54.311198Z",
     "shell.execute_reply": "2024-01-09T21:46:54.309402Z"
    },
    "papermill": {
     "duration": 0.040561,
     "end_time": "2024-01-09T21:46:54.313804",
     "exception": false,
     "start_time": "2024-01-09T21:46:54.273243",
     "status": "completed"
    },
    "tags": []
   },
   "outputs": [
    {
     "name": "stdout",
     "output_type": "stream",
     "text": [
      "Train has 712 rows and 19 columns\n",
      "Validation has 179 rows and 19 columns\n"
     ]
    }
   ],
   "source": [
    "from sklearn.model_selection import train_test_split\n",
    "from sklearn.metrics import precision_score, recall_score, classification_report\n",
    "from sklearn.preprocessing import PolynomialFeatures\n",
    "\n",
    "X_train, X_val, y_train, y_val = train_test_split(X, y, test_size=0.2, random_state=42)\n",
    "print(f'Train has {X_train.shape[0]} rows and {X_train.shape[1]} columns')\n",
    "print(f'Validation has {X_val.shape[0]} rows and {X_val.shape[1]} columns')"
   ]
  },
  {
   "cell_type": "markdown",
   "id": "dafffeb6",
   "metadata": {
    "papermill": {
     "duration": 0.023874,
     "end_time": "2024-01-09T21:46:54.361018",
     "exception": false,
     "start_time": "2024-01-09T21:46:54.337144",
     "status": "completed"
    },
    "tags": []
   },
   "source": [
    "### Logistic Regression"
   ]
  },
  {
   "cell_type": "code",
   "execution_count": 39,
   "id": "3b6ad440",
   "metadata": {
    "execution": {
     "iopub.execute_input": "2024-01-09T21:46:54.408854Z",
     "iopub.status.busy": "2024-01-09T21:46:54.408052Z",
     "iopub.status.idle": "2024-01-09T21:46:54.438249Z",
     "shell.execute_reply": "2024-01-09T21:46:54.436654Z"
    },
    "papermill": {
     "duration": 0.057446,
     "end_time": "2024-01-09T21:46:54.441020",
     "exception": false,
     "start_time": "2024-01-09T21:46:54.383574",
     "status": "completed"
    },
    "tags": []
   },
   "outputs": [
    {
     "name": "stdout",
     "output_type": "stream",
     "text": [
      "Score on validation set: 0.8212290502793296\n",
      "Precision Score: 0.7916666666666666\n",
      "Recall Score: 0.7702702702702703\n",
      "Classification Report: \n",
      "              precision    recall  f1-score   support\n",
      "\n",
      "           0       0.84      0.86      0.85       105\n",
      "           1       0.79      0.77      0.78        74\n",
      "\n",
      "    accuracy                           0.82       179\n",
      "   macro avg       0.82      0.81      0.81       179\n",
      "weighted avg       0.82      0.82      0.82       179\n",
      "\n"
     ]
    }
   ],
   "source": [
    "from sklearn.linear_model import LogisticRegression\n",
    "\n",
    "log_reg = LogisticRegression(random_state=42,solver='liblinear', max_iter=1000)\n",
    "log_reg.fit(X_train, y_train)\n",
    "\n",
    "y_pred = log_reg.predict(X_val)\n",
    "print(f'Score on validation set: {log_reg.score(X_val, y_val)}')\n",
    "print(f'Precision Score: {precision_score(y_val, y_pred)}')\n",
    "print(f'Recall Score: {recall_score(y_val, y_pred)}')\n",
    "print(f'Classification Report: \\n{classification_report(y_val, y_pred)}')"
   ]
  },
  {
   "cell_type": "markdown",
   "id": "7b3a23eb",
   "metadata": {
    "papermill": {
     "duration": 0.022783,
     "end_time": "2024-01-09T21:46:54.486504",
     "exception": false,
     "start_time": "2024-01-09T21:46:54.463721",
     "status": "completed"
    },
    "tags": []
   },
   "source": [
    "### Logistic Regression with polynomial features"
   ]
  },
  {
   "cell_type": "code",
   "execution_count": 40,
   "id": "51c4f022",
   "metadata": {
    "execution": {
     "iopub.execute_input": "2024-01-09T21:46:54.535050Z",
     "iopub.status.busy": "2024-01-09T21:46:54.534533Z",
     "iopub.status.idle": "2024-01-09T21:46:54.545644Z",
     "shell.execute_reply": "2024-01-09T21:46:54.544152Z"
    },
    "papermill": {
     "duration": 0.039243,
     "end_time": "2024-01-09T21:46:54.548755",
     "exception": false,
     "start_time": "2024-01-09T21:46:54.509512",
     "status": "completed"
    },
    "tags": []
   },
   "outputs": [],
   "source": [
    "poly = PolynomialFeatures(degree=2)\n",
    "X_train_poly = poly.fit_transform(X_train)\n",
    "X_val_poly = poly.transform(X_val)"
   ]
  },
  {
   "cell_type": "code",
   "execution_count": 41,
   "id": "8c522851",
   "metadata": {
    "execution": {
     "iopub.execute_input": "2024-01-09T21:46:54.597523Z",
     "iopub.status.busy": "2024-01-09T21:46:54.596568Z",
     "iopub.status.idle": "2024-01-09T21:46:54.653959Z",
     "shell.execute_reply": "2024-01-09T21:46:54.652536Z"
    },
    "papermill": {
     "duration": 0.085432,
     "end_time": "2024-01-09T21:46:54.657527",
     "exception": false,
     "start_time": "2024-01-09T21:46:54.572095",
     "status": "completed"
    },
    "tags": []
   },
   "outputs": [
    {
     "name": "stdout",
     "output_type": "stream",
     "text": [
      "Score on validation set: 0.8324022346368715\n",
      "Precision Score: 0.8333333333333334\n",
      "Recall Score: 0.7432432432432432\n",
      "Classification Report: \n",
      "              precision    recall  f1-score   support\n",
      "\n",
      "           0       0.83      0.90      0.86       105\n",
      "           1       0.83      0.74      0.79        74\n",
      "\n",
      "    accuracy                           0.83       179\n",
      "   macro avg       0.83      0.82      0.82       179\n",
      "weighted avg       0.83      0.83      0.83       179\n",
      "\n"
     ]
    }
   ],
   "source": [
    "poly_log_reg = LogisticRegression(random_state=42,solver='liblinear', max_iter=1000)\n",
    "poly_log_reg.fit(X_train_poly, y_train)\n",
    "\n",
    "y_pred = poly_log_reg.predict(X_val_poly)\n",
    "print(f'Score on validation set: {poly_log_reg.score(X_val_poly, y_val)}')\n",
    "print(f'Precision Score: {precision_score(y_val, y_pred)}')\n",
    "print(f'Recall Score: {recall_score(y_val, y_pred)}')\n",
    "print(f'Classification Report: \\n{classification_report(y_val, y_pred)}')"
   ]
  },
  {
   "cell_type": "markdown",
   "id": "4b7861e2",
   "metadata": {
    "papermill": {
     "duration": 0.038687,
     "end_time": "2024-01-09T21:46:54.735469",
     "exception": false,
     "start_time": "2024-01-09T21:46:54.696782",
     "status": "completed"
    },
    "tags": []
   },
   "source": [
    "### Decision Tree"
   ]
  },
  {
   "cell_type": "code",
   "execution_count": 42,
   "id": "8d8b4fa9",
   "metadata": {
    "execution": {
     "iopub.execute_input": "2024-01-09T21:46:54.788505Z",
     "iopub.status.busy": "2024-01-09T21:46:54.788041Z",
     "iopub.status.idle": "2024-01-09T21:46:54.851673Z",
     "shell.execute_reply": "2024-01-09T21:46:54.849892Z"
    },
    "papermill": {
     "duration": 0.091171,
     "end_time": "2024-01-09T21:46:54.854649",
     "exception": false,
     "start_time": "2024-01-09T21:46:54.763478",
     "status": "completed"
    },
    "tags": []
   },
   "outputs": [
    {
     "name": "stdout",
     "output_type": "stream",
     "text": [
      "Score on validation set: 0.8100558659217877\n",
      "Precision Score: 0.7702702702702703\n",
      "Recall Score: 0.7702702702702703\n",
      "Classification Report: \n",
      "              precision    recall  f1-score   support\n",
      "\n",
      "           0       0.84      0.84      0.84       105\n",
      "           1       0.77      0.77      0.77        74\n",
      "\n",
      "    accuracy                           0.81       179\n",
      "   macro avg       0.80      0.80      0.80       179\n",
      "weighted avg       0.81      0.81      0.81       179\n",
      "\n"
     ]
    }
   ],
   "source": [
    "from sklearn.tree import DecisionTreeClassifier\n",
    "\n",
    "decision_tree = DecisionTreeClassifier(random_state=42, criterion='entropy', max_depth=5)\n",
    "decision_tree.fit(X_train, y_train)\n",
    "\n",
    "y_pred = decision_tree.predict(X_val)\n",
    "print(f'Score on validation set: {decision_tree.score(X_val, y_val)}')\n",
    "print(f'Precision Score: {precision_score(y_val, y_pred)}')\n",
    "print(f'Recall Score: {recall_score(y_val, y_pred)}')\n",
    "print(f'Classification Report: \\n{classification_report(y_val, y_pred)}')"
   ]
  },
  {
   "cell_type": "markdown",
   "id": "427575c7",
   "metadata": {
    "papermill": {
     "duration": 0.024032,
     "end_time": "2024-01-09T21:46:54.901833",
     "exception": false,
     "start_time": "2024-01-09T21:46:54.877801",
     "status": "completed"
    },
    "tags": []
   },
   "source": [
    "## Baseline Model Comparision <a class=\"anchor\" id=\"7.2\"></a>"
   ]
  },
  {
   "cell_type": "code",
   "execution_count": 43,
   "id": "d243ff7e",
   "metadata": {
    "execution": {
     "iopub.execute_input": "2024-01-09T21:46:54.949338Z",
     "iopub.status.busy": "2024-01-09T21:46:54.948864Z",
     "iopub.status.idle": "2024-01-09T21:46:55.224775Z",
     "shell.execute_reply": "2024-01-09T21:46:55.223723Z"
    },
    "papermill": {
     "duration": 0.303368,
     "end_time": "2024-01-09T21:46:55.227639",
     "exception": false,
     "start_time": "2024-01-09T21:46:54.924271",
     "status": "completed"
    },
    "tags": []
   },
   "outputs": [],
   "source": [
    "from sklearn.svm import SVC, LinearSVC\n",
    "from sklearn.ensemble import RandomForestClassifier, AdaBoostClassifier, GradientBoostingClassifier, ExtraTreesClassifier\n",
    "from sklearn.neighbors import KNeighborsClassifier\n",
    "from xgboost import XGBClassifier\n",
    "\n",
    "seed = 42\n",
    "models = [\n",
    "    LinearSVC(random_state=seed, max_iter=12000, dual=False),\n",
    "    SVC(random_state=seed),\n",
    "    KNeighborsClassifier(metric='minkowski' ,p=2),\n",
    "    RandomForestClassifier(random_state=seed),\n",
    "    AdaBoostClassifier(random_state=seed),\n",
    "    GradientBoostingClassifier(random_state=seed),\n",
    "    ExtraTreesClassifier(random_state=seed),\n",
    "    XGBClassifier(random_state=seed, use_label_encoder=False, eval_metric='logloss'),\n",
    "    LogisticRegression(random_state=seed,solver='liblinear', max_iter=1000),\n",
    "    DecisionTreeClassifier(random_state=seed)\n",
    "]"
   ]
  },
  {
   "cell_type": "code",
   "execution_count": 44,
   "id": "59d986d3",
   "metadata": {
    "execution": {
     "iopub.execute_input": "2024-01-09T21:46:55.276491Z",
     "iopub.status.busy": "2024-01-09T21:46:55.275209Z",
     "iopub.status.idle": "2024-01-09T21:46:59.934626Z",
     "shell.execute_reply": "2024-01-09T21:46:59.933386Z"
    },
    "papermill": {
     "duration": 4.686971,
     "end_time": "2024-01-09T21:46:59.937621",
     "exception": false,
     "start_time": "2024-01-09T21:46:55.250650",
     "status": "completed"
    },
    "tags": []
   },
   "outputs": [
    {
     "data": {
      "image/png": "[encoded data removed]",
      "text/plain": [
       "<Figure size 1000x600 with 1 Axes>"
      ]
     },
     "metadata": {},
     "output_type": "display_data"
    },
    {
     "data": {
      "text/html": [
       "<div>\n",
       "<style scoped>\n",
       "    .dataframe tbody tr th:only-of-type {\n",
       "        vertical-align: middle;\n",
       "    }\n",
       "\n",
       "    .dataframe tbody tr th {\n",
       "        vertical-align: top;\n",
       "    }\n",
       "\n",
       "    .dataframe thead th {\n",
       "        text-align: right;\n",
       "    }\n",
       "</style>\n",
       "<table border=\"1\" class=\"dataframe\">\n",
       "  <thead>\n",
       "    <tr style=\"text-align: right;\">\n",
       "      <th></th>\n",
       "      <th>Mean</th>\n",
       "      <th>Standard Deviation</th>\n",
       "    </tr>\n",
       "    <tr>\n",
       "      <th>model_name</th>\n",
       "      <th></th>\n",
       "      <th></th>\n",
       "    </tr>\n",
       "  </thead>\n",
       "  <tbody>\n",
       "    <tr>\n",
       "      <th>GradientBoostingClassifier</th>\n",
       "      <td>0.835001</td>\n",
       "      <td>0.025428</td>\n",
       "    </tr>\n",
       "    <tr>\n",
       "      <th>LogisticRegression</th>\n",
       "      <td>0.830513</td>\n",
       "      <td>0.009529</td>\n",
       "    </tr>\n",
       "    <tr>\n",
       "      <th>SVC</th>\n",
       "      <td>0.829396</td>\n",
       "      <td>0.009598</td>\n",
       "    </tr>\n",
       "    <tr>\n",
       "      <th>LinearSVC</th>\n",
       "      <td>0.827148</td>\n",
       "      <td>0.008614</td>\n",
       "    </tr>\n",
       "    <tr>\n",
       "      <th>AdaBoostClassifier</th>\n",
       "      <td>0.823809</td>\n",
       "      <td>0.019910</td>\n",
       "    </tr>\n",
       "    <tr>\n",
       "      <th>KNeighborsClassifier</th>\n",
       "      <td>0.821512</td>\n",
       "      <td>0.028715</td>\n",
       "    </tr>\n",
       "    <tr>\n",
       "      <th>XGBClassifier</th>\n",
       "      <td>0.820407</td>\n",
       "      <td>0.028229</td>\n",
       "    </tr>\n",
       "    <tr>\n",
       "      <th>RandomForestClassifier</th>\n",
       "      <td>0.811462</td>\n",
       "      <td>0.024207</td>\n",
       "    </tr>\n",
       "    <tr>\n",
       "      <th>ExtraTreesClassifier</th>\n",
       "      <td>0.808085</td>\n",
       "      <td>0.016018</td>\n",
       "    </tr>\n",
       "    <tr>\n",
       "      <th>DecisionTreeClassifier</th>\n",
       "      <td>0.796811</td>\n",
       "      <td>0.050339</td>\n",
       "    </tr>\n",
       "  </tbody>\n",
       "</table>\n",
       "</div>"
      ],
      "text/plain": [
       "                                Mean  Standard Deviation\n",
       "model_name                                              \n",
       "GradientBoostingClassifier  0.835001            0.025428\n",
       "LogisticRegression          0.830513            0.009529\n",
       "SVC                         0.829396            0.009598\n",
       "LinearSVC                   0.827148            0.008614\n",
       "AdaBoostClassifier          0.823809            0.019910\n",
       "KNeighborsClassifier        0.821512            0.028715\n",
       "XGBClassifier               0.820407            0.028229\n",
       "RandomForestClassifier      0.811462            0.024207\n",
       "ExtraTreesClassifier        0.808085            0.016018\n",
       "DecisionTreeClassifier      0.796811            0.050339"
      ]
     },
     "execution_count": 44,
     "metadata": {},
     "output_type": "execute_result"
    }
   ],
   "source": [
    "from sklearn.model_selection import StratifiedKFold, cross_val_score\n",
    "\n",
    "def generate_baseline_results(models, X, y, metric, cv=5, plot_results =False):\n",
    "    kfold = StratifiedKFold(n_splits=cv, shuffle=True, random_state=seed)\n",
    "    \n",
    "    entries = []\n",
    "    for model in models:\n",
    "        model_name = model.__class__.__name__\n",
    "        scores = cross_val_score(model, X, y, scoring=metric, cv=kfold)\n",
    "        for fold_idx, score in enumerate(scores):\n",
    "            entries.append((model_name, fold_idx, score))\n",
    "        \n",
    "    cv_results = pd.DataFrame(entries, columns=['model_name', 'fold_idx', metric])\n",
    "    \n",
    "    if plot_results:\n",
    "        plt.figure(figsize=(10,6))\n",
    "        sns.boxplot(x='model_name', y=metric, data=cv_results,color='lightblue', showmeans=True)\n",
    "        plt.title(f'Boxplot of Baseline Models Accuracy using {cv} folds')\n",
    "        plt.xticks(rotation=30)\n",
    "        plt.xlabel('Model Name')\n",
    "        plt.tight_layout()\n",
    "        plt.show()\n",
    "    \n",
    "    # Summary of baseline results\n",
    "    mean = cv_results.groupby('model_name')[metric].mean()\n",
    "    std = cv_results.groupby('model_name')[metric].std()\n",
    "    \n",
    "    summary = pd.concat([mean, std], axis=1, ignore_index=True)\n",
    "    summary.columns = ['Mean', 'Standard Deviation']\n",
    "    \n",
    "    return summary.sort_values(by='Mean', ascending=False)\n",
    "\n",
    "generate_baseline_results(models, X, y, 'accuracy', cv=5, plot_results=True)"
   ]
  },
  {
   "cell_type": "markdown",
   "id": "b6cfb68d",
   "metadata": {
    "papermill": {
     "duration": 0.023829,
     "end_time": "2024-01-09T21:46:59.985829",
     "exception": false,
     "start_time": "2024-01-09T21:46:59.962000",
     "status": "completed"
    },
    "tags": []
   },
   "source": [
    "The best performing model is Gradient Boosting Classifier. So we will use it to find the best hyperparameters using BayesSearchCV."
   ]
  },
  {
   "cell_type": "code",
   "execution_count": 45,
   "id": "54d7ef17",
   "metadata": {
    "execution": {
     "iopub.execute_input": "2024-01-09T21:47:00.037609Z",
     "iopub.status.busy": "2024-01-09T21:47:00.037136Z",
     "iopub.status.idle": "2024-01-09T21:48:54.519455Z",
     "shell.execute_reply": "2024-01-09T21:48:54.518229Z"
    },
    "papermill": {
     "duration": 114.541089,
     "end_time": "2024-01-09T21:48:54.551244",
     "exception": false,
     "start_time": "2024-01-09T21:47:00.010155",
     "status": "completed"
    },
    "tags": []
   },
   "outputs": [
    {
     "name": "stdout",
     "output_type": "stream",
     "text": [
      "learning_rate: 0.007457128246618704\n",
      "max_depth: 9\n",
      "max_features: None\n",
      "min_samples_leaf: 10\n",
      "min_samples_split: 9\n",
      "n_estimators: 500\n",
      "Best Accuracy: 0.846243173686523\n"
     ]
    }
   ],
   "source": [
    "from skopt import BayesSearchCV\n",
    "from skopt.space import Real, Categorical, Integer\n",
    "\n",
    "# Define search space for hyperparameters for GradientBoostingClassifier\n",
    "np.int = int\n",
    "search_spaces = {\n",
    "    'n_estimators': Integer(100, 500),\n",
    "    'max_depth': Integer(1, 10),\n",
    "    'min_samples_split': Integer(2, 10),\n",
    "    'min_samples_leaf': Integer(1, 10),\n",
    "    'max_features': Categorical([None, 'sqrt', 'log2']),\n",
    "    'learning_rate': Real(0.001, 0.1, 'log-uniform'),\n",
    "}\n",
    "\n",
    "model = GradientBoostingClassifier(random_state=seed)\n",
    "\n",
    "opt = BayesSearchCV(model, search_spaces, n_iter=32, cv=5, scoring='accuracy', random_state=seed, n_jobs=-1)\n",
    "\n",
    "opt.fit(X, y)\n",
    "\n",
    "for param, value in opt.best_params_.items():\n",
    "    print(f'{param}: {value}')\n",
    "    \n",
    "print(f'Best Accuracy: {opt.best_score_}')"
   ]
  },
  {
   "cell_type": "code",
   "execution_count": 46,
   "id": "ce1aae41",
   "metadata": {
    "execution": {
     "iopub.execute_input": "2024-01-09T21:48:54.601642Z",
     "iopub.status.busy": "2024-01-09T21:48:54.601172Z",
     "iopub.status.idle": "2024-01-09T21:48:54.625812Z",
     "shell.execute_reply": "2024-01-09T21:48:54.624677Z"
    },
    "papermill": {
     "duration": 0.053982,
     "end_time": "2024-01-09T21:48:54.629262",
     "exception": false,
     "start_time": "2024-01-09T21:48:54.575280",
     "status": "completed"
    },
    "tags": []
   },
   "outputs": [],
   "source": [
    "# Submission\n",
    "y_pred = opt.predict(X_test)\n",
    "submission = pd.DataFrame({'PassengerId': test_df.index, 'Survived': y_pred})\n",
    "submission.to_csv('submission.csv', index=False)"
   ]
  }
 ],
 "metadata": {
  "kaggle": {
   "accelerator": "none",
   "dataSources": [
    {
     "databundleVersionId": 26502,
     "sourceId": 3136,
     "sourceType": "competition"
    }
   ],
   "dockerImageVersionId": 30626,
   "isGpuEnabled": false,
   "isInternetEnabled": true,
   "language": "python",
   "sourceType": "notebook"
  },
  "kernelspec": {
   "display_name": "Python 3",
   "language": "python",
   "name": "python3"
  },
  "language_info": {
   "codemirror_mode": {
    "name": "ipython",
    "version": 3
   },
   "file_extension": ".py",
   "mimetype": "text/x-python",
   "name": "python",
   "nbconvert_exporter": "python",
   "pygments_lexer": "ipython3",
   "version": "3.9.18"
  },
  "papermill": {
   "default_parameters": {},
   "duration": 135.729626,
   "end_time": "2024-01-09T21:48:57.282819",
   "environment_variables": {},
   "exception": null,
   "input_path": "__notebook__.ipynb",
   "output_path": "__notebook__.ipynb",
   "parameters": {},
   "start_time": "2024-01-09T21:46:41.553193",
   "version": "2.4.0"
  }
 },
 "nbformat": 4,
 "nbformat_minor": 5
}
