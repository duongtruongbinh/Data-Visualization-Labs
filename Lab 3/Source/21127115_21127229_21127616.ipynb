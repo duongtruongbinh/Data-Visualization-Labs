{
 "cells": [
  {
   "cell_type": "markdown",
   "metadata": {},
   "source": [
    "### <center><b> TRỰC QUAN HÓA DỮ LIỆU - 21KHDL </b></center>\n",
    "# <p style=\"text-align:center;color:#254E58\"><b> LAB 03 - IRIS </b></p>\n",
    "\n",
    "---"
   ]
  },
  {
   "cell_type": "markdown",
   "metadata": {},
   "source": [
    "# <div style=\"padding:20px;color:white;margin:0;font-size:35px;font-family:Verdana;text-align:left;display:fill;border-radius:5px;background-color:#254E58;overflow:hidden\"><b>Thông tin thành viên</b></div>\n",
    "\n",
    "- 21127115 - Trần Thanh Ngân\n",
    "- 21127229 - Dương Trường Bình\n",
    "- 21127616 - Lê Phước Quang Huy"
   ]
  },
  {
   "cell_type": "markdown",
   "metadata": {},
   "source": [
    "# <div style=\"padding:20px;color:white;margin:0;font-size:35px;font-family:Verdana;text-align:left;display:fill;border-radius:5px;background-color:#254E58;overflow:hidden\"><b>Mục lục</b></div>\n",
    "\n",
    "<div class=\"list-group\" id=\"list-tab\" role=\"tablist\">\n",
    "\n",
    "   * [Đọc dữ liệu](#1)\n",
    "        \n",
    "   * [A. Mô tả dữ liệu](#A)\n",
    "   \n",
    "   * [B. Khám phá và Phân tích dữ liệu](#B)\n",
    "        - [Câu hỏi 1](#B.1)\n",
    "        - [Câu hỏi 2](#B.2)\n",
    "        - [Câu hỏi 3](#B.3)\n",
    "        - [Câu hỏi 4](#B.4)\n",
    "        - [Câu hỏi 5](#B.5)\n",
    "        - [Câu hỏi 6](#B.6)\n",
    "\n",
    "   * [C. Interactive Data Visualization](#C)\n",
    "   \n",
    "   * [D. Insights](#D)\n",
    "   "
   ]
  },
  {
   "cell_type": "markdown",
   "metadata": {},
   "source": [
    "# <div style=\"padding:20px;color:white;margin:0;font-size:35px;font-family:Verdana;text-align:left;display:fill;border-radius:5px;background-color:#254E58;overflow:hidden\"><b>Các thư viện sử dụng</b></div>"
   ]
  },
  {
   "cell_type": "code",
   "execution_count": 1,
   "metadata": {},
   "outputs": [],
   "source": [
    "import numpy as np\n",
    "import pandas as pd\n",
    "import seaborn as sns\n",
    "import matplotlib\n",
    "import matplotlib.pyplot as plt\n",
    "from matplotlib import gridspec\n",
    "import plotly\n",
    "import plotly.graph_objects as go\n",
    "import plotly.express as px\n",
    "from plotly.subplots import make_subplots\n",
    "from wordcloud import WordCloud, STOPWORDS, ImageColorGenerator\n",
    "from PIL import Image\n",
    "\n",
    "from ipywidgets import widgets, interactive\n",
    "from IPython.display import display\n",
    "\n",
    "import warnings\n",
    "warnings.simplefilter(action='ignore', category=FutureWarning)\n",
    "warnings.simplefilter(action='ignore', category=UserWarning)"
   ]
  },
  {
   "cell_type": "markdown",
   "metadata": {},
   "source": [
    "# <div style=\"padding:20px;color:white;margin:0;font-size:35px;font-family:Verdana;text-align:left;display:fill;border-radius:5px;background-color:#254E58;overflow:hidden\"><b>Đọc dữ liệu</b></div>"
   ]
  },
  {
   "cell_type": "markdown",
   "metadata": {},
   "source": [
    "## <span style='color:#074173'> <b> 👉 Iris Dataset </b> </span>"
   ]
  },
  {
   "cell_type": "code",
   "execution_count": 11,
   "metadata": {},
   "outputs": [
    {
     "data": {
      "text/html": [
       "<div>\n",
       "<style scoped>\n",
       "    .dataframe tbody tr th:only-of-type {\n",
       "        vertical-align: middle;\n",
       "    }\n",
       "\n",
       "    .dataframe tbody tr th {\n",
       "        vertical-align: top;\n",
       "    }\n",
       "\n",
       "    .dataframe thead th {\n",
       "        text-align: right;\n",
       "    }\n",
       "</style>\n",
       "<table border=\"1\" class=\"dataframe\">\n",
       "  <thead>\n",
       "    <tr style=\"text-align: right;\">\n",
       "      <th></th>\n",
       "      <th>Id</th>\n",
       "      <th>SepalLengthCm</th>\n",
       "      <th>SepalWidthCm</th>\n",
       "      <th>PetalLengthCm</th>\n",
       "      <th>PetalWidthCm</th>\n",
       "      <th>Species</th>\n",
       "    </tr>\n",
       "  </thead>\n",
       "  <tbody>\n",
       "    <tr>\n",
       "      <th>0</th>\n",
       "      <td>1</td>\n",
       "      <td>5.1</td>\n",
       "      <td>3.5</td>\n",
       "      <td>1.4</td>\n",
       "      <td>0.2</td>\n",
       "      <td>Iris-setosa</td>\n",
       "    </tr>\n",
       "    <tr>\n",
       "      <th>1</th>\n",
       "      <td>2</td>\n",
       "      <td>4.9</td>\n",
       "      <td>3.0</td>\n",
       "      <td>1.4</td>\n",
       "      <td>0.2</td>\n",
       "      <td>Iris-setosa</td>\n",
       "    </tr>\n",
       "    <tr>\n",
       "      <th>2</th>\n",
       "      <td>3</td>\n",
       "      <td>4.7</td>\n",
       "      <td>3.2</td>\n",
       "      <td>1.3</td>\n",
       "      <td>0.2</td>\n",
       "      <td>Iris-setosa</td>\n",
       "    </tr>\n",
       "    <tr>\n",
       "      <th>3</th>\n",
       "      <td>4</td>\n",
       "      <td>4.6</td>\n",
       "      <td>3.1</td>\n",
       "      <td>1.5</td>\n",
       "      <td>0.2</td>\n",
       "      <td>Iris-setosa</td>\n",
       "    </tr>\n",
       "    <tr>\n",
       "      <th>4</th>\n",
       "      <td>5</td>\n",
       "      <td>5.0</td>\n",
       "      <td>3.6</td>\n",
       "      <td>1.4</td>\n",
       "      <td>0.2</td>\n",
       "      <td>Iris-setosa</td>\n",
       "    </tr>\n",
       "    <tr>\n",
       "      <th>...</th>\n",
       "      <td>...</td>\n",
       "      <td>...</td>\n",
       "      <td>...</td>\n",
       "      <td>...</td>\n",
       "      <td>...</td>\n",
       "      <td>...</td>\n",
       "    </tr>\n",
       "    <tr>\n",
       "      <th>145</th>\n",
       "      <td>146</td>\n",
       "      <td>6.7</td>\n",
       "      <td>3.0</td>\n",
       "      <td>5.2</td>\n",
       "      <td>2.3</td>\n",
       "      <td>Iris-virginica</td>\n",
       "    </tr>\n",
       "    <tr>\n",
       "      <th>146</th>\n",
       "      <td>147</td>\n",
       "      <td>6.3</td>\n",
       "      <td>2.5</td>\n",
       "      <td>5.0</td>\n",
       "      <td>1.9</td>\n",
       "      <td>Iris-virginica</td>\n",
       "    </tr>\n",
       "    <tr>\n",
       "      <th>147</th>\n",
       "      <td>148</td>\n",
       "      <td>6.5</td>\n",
       "      <td>3.0</td>\n",
       "      <td>5.2</td>\n",
       "      <td>2.0</td>\n",
       "      <td>Iris-virginica</td>\n",
       "    </tr>\n",
       "    <tr>\n",
       "      <th>148</th>\n",
       "      <td>149</td>\n",
       "      <td>6.2</td>\n",
       "      <td>3.4</td>\n",
       "      <td>5.4</td>\n",
       "      <td>2.3</td>\n",
       "      <td>Iris-virginica</td>\n",
       "    </tr>\n",
       "    <tr>\n",
       "      <th>149</th>\n",
       "      <td>150</td>\n",
       "      <td>5.9</td>\n",
       "      <td>3.0</td>\n",
       "      <td>5.1</td>\n",
       "      <td>1.8</td>\n",
       "      <td>Iris-virginica</td>\n",
       "    </tr>\n",
       "  </tbody>\n",
       "</table>\n",
       "<p>150 rows × 6 columns</p>\n",
       "</div>"
      ],
      "text/plain": [
       "      Id  SepalLengthCm  SepalWidthCm  PetalLengthCm  PetalWidthCm  \\\n",
       "0      1            5.1           3.5            1.4           0.2   \n",
       "1      2            4.9           3.0            1.4           0.2   \n",
       "2      3            4.7           3.2            1.3           0.2   \n",
       "3      4            4.6           3.1            1.5           0.2   \n",
       "4      5            5.0           3.6            1.4           0.2   \n",
       "..   ...            ...           ...            ...           ...   \n",
       "145  146            6.7           3.0            5.2           2.3   \n",
       "146  147            6.3           2.5            5.0           1.9   \n",
       "147  148            6.5           3.0            5.2           2.0   \n",
       "148  149            6.2           3.4            5.4           2.3   \n",
       "149  150            5.9           3.0            5.1           1.8   \n",
       "\n",
       "            Species  \n",
       "0       Iris-setosa  \n",
       "1       Iris-setosa  \n",
       "2       Iris-setosa  \n",
       "3       Iris-setosa  \n",
       "4       Iris-setosa  \n",
       "..              ...  \n",
       "145  Iris-virginica  \n",
       "146  Iris-virginica  \n",
       "147  Iris-virginica  \n",
       "148  Iris-virginica  \n",
       "149  Iris-virginica  \n",
       "\n",
       "[150 rows x 6 columns]"
      ]
     },
     "execution_count": 11,
     "metadata": {},
     "output_type": "execute_result"
    }
   ],
   "source": [
    "# read data iris in folder data\n",
    "df = pd.read_csv('../data/iris.csv')\n",
    "df"
   ]
  },
  {
   "cell_type": "code",
   "execution_count": 5,
   "metadata": {},
   "outputs": [
    {
     "name": "stdout",
     "output_type": "stream",
     "text": [
      "<class 'pandas.core.frame.DataFrame'>\n",
      "RangeIndex: 150 entries, 0 to 149\n",
      "Data columns (total 6 columns):\n",
      " #   Column         Non-Null Count  Dtype  \n",
      "---  ------         --------------  -----  \n",
      " 0   Id             150 non-null    int64  \n",
      " 1   SepalLengthCm  150 non-null    float64\n",
      " 2   SepalWidthCm   150 non-null    float64\n",
      " 3   PetalLengthCm  150 non-null    float64\n",
      " 4   PetalWidthCm   150 non-null    float64\n",
      " 5   Species        150 non-null    object \n",
      "dtypes: float64(4), int64(1), object(1)\n",
      "memory usage: 7.2+ KB\n"
     ]
    }
   ],
   "source": [
    "df.info()"
   ]
  },
  {
   "cell_type": "code",
   "execution_count": 6,
   "metadata": {},
   "outputs": [
    {
     "data": {
      "text/html": [
       "<div>\n",
       "<style scoped>\n",
       "    .dataframe tbody tr th:only-of-type {\n",
       "        vertical-align: middle;\n",
       "    }\n",
       "\n",
       "    .dataframe tbody tr th {\n",
       "        vertical-align: top;\n",
       "    }\n",
       "\n",
       "    .dataframe thead th {\n",
       "        text-align: right;\n",
       "    }\n",
       "</style>\n",
       "<table border=\"1\" class=\"dataframe\">\n",
       "  <thead>\n",
       "    <tr style=\"text-align: right;\">\n",
       "      <th></th>\n",
       "      <th>Id</th>\n",
       "      <th>SepalLengthCm</th>\n",
       "      <th>SepalWidthCm</th>\n",
       "      <th>PetalLengthCm</th>\n",
       "      <th>PetalWidthCm</th>\n",
       "    </tr>\n",
       "  </thead>\n",
       "  <tbody>\n",
       "    <tr>\n",
       "      <th>count</th>\n",
       "      <td>150.0</td>\n",
       "      <td>150.0</td>\n",
       "      <td>150.0</td>\n",
       "      <td>150.0</td>\n",
       "      <td>150.0</td>\n",
       "    </tr>\n",
       "    <tr>\n",
       "      <th>mean</th>\n",
       "      <td>75.5</td>\n",
       "      <td>5.8</td>\n",
       "      <td>3.1</td>\n",
       "      <td>3.8</td>\n",
       "      <td>1.2</td>\n",
       "    </tr>\n",
       "    <tr>\n",
       "      <th>std</th>\n",
       "      <td>43.4</td>\n",
       "      <td>0.8</td>\n",
       "      <td>0.4</td>\n",
       "      <td>1.8</td>\n",
       "      <td>0.8</td>\n",
       "    </tr>\n",
       "    <tr>\n",
       "      <th>min</th>\n",
       "      <td>1.0</td>\n",
       "      <td>4.3</td>\n",
       "      <td>2.0</td>\n",
       "      <td>1.0</td>\n",
       "      <td>0.1</td>\n",
       "    </tr>\n",
       "    <tr>\n",
       "      <th>25%</th>\n",
       "      <td>38.2</td>\n",
       "      <td>5.1</td>\n",
       "      <td>2.8</td>\n",
       "      <td>1.6</td>\n",
       "      <td>0.3</td>\n",
       "    </tr>\n",
       "    <tr>\n",
       "      <th>50%</th>\n",
       "      <td>75.5</td>\n",
       "      <td>5.8</td>\n",
       "      <td>3.0</td>\n",
       "      <td>4.4</td>\n",
       "      <td>1.3</td>\n",
       "    </tr>\n",
       "    <tr>\n",
       "      <th>75%</th>\n",
       "      <td>112.8</td>\n",
       "      <td>6.4</td>\n",
       "      <td>3.3</td>\n",
       "      <td>5.1</td>\n",
       "      <td>1.8</td>\n",
       "    </tr>\n",
       "    <tr>\n",
       "      <th>max</th>\n",
       "      <td>150.0</td>\n",
       "      <td>7.9</td>\n",
       "      <td>4.4</td>\n",
       "      <td>6.9</td>\n",
       "      <td>2.5</td>\n",
       "    </tr>\n",
       "  </tbody>\n",
       "</table>\n",
       "</div>"
      ],
      "text/plain": [
       "          Id  SepalLengthCm  SepalWidthCm  PetalLengthCm  PetalWidthCm\n",
       "count  150.0          150.0         150.0          150.0         150.0\n",
       "mean    75.5            5.8           3.1            3.8           1.2\n",
       "std     43.4            0.8           0.4            1.8           0.8\n",
       "min      1.0            4.3           2.0            1.0           0.1\n",
       "25%     38.2            5.1           2.8            1.6           0.3\n",
       "50%     75.5            5.8           3.0            4.4           1.3\n",
       "75%    112.8            6.4           3.3            5.1           1.8\n",
       "max    150.0            7.9           4.4            6.9           2.5"
      ]
     },
     "execution_count": 6,
     "metadata": {},
     "output_type": "execute_result"
    }
   ],
   "source": [
    "df.describe().round(1)"
   ]
  },
  {
   "cell_type": "code",
   "execution_count": 7,
   "metadata": {},
   "outputs": [
    {
     "data": {
      "text/plain": [
       "Id               0\n",
       "SepalLengthCm    0\n",
       "SepalWidthCm     0\n",
       "PetalLengthCm    0\n",
       "PetalWidthCm     0\n",
       "Species          0\n",
       "dtype: int64"
      ]
     },
     "execution_count": 7,
     "metadata": {},
     "output_type": "execute_result"
    }
   ],
   "source": [
    "# Missing rate\n",
    "df.isnull().sum()"
   ]
  },
  {
   "cell_type": "markdown",
   "metadata": {},
   "source": [
    "# <div style=\"padding:20px;color:white;margin:0;font-size:35px;font-family:Verdana;text-align:left;display:fill;border-radius:5px;background-color:#254E58;overflow:hidden\"><b>A. Mô tả dữ liệu</b></div>"
   ]
  },
  {
   "cell_type": "markdown",
   "metadata": {},
   "source": [
    "- Tập dữ liệu bao gồm ba loài `iris` với 50 mẫu mỗi loài cũng như một số đặc tính về mỗi loài hoa. Một loài hoa có thể phân tách tuyến tính với hai loài còn lại, nhưng hai loài còn lại không thể phân tách tuyến tính với nhau. [Iris Species](https://www.kaggle.com/datasets/uciml/iris/data) "
   ]
  },
  {
   "cell_type": "markdown",
   "metadata": {},
   "source": [
    "## <span style='color:#074173'> <b>👉 Iris Species </b> </span>"
   ]
  },
  {
   "cell_type": "markdown",
   "metadata": {},
   "source": [
    "Tập dữ liệu `Iris.csv` chứa 150 dòng và 5 cột, mỗi dòng tương ứng cho đặc điểm của một loài hoa:\n",
    "\n",
    "|STT | Tên thuộc tính | Mô tả | Giá trị | Kiểu dữ liệu |\n",
    "|:---| :---           |:---   |:---     |:---          |\n",
    "| 1  | Id | Mã của hoa | Nằm trong phạm vi từ 1 đến 150 | Integer |\n",
    "| 2  | SepalLengthCm  | Chiều dài lá | Nằm trong khoảng từ 4.3 đến 7.9 | Float |\n",
    "| 3  | SepalWidthCm | Chiều rộng lá | Nằm trong khoảng từ 2 đến 4.4 | Float |\n",
    "| 4  | PetalLengthCm | Chiều dài cánh hoa | Nằm trong khoảng từ 1 đến 6.9 | Float |\n",
    "| 5  | PetalWidthCm | Chiều rộng cánh hoa | Nằm trong khoảng từ 0.1 đến 2.5 | Float |\n",
    "| 6  | Species | Giống loài hoa | Gồm 3 loại `Iris-setosa`, `Iris-versicolor` và `Iris-virginica` | String |"
   ]
  },
  {
   "cell_type": "markdown",
   "metadata": {},
   "source": [
    "# <div style=\"padding:20px;color:white;margin:0;font-size:35px;font-family:Verdana;text-align:left;display:fill;border-radius:5px;background-color:#254E58;overflow:hidden\"><b>B. Khám phá và Phân tích dữ liệu</b></div>"
   ]
  },
  {
   "cell_type": "markdown",
   "metadata": {},
   "source": [
    "# <div style=\"padding:10px;color:white;margin:0;font-size:20px;font-family:Verdana;text-align:left;display:fill;border-radius:5px;background-color:#254E58;overflow:hidden\"><b>❓ Câu hỏi 1: Phân tích xu hướng trong ngành công nghiệp điện ảnh qua các năm. Năm nào có số lượng phim được ra mắt nhiều nhất?</b></div>"
   ]
  },
  {
   "cell_type": "markdown",
   "metadata": {},
   "source": [
    "#### <span style='color:#074173'> 💬 Trả lời: </span>\n",
    "<div style=\"border-radius:10px;border:#0C6A86 solid;padding:5px;background-color:#ebfae8;font-size:110%;text-align:left;color:black\">\n",
    "\n",
    "- Trước hết, chúng ta có thể thấy số lượng phim ra mắt mỗi năm có xu hướng tăng dần. Điều này phản ánh sự phát triển của ngành công nghiệp điện ảnh, cũng như sự tăng trưởng của thị trường giải trí.\n",
    "- Năm đạt đỉnh cao trong lịch sử sản xuất phim có thể kể đến là chuỗi 5 năm liên tiếp từ năm 2000 đến năm 2004, khi số lượng phim ra mắt vượt qua mốc 1000 bộ phim so với các năm trước đó, trong đó 2004 là năm có số lượng cao nhất - gần 1500 bộ phim. Điều này chỉ ra một thời kỳ sôi động và phát triển mạnh mẽ của ngành công nghiệp điện ảnh, có thể do sự đầu tư mạnh mẽ từ các công ty sản xuất, sự hấp dẫn của thị trường và nhu cầu giải trí của công chúng."
   ]
  },
  {
   "cell_type": "markdown",
   "metadata": {},
   "source": [
    "# <div style=\"padding:10px;color:white;margin:0;font-size:20px;font-family:Verdana;text-align:left;display:fill;border-radius:5px;background-color:#254E58;overflow:hidden\"><b>❓ Câu hỏi 2: Những bộ phim nào có số lượt đánh giá cao nhất ?</b></div>"
   ]
  },
  {
   "cell_type": "markdown",
   "metadata": {},
   "source": [
    "#### <span style='color:#074173'> 💬 Nhận xét: </span>\n",
    "<div style=\"border-radius:10px;border:#0C6A86 solid;padding:5px;background-color:#ebfae8;font-size:110%;text-align:left;color:black\">\n",
    "\n",
    "- Phim `Pirates of the Caribbean: The Curse of the Black Pearl` thu hút sự quan tâm lớn nhất từ khán giả với tổng cộng `117,075` lượt đánh giá, cao hơn khoảng 1,14 lần so với bộ phim xếp thứ 2 là `Lord of the Rings: The Fellowship of the Ring` với 102,721 lượt đánh giá. \n",
    "- 2 bộ phim trên đã đi vào lịch sử nền điện ảnh thế giới khi bộ phim `Cướp biển vùng Caribe` quá nổi tiếng với nhân vật `Jack Sparrow` do `Johnny Depp` thủ vai và bộ phim đã đạt 5 giải thưởng trong các giải phim `Oscar`. Còn với bộ phim `Chú tể của những chiếc nhẫn`, đây là là một trong những bộ phim đạt nhiều giải `Oscar` nhất trên thế giới.\n",
    "- Từ hạng 3 đến hạng 10 lần lượt là:\n",
    "    - 3. The Sixth Sense - **102376 lượt**\n",
    "    - 4. American Beauty - **101450 lượt**\n",
    "    - 5. Bruce Almighty - **98545 lượt**\n",
    "    - 6. The Silence of the Lambs - **95053 lượt**\n",
    "    - 7. Finding Nemo (Widescreen) - **94235 lượt**\n",
    "    - 8. The Italian Job - **93886 lượt**\n",
    "    - 9. Shrek 2 - **92893 lượt**\n",
    "    - 10. Braveheart - **91502 lượt**\n",
    "- Chênh lệch giữa bộ phim có thứ hạng đầu tiên là `Pirates of the Caribbean: The Curse of the Black Pearl` và bộ phim có thứ hạng cuối cùng là `Inu-Yasha` (1042 lượt đánh giá) là khá lớn, trong đó `Pirates of the Caribbean: The Curse of the Black Pearl` thu về số lượt đánh giá cao hơn, gấp 112 lần so với `Inu-Yasha`."
   ]
  },
  {
   "cell_type": "markdown",
   "metadata": {},
   "source": [
    "# <div style=\"padding:10px;color:white;margin:0;font-size:20px;font-family:Verdana;text-align:left;display:fill;border-radius:5px;background-color:#254E58;overflow:hidden\"><b>❓ Câu hỏi 3: Những bộ phim nào có đánh giá cao nhất ? (1-5 sao)</b></div>"
   ]
  },
  {
   "cell_type": "markdown",
   "metadata": {},
   "source": [
    "#### <span style='color:#074173'> 💬 Trả lời: </span>\n",
    "<div style=\"border-radius:10px;border:#0C6A86 solid;padding:5px;background-color:#ebfae8;font-size:110%;text-align:left;color:black\">\n",
    "\n",
    "- Bộ phim được đánh giá cao nhất là `Lost: Season 1` với điểm số lên đến `4.7 sao`. Hạng 2 thuộc về bộ phim \"The Simpsons: Season 6\" với 4.6 sao. \n",
    "- Từ hạng 3 đến hạng 10 lần lượt là:\n",
    "    - 3. Family Guy: Freakin' Sweet Collection - **4.5 sao**\n",
    "    - 4. Six Feet Under: Season 4 - **4.5 sao**\n",
    "    - 5. Inu-Yasha - **4.5 sao**\n",
    "    - 6. Stargate SG-1: Season 8 - **4.5 sao**\n",
    "    - 7. The Best of Friends: Vol. 4 - **4.4 sao**\n",
    "    - 8. The West Wing: Season 3 - **4.4 sao**\n",
    "    - 9. Lord of the Rings: The Fellowship of the Ring - **4.4 sao**\n",
    "    - 10. Gilmore Girls: Season 3 - **4.4 sao**\n",
    "- Tuy nhiên, thứ hạng chỉ là một phần của bảng xếp hạng này. Mặc dù một số bộ phim có đánh giá cao, nhưng số lượng lượt đánh giá có thể không nhiều bằng những bộ phim khác. Do đó, cần phải xem xét cả hai yếu tố này để có cái nhìn toàn diện về sức hút của một bộ phim."
   ]
  },
  {
   "cell_type": "markdown",
   "metadata": {},
   "source": [
    "# <div style=\"padding:10px;color:white;margin:0;font-size:20px;font-family:Verdana;text-align:left;display:fill;border-radius:5px;background-color:#254E58;overflow:hidden\"><b>❓ Câu hỏi 4: Dựa trên việc xem xét cả hai yếu tố về Đánh giá và Tổng số lượt đánh giá, bộ phim nào có đánh giá tốt nhất ?</b></div>"
   ]
  },
  {
   "cell_type": "markdown",
   "metadata": {},
   "source": [
    "#### <span style='color:#074173'> 💬 Trả lời: </span>\n",
    "<div style=\"border-radius:10px;border:#0C6A86 solid;padding:5px;background-color:#ebfae8;font-size:110%;text-align:left;color:black\">\n",
    "\n",
    "- Ta có thể thấy các bộ phim đã được xếp thứ hạng một cách tổng quát hơn dựa trên hai yếu tố là \"đánh giá\" và \"số lượt đánh giá\". \n",
    "- Theo đó, bộ phim có thứ hạng cao nhất theo thang đánh giá 1-5 sao thuộc về \"Lord of the Rings: The Fellowship of the Ring\" và \"Finding Nemo (Widescreen)\", với 4.4 sao và tương ứng với số lượt đánh giá lần lượt là 102,721 và 94,235 lượt.\n",
    "- Tuy nhiên, nếu nhìn vào số lượng lượt đánh giá thì bộ phim \"Pirates of the Caribbean: The Curse of the Black Pearl\" lại chiếm vị trí hàng đầu với 117,075 lượt và đạt điểm số trung bình 4.1 sao. Điều này cho thấy sức hút lớn của bộ phim này đối với khán giả, dù điểm số trung bình có thể không cao bằng một số bộ phim khác."
   ]
  },
  {
   "cell_type": "markdown",
   "metadata": {},
   "source": [
    "# <div style=\"padding:10px;color:white;margin:0;font-size:20px;font-family:Verdana;text-align:left;display:fill;border-radius:5px;background-color:#254E58;overflow:hidden\"><b>❓ Câu hỏi 5: Những từ nào xuất hiện nhiều nhất trong tên của các bộ phim ?</b></div>"
   ]
  },
  {
   "cell_type": "markdown",
   "metadata": {},
   "source": [
    "# <div style=\"padding:10px;color:white;margin:0;font-size:20px;font-family:Verdana;text-align:left;display:fill;border-radius:5px;background-color:#254E58;overflow:hidden\"><b>❓ Câu hỏi 6: Mỗi khoảng đánh giá (1-5 sao) lần lượt chiếm tỷ trọng bao nhiêu trong toàn bộ kết quả đánh giá từ người xem ?</b></div>"
   ]
  },
  {
   "cell_type": "markdown",
   "metadata": {},
   "source": [
    "#### <span style='color:#074173'> 💬 Trả lời: </span>\n",
    "<div style=\"border-radius:10px;border:#0C6A86 solid;padding:5px;background-color:#ebfae8;font-size:110%;text-align:left;color:black\">\n",
    "\n",
    "- Phần lớn người xem (chiếm 34.0%) đánh giá các bộ phim với mức 4 sao, cho thấy mức độ hài lòng lớn với chất lượng và trải nghiệm xem phim.\n",
    "- Trong khi đó các bộ phim được đánh giá với mức 5 - mức cao nhất, chỉ chiếm 21.7%, có thể do người xem đặt tiêu chuẩn cao hơn cho mức đánh giá cao nhất này.\n",
    "- Số lượng phim được đánh giá với mức trung bình là 3 sao cũng khá phổ biến, chiếm 29.9% trên tổng số, cho thấy một phần đáng kể của người xem có ý kiến trung bình về các bộ phim này.\n",
    "- Cuối cùng là các đánh giá thấp hơn - 2 sao và 1 sao - lần lượt là 10,1% và 4.2%. Tuy chỉ chiếm tỷ trọng nhỏ, nhưng qua đó cũng có thể thấy một số ít người xem không hài lòng hoặc có nhận định tiêu cực về một số bộ phim.\n",
    "- Khi quan sát kĩ hơn qua từng năm *(biểu đồ bên phải)*, ta nhận thấy một tăng trưởng đáng kể trong số lượt đánh giá từ người xem trong những năm gần đây, đặc biệt là từ năm 1980 trở đi. Trước đó, đa số là những lượt đánh giá từ 3 sao đến 4.3 sao. Trong khi đó, trong những năm gần đây, phân bố này trải rộng hơn, từ các đánh giá thấp nhất là 2 sao đến những đánh giá cao nhất là 4.7 sao (gần 5 sao), cho thấy sự phổ biến và đa dạng của các bộ phim."
   ]
  },
  {
   "cell_type": "markdown",
   "metadata": {},
   "source": [
    "# <div style=\"padding:20px;color:white;margin:0;font-size:35px;font-family:Verdana;text-align:left;display:fill;border-radius:5px;background-color:#254E58;overflow:hidden\"><b>C. Trực quan dữ liệu tương tác</b></div>"
   ]
  },
  {
   "cell_type": "markdown",
   "metadata": {},
   "source": [
    "Để khám phá dữ liệu theo cách tự nhiên và linh hoạt hơn, từ đó tạo ra trải nghiệm tương tác thú vị và cá nhân hóa theo từng mục đích sử dụng của mỗi người, ở phần này cho phép mọi người có thể tương tác trực tiếp với các biểu đồ thông qua các tùy chọn (dropdown options) cũng như kéo thả thao tác trên chính biểu đồ đó."
   ]
  },
  {
   "cell_type": "markdown",
   "metadata": {},
   "source": [
    "# <div style=\"padding:10px;color:white;margin:0;font-size:20px;font-family:Verdana;text-align:left;display:fill;border-radius:5px;background-color:#254E58;overflow:hidden\"><b> Top các bộ phim có rating cao nhất theo từng năm </b></div>"
   ]
  },
  {
   "cell_type": "markdown",
   "metadata": {},
   "source": [
    "# <div style=\"padding:10px;color:white;margin:0;font-size:20px;font-family:Verdana;text-align:left;display:fill;border-radius:5px;background-color:#254E58;overflow:hidden\"><b> Sự biến động (tăng/giảm) của số lượng phim qua từng năm </b></div>"
   ]
  },
  {
   "cell_type": "markdown",
   "metadata": {},
   "source": [
    "# <div style=\"padding:20px;color:white;margin:0;font-size:35px;font-family:Verdana;text-align:left;display:fill;border-radius:5px;background-color:#254E58;overflow:hidden\"><b>D. Insights</b></div>"
   ]
  },
  {
   "cell_type": "markdown",
   "metadata": {},
   "source": [
    "<div style=\"border-radius:10px;border:#0C6A86 solid;padding:5px;background-color:#ebfae8;font-size:110%;text-align:left;color:black\">\n",
    "Trong quá trình khám phá toàn diện tập dữ liệu `Netflix_Movie_Rating_Dataset` bằng các công cụ trực quan phân tích như Matplotlib, Seaborn và Plotly, nhóm đã tìm hiểu sâu về vô số khía cạnh của bối cảnh nội dung trên nền tảng Netflix. Trong phần này, nhóm sẽ chia sẻ những phát hiện thú vị nhất, bao gồm các xu hướng thị trường trong ngành công nghiệp điện ảnh, sở thích và đánh giá của người xem đối với các bộ phim và chương trình truyền hình:\n",
    "\n",
    "- **Khám phá sâu về các thị trường điện ảnh qua các thập kỷ:**\n",
    "  - Phân tích tiết lộ các xu hướng của thị trường trong ngành công nghiệp điện ảnh từ những năm 1915 đến năm 2005, cũng như sở thích và đánh giá của người xem đối với các nội dung trên Netflix.\n",
    "  - Qua việc xem xét xu hướng sản xuất và tiêu thụ nội dung điện ảnh qua các thập kỷ, chúng ta thấy được sự thay đổi, phát triển và ngày một tăng trưởng của ngành công nghiệp điện ảnh trong thời gian qua, nhất là liên tiếp 5 năm từ 2000-2004 số lượng phim được ra mắt luôn cao hơn so với các năm trước và vượt ngưỡng 1000 bộ phim, có năm gần chạm mức 1500 phim trong một năm.\n",
    "\n",
    "- **Đa dạng và phân bổ của nội dung trên Netflix:**\n",
    "  - Khi đi sâu hơn vào các bộ phim và xếp hạng của chúng, ta có thể thấy được sự đa dạng và phân bổ của các bộ phim và chương trình truyền hình cùng với mức độ xếp hạng khác nhau của chúng.\n",
    "\n",
    "- **Hiểu sâu hơn về sở thích và đánh giá của người dùng:**\n",
    "  - Bằng cách phân tích các đánh giá và xếp hạng từ người dùng trên Netflix, chúng ta hiểu rõ hơn về sở thích và xu hướng xem phim của họ.\n",
    "  - Những bộ phim nổi tiếng vừa có điểm số đánh giá cao vừa có đông đảo lượng đánh giá từ người xem, có thể kể đến như: \"Pirates of the Caribbean: The Curse of the Black Pearl\" hay \"Lord of the Rings: The Fellowship of the Ring\", cũng như những tựa phim kéo dài nhiều mùa được ưa thích như The Simpsons mà đáng chú ý là \"The Simpsons: Season 6\" với 4.6 sao từ khán giả.\n",
    "\n"
   ]
  }
 ],
 "metadata": {
  "kernelspec": {
   "display_name": "Python 3",
   "language": "python",
   "name": "python3"
  },
  "language_info": {
   "codemirror_mode": {
    "name": "ipython",
    "version": 3
   },
   "file_extension": ".py",
   "mimetype": "text/x-python",
   "name": "python",
   "nbconvert_exporter": "python",
   "pygments_lexer": "ipython3",
   "version": "3.9.18"
  }
 },
 "nbformat": 4,
 "nbformat_minor": 2
}
