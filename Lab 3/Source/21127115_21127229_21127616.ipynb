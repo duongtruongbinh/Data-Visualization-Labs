{
  "cells": [
    {
      "cell_type": "markdown",
      "metadata": {},
      "source": [
        "### <center><b> TRỰC QUAN HÓA DỮ LIỆU - 21KHDL </b></center>\n",
        "# <p style=\"text-align:center;color:#254E58\"><b> LAB 03 - IRIS </b></p>\n",
        "\n",
        "---"
      ]
    },
    {
      "cell_type": "markdown",
      "metadata": {},
      "source": [
        "# <div style=\"padding:20px;color:white;margin:0;font-size:35px;font-family:Verdana;text-align:left;display:fill;border-radius:5px;background-color:#254E58;overflow:hidden\"><b>Thông tin thành viên</b></div>\n",
        "\n",
        "- 21127115 - Trần Thanh Ngân\n",
        "- 21127229 - Dương Trường Bình\n",
        "- 21127616 - Lê Phước Quang Huy"
      ]
    },
    {
      "cell_type": "markdown",
      "metadata": {},
      "source": [
        "# <div style=\"padding:20px;color:white;margin:0;font-size:35px;font-family:Verdana;text-align:left;display:fill;border-radius:5px;background-color:#254E58;overflow:hidden\"><b>Mục lục</b></div>\n",
        "\n",
        "<div class=\"list-group\" id=\"list-tab\" role=\"tablist\">\n",
        "\n",
        "   * [Đọc dữ liệu](#1)\n",
        "        \n",
        "   * [A. Mô tả dữ liệu](#A)\n",
        "   \n",
        "   * [B. Khám phá và Phân tích dữ liệu](#B)\n",
        "        - [Câu hỏi 1](#B.1)\n",
        "        - [Câu hỏi 2](#B.2)\n",
        "        - [Câu hỏi 3](#B.3)\n",
        "        - [Câu hỏi 4](#B.4)\n",
        "        - [Câu hỏi 5](#B.5)\n",
        "        - [Câu hỏi 6](#B.6)\n",
        "\n",
        "   * [C. Insights](#C)\n",
        "   "
      ]
    },
    {
      "cell_type": "markdown",
      "metadata": {},
      "source": [
        "# <div style=\"padding:20px;color:white;margin:0;font-size:35px;font-family:Verdana;text-align:left;display:fill;border-radius:5px;background-color:#254E58;overflow:hidden\"><b>Các thư viện sử dụng</b></div>"
      ]
    },
    {
      "cell_type": "code",
      "execution_count": 1,
      "metadata": {},
      "outputs": [],
      "source": [
        "import numpy as np\n",
        "import pandas as pd\n",
        "import seaborn as sns\n",
        "import matplotlib\n",
        "import matplotlib.pyplot as plt\n",
        "from matplotlib import gridspec\n",
        "import plotly\n",
        "import plotly.graph_objects as go\n",
        "import plotly.express as px\n",
        "from plotly.subplots import make_subplots\n",
        "from wordcloud import WordCloud, STOPWORDS, ImageColorGenerator\n",
        "from PIL import Image\n",
        "from IPython.display import display\n",
        "import math\n",
        "\n",
        "import warnings\n",
        "warnings.simplefilter(action='ignore', category=FutureWarning)\n",
        "warnings.simplefilter(action='ignore', category=UserWarning)"
      ]
    },
    {
      "cell_type": "markdown",
      "metadata": {},
      "source": [
        "# <div style=\"padding:20px;color:white;margin:0;font-size:35px;font-family:Verdana;text-align:left;display:fill;border-radius:5px;background-color:#254E58;overflow:hidden\"><b>Đọc dữ liệu</b></div>"
      ]
    },
    {
      "cell_type": "markdown",
      "metadata": {},
      "source": [
        "## <span style='color:#074173'> <b> 👉 Iris Dataset </b> </span>"
      ]
    },
    {
      "cell_type": "code",
      "execution_count": 2,
      "metadata": {},
      "outputs": [
        {
          "data": {
            "text/html": [
              "<div>\n",
              "<style scoped>\n",
              "    .dataframe tbody tr th:only-of-type {\n",
              "        vertical-align: middle;\n",
              "    }\n",
              "\n",
              "    .dataframe tbody tr th {\n",
              "        vertical-align: top;\n",
              "    }\n",
              "\n",
              "    .dataframe thead th {\n",
              "        text-align: right;\n",
              "    }\n",
              "</style>\n",
              "<table border=\"1\" class=\"dataframe\">\n",
              "  <thead>\n",
              "    <tr style=\"text-align: right;\">\n",
              "      <th></th>\n",
              "      <th>Id</th>\n",
              "      <th>SepalLengthCm</th>\n",
              "      <th>SepalWidthCm</th>\n",
              "      <th>PetalLengthCm</th>\n",
              "      <th>PetalWidthCm</th>\n",
              "      <th>Species</th>\n",
              "    </tr>\n",
              "  </thead>\n",
              "  <tbody>\n",
              "    <tr>\n",
              "      <th>124</th>\n",
              "      <td>125</td>\n",
              "      <td>6.7</td>\n",
              "      <td>3.3</td>\n",
              "      <td>5.7</td>\n",
              "      <td>2.1</td>\n",
              "      <td>Iris-virginica</td>\n",
              "    </tr>\n",
              "    <tr>\n",
              "      <th>73</th>\n",
              "      <td>74</td>\n",
              "      <td>6.1</td>\n",
              "      <td>2.8</td>\n",
              "      <td>4.7</td>\n",
              "      <td>1.2</td>\n",
              "      <td>Iris-versicolor</td>\n",
              "    </tr>\n",
              "    <tr>\n",
              "      <th>28</th>\n",
              "      <td>29</td>\n",
              "      <td>5.2</td>\n",
              "      <td>3.4</td>\n",
              "      <td>1.4</td>\n",
              "      <td>0.2</td>\n",
              "      <td>Iris-setosa</td>\n",
              "    </tr>\n",
              "    <tr>\n",
              "      <th>10</th>\n",
              "      <td>11</td>\n",
              "      <td>5.4</td>\n",
              "      <td>3.7</td>\n",
              "      <td>1.5</td>\n",
              "      <td>0.2</td>\n",
              "      <td>Iris-setosa</td>\n",
              "    </tr>\n",
              "    <tr>\n",
              "      <th>107</th>\n",
              "      <td>108</td>\n",
              "      <td>7.3</td>\n",
              "      <td>2.9</td>\n",
              "      <td>6.3</td>\n",
              "      <td>1.8</td>\n",
              "      <td>Iris-virginica</td>\n",
              "    </tr>\n",
              "  </tbody>\n",
              "</table>\n",
              "</div>"
            ],
            "text/plain": [
              "      Id  SepalLengthCm  SepalWidthCm  PetalLengthCm  PetalWidthCm  \\\n",
              "124  125            6.7           3.3            5.7           2.1   \n",
              "73    74            6.1           2.8            4.7           1.2   \n",
              "28    29            5.2           3.4            1.4           0.2   \n",
              "10    11            5.4           3.7            1.5           0.2   \n",
              "107  108            7.3           2.9            6.3           1.8   \n",
              "\n",
              "             Species  \n",
              "124   Iris-virginica  \n",
              "73   Iris-versicolor  \n",
              "28       Iris-setosa  \n",
              "10       Iris-setosa  \n",
              "107   Iris-virginica  "
            ]
          },
          "execution_count": 2,
          "metadata": {},
          "output_type": "execute_result"
        }
      ],
      "source": [
        "# read data iris in folder data\n",
        "df = pd.read_csv('../data/iris.csv')\n",
        "df.sample(5)"
      ]
    },
    {
      "cell_type": "code",
      "execution_count": 3,
      "metadata": {},
      "outputs": [
        {
          "name": "stdout",
          "output_type": "stream",
          "text": [
            "<class 'pandas.core.frame.DataFrame'>\n",
            "RangeIndex: 150 entries, 0 to 149\n",
            "Data columns (total 6 columns):\n",
            " #   Column         Non-Null Count  Dtype  \n",
            "---  ------         --------------  -----  \n",
            " 0   Id             150 non-null    int64  \n",
            " 1   SepalLengthCm  150 non-null    float64\n",
            " 2   SepalWidthCm   150 non-null    float64\n",
            " 3   PetalLengthCm  150 non-null    float64\n",
            " 4   PetalWidthCm   150 non-null    float64\n",
            " 5   Species        150 non-null    object \n",
            "dtypes: float64(4), int64(1), object(1)\n",
            "memory usage: 7.2+ KB\n"
          ]
        }
      ],
      "source": [
        "df.info()"
      ]
    },
    {
      "cell_type": "code",
      "execution_count": 4,
      "metadata": {},
      "outputs": [
        {
          "data": {
            "text/html": [
              "<div>\n",
              "<style scoped>\n",
              "    .dataframe tbody tr th:only-of-type {\n",
              "        vertical-align: middle;\n",
              "    }\n",
              "\n",
              "    .dataframe tbody tr th {\n",
              "        vertical-align: top;\n",
              "    }\n",
              "\n",
              "    .dataframe thead th {\n",
              "        text-align: right;\n",
              "    }\n",
              "</style>\n",
              "<table border=\"1\" class=\"dataframe\">\n",
              "  <thead>\n",
              "    <tr style=\"text-align: right;\">\n",
              "      <th></th>\n",
              "      <th>Id</th>\n",
              "      <th>SepalLengthCm</th>\n",
              "      <th>SepalWidthCm</th>\n",
              "      <th>PetalLengthCm</th>\n",
              "      <th>PetalWidthCm</th>\n",
              "    </tr>\n",
              "  </thead>\n",
              "  <tbody>\n",
              "    <tr>\n",
              "      <th>count</th>\n",
              "      <td>150.00</td>\n",
              "      <td>150.00</td>\n",
              "      <td>150.00</td>\n",
              "      <td>150.00</td>\n",
              "      <td>150.00</td>\n",
              "    </tr>\n",
              "    <tr>\n",
              "      <th>mean</th>\n",
              "      <td>75.50</td>\n",
              "      <td>5.84</td>\n",
              "      <td>3.05</td>\n",
              "      <td>3.76</td>\n",
              "      <td>1.20</td>\n",
              "    </tr>\n",
              "    <tr>\n",
              "      <th>std</th>\n",
              "      <td>43.45</td>\n",
              "      <td>0.83</td>\n",
              "      <td>0.43</td>\n",
              "      <td>1.76</td>\n",
              "      <td>0.76</td>\n",
              "    </tr>\n",
              "    <tr>\n",
              "      <th>min</th>\n",
              "      <td>1.00</td>\n",
              "      <td>4.30</td>\n",
              "      <td>2.00</td>\n",
              "      <td>1.00</td>\n",
              "      <td>0.10</td>\n",
              "    </tr>\n",
              "    <tr>\n",
              "      <th>25%</th>\n",
              "      <td>38.25</td>\n",
              "      <td>5.10</td>\n",
              "      <td>2.80</td>\n",
              "      <td>1.60</td>\n",
              "      <td>0.30</td>\n",
              "    </tr>\n",
              "    <tr>\n",
              "      <th>50%</th>\n",
              "      <td>75.50</td>\n",
              "      <td>5.80</td>\n",
              "      <td>3.00</td>\n",
              "      <td>4.35</td>\n",
              "      <td>1.30</td>\n",
              "    </tr>\n",
              "    <tr>\n",
              "      <th>75%</th>\n",
              "      <td>112.75</td>\n",
              "      <td>6.40</td>\n",
              "      <td>3.30</td>\n",
              "      <td>5.10</td>\n",
              "      <td>1.80</td>\n",
              "    </tr>\n",
              "    <tr>\n",
              "      <th>max</th>\n",
              "      <td>150.00</td>\n",
              "      <td>7.90</td>\n",
              "      <td>4.40</td>\n",
              "      <td>6.90</td>\n",
              "      <td>2.50</td>\n",
              "    </tr>\n",
              "  </tbody>\n",
              "</table>\n",
              "</div>"
            ],
            "text/plain": [
              "           Id  SepalLengthCm  SepalWidthCm  PetalLengthCm  PetalWidthCm\n",
              "count  150.00         150.00        150.00         150.00        150.00\n",
              "mean    75.50           5.84          3.05           3.76          1.20\n",
              "std     43.45           0.83          0.43           1.76          0.76\n",
              "min      1.00           4.30          2.00           1.00          0.10\n",
              "25%     38.25           5.10          2.80           1.60          0.30\n",
              "50%     75.50           5.80          3.00           4.35          1.30\n",
              "75%    112.75           6.40          3.30           5.10          1.80\n",
              "max    150.00           7.90          4.40           6.90          2.50"
            ]
          },
          "execution_count": 4,
          "metadata": {},
          "output_type": "execute_result"
        }
      ],
      "source": [
        "df.describe().round(2)"
      ]
    },
    {
      "cell_type": "markdown",
      "metadata": {},
      "source": [
        "# <div style=\"padding:20px;color:white;margin:0;font-size:35px;font-family:Verdana;text-align:left;display:fill;border-radius:5px;background-color:#254E58;overflow:hidden\"><b>A. Mô tả dữ liệu</b></div>"
      ]
    },
    {
      "cell_type": "markdown",
      "metadata": {},
      "source": [
        "- Tập dữ liệu bao gồm ba loài `iris` với 50 mẫu mỗi loài cũng như một số đặc tính về mỗi loài hoa. Một loài hoa có thể phân tách tuyến tính với hai loài còn lại, nhưng hai loài còn lại không thể phân tách tuyến tính với nhau. [Iris Species](https://www.kaggle.com/datasets/uciml/iris/data) "
      ]
    },
    {
      "cell_type": "markdown",
      "metadata": {},
      "source": [
        "## <span style='color:#074173'> <b>👉 Iris Species </b> </span>"
      ]
    },
    {
      "cell_type": "markdown",
      "metadata": {},
      "source": [
        "Tập dữ liệu `Iris.csv` chứa 150 dòng và 5 cột, mỗi dòng tương ứng cho đặc điểm của một loài hoa:\n",
        "\n",
        "|STT | Tên thuộc tính | Mô tả | Giá trị | Kiểu dữ liệu |\n",
        "|:---| :---           |:---   |:---     |:---          |\n",
        "| 1  | Id | Mã của hoa | Nằm trong phạm vi từ 1 đến 150 | Integer |\n",
        "| 2  | SepalLengthCm  | Chiều dài lá | Nằm trong khoảng từ 4.3 đến 7.9 | Float |\n",
        "| 3  | SepalWidthCm | Chiều rộng lá | Nằm trong khoảng từ 2 đến 4.4 | Float |\n",
        "| 4  | PetalLengthCm | Chiều dài cánh hoa | Nằm trong khoảng từ 1 đến 6.9 | Float |\n",
        "| 5  | PetalWidthCm | Chiều rộng cánh hoa | Nằm trong khoảng từ 0.1 đến 2.5 | Float |\n",
        "| 6  | Species | Giống loài hoa | Gồm 3 loại `Iris-setosa`, `Iris-versicolor` và `Iris-virginica` | String |"
      ]
    },
    {
      "cell_type": "markdown",
      "metadata": {},
      "source": [
        "# <div style=\"padding:20px;color:white;margin:0;font-size:35px;font-family:Verdana;text-align:left;display:fill;border-radius:5px;background-color:#254E58;overflow:hidden\"><b>B. Phân tích tổng quan dữ liệu</b></div>"
      ]
    },
    {
      "cell_type": "markdown",
      "metadata": {},
      "source": [
        "## <span style='color:#074173'> <b> 👉 Tỷ lệ dữ liệu bị thiếu </b> </span>"
      ]
    },
    {
      "cell_type": "markdown",
      "metadata": {},
      "source": [
        "- ### Tỷ lệ cột bị thiếu"
      ]
    },
    {
      "cell_type": "code",
      "execution_count": 5,
      "metadata": {},
      "outputs": [
        {
          "data": {
            "text/html": [
              "<style type=\"text/css\">\n",
              "#T_1ee6d_row0_col1, #T_1ee6d_row1_col1, #T_1ee6d_row2_col1, #T_1ee6d_row3_col1, #T_1ee6d_row4_col1, #T_1ee6d_row5_col1 {\n",
              "  background-color: #fff5f0;\n",
              "  color: #000000;\n",
              "}\n",
              "</style>\n",
              "<table id=\"T_1ee6d\">\n",
              "  <thead>\n",
              "    <tr>\n",
              "      <th class=\"blank level0\" >&nbsp;</th>\n",
              "      <th id=\"T_1ee6d_level0_col0\" class=\"col_heading level0 col0\" >Tên cột</th>\n",
              "      <th id=\"T_1ee6d_level0_col1\" class=\"col_heading level0 col1\" >Tỉ lệ thiếu dữ liệu (%)</th>\n",
              "    </tr>\n",
              "  </thead>\n",
              "  <tbody>\n",
              "    <tr>\n",
              "      <th id=\"T_1ee6d_level0_row0\" class=\"row_heading level0 row0\" >0</th>\n",
              "      <td id=\"T_1ee6d_row0_col0\" class=\"data row0 col0\" >Id</td>\n",
              "      <td id=\"T_1ee6d_row0_col1\" class=\"data row0 col1\" >0.000000</td>\n",
              "    </tr>\n",
              "    <tr>\n",
              "      <th id=\"T_1ee6d_level0_row1\" class=\"row_heading level0 row1\" >1</th>\n",
              "      <td id=\"T_1ee6d_row1_col0\" class=\"data row1 col0\" >SepalLengthCm</td>\n",
              "      <td id=\"T_1ee6d_row1_col1\" class=\"data row1 col1\" >0.000000</td>\n",
              "    </tr>\n",
              "    <tr>\n",
              "      <th id=\"T_1ee6d_level0_row2\" class=\"row_heading level0 row2\" >2</th>\n",
              "      <td id=\"T_1ee6d_row2_col0\" class=\"data row2 col0\" >SepalWidthCm</td>\n",
              "      <td id=\"T_1ee6d_row2_col1\" class=\"data row2 col1\" >0.000000</td>\n",
              "    </tr>\n",
              "    <tr>\n",
              "      <th id=\"T_1ee6d_level0_row3\" class=\"row_heading level0 row3\" >3</th>\n",
              "      <td id=\"T_1ee6d_row3_col0\" class=\"data row3 col0\" >PetalLengthCm</td>\n",
              "      <td id=\"T_1ee6d_row3_col1\" class=\"data row3 col1\" >0.000000</td>\n",
              "    </tr>\n",
              "    <tr>\n",
              "      <th id=\"T_1ee6d_level0_row4\" class=\"row_heading level0 row4\" >4</th>\n",
              "      <td id=\"T_1ee6d_row4_col0\" class=\"data row4 col0\" >PetalWidthCm</td>\n",
              "      <td id=\"T_1ee6d_row4_col1\" class=\"data row4 col1\" >0.000000</td>\n",
              "    </tr>\n",
              "    <tr>\n",
              "      <th id=\"T_1ee6d_level0_row5\" class=\"row_heading level0 row5\" >5</th>\n",
              "      <td id=\"T_1ee6d_row5_col0\" class=\"data row5 col0\" >Species</td>\n",
              "      <td id=\"T_1ee6d_row5_col1\" class=\"data row5 col1\" >0.000000</td>\n",
              "    </tr>\n",
              "  </tbody>\n",
              "</table>\n"
            ],
            "text/plain": [
              "<pandas.io.formats.style.Styler at 0x1dbcd78e0a0>"
            ]
          },
          "execution_count": 5,
          "metadata": {},
          "output_type": "execute_result"
        }
      ],
      "source": [
        "missing_rates = df.isna().sum() / len(df) * 100\n",
        "missing_rates_df = pd.DataFrame({'Tên cột': missing_rates.index, 'Tỉ lệ thiếu dữ liệu (%)': missing_rates.values})\n",
        "missing_rates_df = missing_rates_df.sort_values(by=\"Tỉ lệ thiếu dữ liệu (%)\", ascending=False)\n",
        "missing_rates_df.style.background_gradient(cmap='Reds', subset=['Tỉ lệ thiếu dữ liệu (%)'])\n",
        "# missing_rates_df.style.bar(subset=['Tỉ lệ thiếu dữ liệu (%)'], color='#d65f5f')"
      ]
    },
    {
      "cell_type": "markdown",
      "metadata": {},
      "source": [
        "- ### Tỷ lệ dòng bị thiếu"
      ]
    },
    {
      "cell_type": "code",
      "execution_count": 6,
      "metadata": {},
      "outputs": [
        {
          "data": {
            "image/png": "[encoded data removed]",
            "text/plain": [
              "<Figure size 1000x600 with 1 Axes>"
            ]
          },
          "metadata": {},
          "output_type": "display_data"
        }
      ],
      "source": [
        "missing_rates_rows = df.isna().sum(axis=1)\n",
        "missing_rates_rows = missing_rates_rows.value_counts().sort_index() / len(df) * 100\n",
        "# ghi số lên biểu đồ\n",
        "plt.figure(figsize=(10, 6))\n",
        "sns.barplot(x=missing_rates_rows.index, y=missing_rates_rows.values, color='skyblue')\n",
        "plt.xlabel('Số trường dữ liệu bị thiếu ở mỗi dòng')\n",
        "plt.ylabel('Tỉ lệ dòng dữ liệu')\n",
        "plt.title('Tỉ lệ dòng dữ liệu bị thiếu trường dữ liệu')\n",
        "for i in range(len(missing_rates_rows)):\n",
        "    plt.text(i, missing_rates_rows.values[i], f'{missing_rates_rows.values[i]:.2f}%', ha='center', va='bottom')\n",
        "plt.show()"
      ]
    },
    {
      "cell_type": "markdown",
      "metadata": {},
      "source": [
        "#### <span style='color:#074173'> 💬 Nhận xét: </span>\n",
        "<div style=\"border-radius:10px;border:#0C6A86 solid;padding:5px;background-color:#ebfae8;font-size:110%;text-align:left;color:black\">\n",
        "\n",
        "- Như vậy tập dữ liệu của chúng ta không có dữ liệu bị thiếu."
      ]
    },
    {
      "cell_type": "markdown",
      "metadata": {},
      "source": [
        "## <span style='color:#074173'> <b>👉 Phân phối của các cột dữ liệu </b> </span>"
      ]
    },
    {
      "cell_type": "code",
      "execution_count": 7,
      "metadata": {},
      "outputs": [],
      "source": [
        "## 1. Chia loại dữ liệu numeric hoặc categorical\n",
        "cate_list = list(df.dtypes[df.dtypes == 'object'].index)\n",
        "num_list = list(df.dtypes[df.dtypes != 'object'].index)"
      ]
    },
    {
      "cell_type": "markdown",
      "metadata": {},
      "source": [
        "- ### Cột Categorical"
      ]
    },
    {
      "cell_type": "code",
      "execution_count": 8,
      "metadata": {},
      "outputs": [
        {
          "data": {
            "image/png": "[encoded data removed]",
            "text/plain": [
              "<Figure size 1000x600 with 1 Axes>"
            ]
          },
          "metadata": {},
          "output_type": "display_data"
        }
      ],
      "source": [
        "# vẽ biểu đồ tròn của Species\n",
        "plt.figure(figsize=(10, 6))\n",
        "plt.gcf().set_facecolor(\"#F0F8FF\")\n",
        "df['Species'].value_counts().plot.pie(autopct='%1.1f%%', startangle=90, colors=['skyblue', 'orange', 'lightgreen'])\n",
        "plt.title('Phân phối loài hoa')\n",
        "plt.ylabel('')\n",
        "plt.show()\n",
        "\n"
      ]
    },
    {
      "cell_type": "markdown",
      "metadata": {},
      "source": [
        "#### <span style='color:#074173'> 💬 Nhận xét: </span>\n",
        "<div style=\"border-radius:10px;border:#0C6A86 solid;padding:5px;background-color:#ebfae8;font-size:110%;text-align:left;color:black\">\n",
        "\n",
        "- Như vậy 3 lớp dữ liệu của cột `Species` có phân phối đồng đều."
      ]
    },
    {
      "cell_type": "markdown",
      "metadata": {},
      "source": [
        "- ### Cột Numerical"
      ]
    },
    {
      "cell_type": "code",
      "execution_count": 9,
      "metadata": {},
      "outputs": [
        {
          "data": {
            "application/vnd.plotly.v1+json": {
              "config": {
                "plotlyServerURL": "https://plot.ly"
              },
              "data": [
                {
                  "line": {
                    "color": "#1f77b4"
                  },
                  "marker": {
                    "color": "#1f77b4"
                  },
                  "name": "SepalLengthCm",
                  "type": "box",
                  "x": [
                    5.1,
                    4.9,
                    4.7,
                    4.6,
                    5,
                    5.4,
                    4.6,
                    5,
                    4.4,
                    4.9,
                    5.4,
                    4.8,
                    4.8,
                    4.3,
                    5.8,
                    5.7,
                    5.4,
                    5.1,
                    5.7,
                    5.1,
                    5.4,
                    5.1,
                    4.6,
                    5.1,
                    4.8,
                    5,
                    5,
                    5.2,
                    5.2,
                    4.7,
                    4.8,
                    5.4,
                    5.2,
                    5.5,
                    4.9,
                    5,
                    5.5,
                    4.9,
                    4.4,
                    5.1,
                    5,
                    4.5,
                    4.4,
                    5,
                    5.1,
                    4.8,
                    5.1,
                    4.6,
                    5.3,
                    5,
                    7,
                    6.4,
                    6.9,
                    5.5,
                    6.5,
                    5.7,
                    6.3,
                    4.9,
                    6.6,
                    5.2,
                    5,
                    5.9,
                    6,
                    6.1,
                    5.6,
                    6.7,
                    5.6,
                    5.8,
                    6.2,
                    5.6,
                    5.9,
                    6.1,
                    6.3,
                    6.1,
                    6.4,
                    6.6,
                    6.8,
                    6.7,
                    6,
                    5.7,
                    5.5,
                    5.5,
                    5.8,
                    6,
                    5.4,
                    6,
                    6.7,
                    6.3,
                    5.6,
                    5.5,
                    5.5,
                    6.1,
                    5.8,
                    5,
                    5.6,
                    5.7,
                    5.7,
                    6.2,
                    5.1,
                    5.7,
                    6.3,
                    5.8,
                    7.1,
                    6.3,
                    6.5,
                    7.6,
                    4.9,
                    7.3,
                    6.7,
                    7.2,
                    6.5,
                    6.4,
                    6.8,
                    5.7,
                    5.8,
                    6.4,
                    6.5,
                    7.7,
                    7.7,
                    6,
                    6.9,
                    5.6,
                    7.7,
                    6.3,
                    6.7,
                    7.2,
                    6.2,
                    6.1,
                    6.4,
                    7.2,
                    7.4,
                    7.9,
                    6.4,
                    6.3,
                    6.1,
                    7.7,
                    6.3,
                    6.4,
                    6,
                    6.9,
                    6.7,
                    6.9,
                    5.8,
                    6.8,
                    6.7,
                    6.7,
                    6.3,
                    6.5,
                    6.2,
                    5.9
                  ],
                  "xaxis": "x",
                  "yaxis": "y"
                },
                {
                  "line": {
                    "color": "#1f77b4"
                  },
                  "marker": {
                    "color": "#1f77b4"
                  },
                  "name": "SepalWidthCm",
                  "type": "box",
                  "x": [
                    3.5,
                    3,
                    3.2,
                    3.1,
                    3.6,
                    3.9,
                    3.4,
                    3.4,
                    2.9,
                    3.1,
                    3.7,
                    3.4,
                    3,
                    3,
                    4,
                    4.4,
                    3.9,
                    3.5,
                    3.8,
                    3.8,
                    3.4,
                    3.7,
                    3.6,
                    3.3,
                    3.4,
                    3,
                    3.4,
                    3.5,
                    3.4,
                    3.2,
                    3.1,
                    3.4,
                    4.1,
                    4.2,
                    3.1,
                    3.2,
                    3.5,
                    3.1,
                    3,
                    3.4,
                    3.5,
                    2.3,
                    3.2,
                    3.5,
                    3.8,
                    3,
                    3.8,
                    3.2,
                    3.7,
                    3.3,
                    3.2,
                    3.2,
                    3.1,
                    2.3,
                    2.8,
                    2.8,
                    3.3,
                    2.4,
                    2.9,
                    2.7,
                    2,
                    3,
                    2.2,
                    2.9,
                    2.9,
                    3.1,
                    3,
                    2.7,
                    2.2,
                    2.5,
                    3.2,
                    2.8,
                    2.5,
                    2.8,
                    2.9,
                    3,
                    2.8,
                    3,
                    2.9,
                    2.6,
                    2.4,
                    2.4,
                    2.7,
                    2.7,
                    3,
                    3.4,
                    3.1,
                    2.3,
                    3,
                    2.5,
                    2.6,
                    3,
                    2.6,
                    2.3,
                    2.7,
                    3,
                    2.9,
                    2.9,
                    2.5,
                    2.8,
                    3.3,
                    2.7,
                    3,
                    2.9,
                    3,
                    3,
                    2.5,
                    2.9,
                    2.5,
                    3.6,
                    3.2,
                    2.7,
                    3,
                    2.5,
                    2.8,
                    3.2,
                    3,
                    3.8,
                    2.6,
                    2.2,
                    3.2,
                    2.8,
                    2.8,
                    2.7,
                    3.3,
                    3.2,
                    2.8,
                    3,
                    2.8,
                    3,
                    2.8,
                    3.8,
                    2.8,
                    2.8,
                    2.6,
                    3,
                    3.4,
                    3.1,
                    3,
                    3.1,
                    3.1,
                    3.1,
                    2.7,
                    3.2,
                    3.3,
                    3,
                    2.5,
                    3,
                    3.4,
                    3
                  ],
                  "xaxis": "x3",
                  "yaxis": "y3"
                },
                {
                  "line": {
                    "color": "#1f77b4"
                  },
                  "marker": {
                    "color": "#1f77b4"
                  },
                  "name": "PetalLengthCm",
                  "type": "box",
                  "x": [
                    1.4,
                    1.4,
                    1.3,
                    1.5,
                    1.4,
                    1.7,
                    1.4,
                    1.5,
                    1.4,
                    1.5,
                    1.5,
                    1.6,
                    1.4,
                    1.1,
                    1.2,
                    1.5,
                    1.3,
                    1.4,
                    1.7,
                    1.5,
                    1.7,
                    1.5,
                    1,
                    1.7,
                    1.9,
                    1.6,
                    1.6,
                    1.5,
                    1.4,
                    1.6,
                    1.6,
                    1.5,
                    1.5,
                    1.4,
                    1.5,
                    1.2,
                    1.3,
                    1.5,
                    1.3,
                    1.5,
                    1.3,
                    1.3,
                    1.3,
                    1.6,
                    1.9,
                    1.4,
                    1.6,
                    1.4,
                    1.5,
                    1.4,
                    4.7,
                    4.5,
                    4.9,
                    4,
                    4.6,
                    4.5,
                    4.7,
                    3.3,
                    4.6,
                    3.9,
                    3.5,
                    4.2,
                    4,
                    4.7,
                    3.6,
                    4.4,
                    4.5,
                    4.1,
                    4.5,
                    3.9,
                    4.8,
                    4,
                    4.9,
                    4.7,
                    4.3,
                    4.4,
                    4.8,
                    5,
                    4.5,
                    3.5,
                    3.8,
                    3.7,
                    3.9,
                    5.1,
                    4.5,
                    4.5,
                    4.7,
                    4.4,
                    4.1,
                    4,
                    4.4,
                    4.6,
                    4,
                    3.3,
                    4.2,
                    4.2,
                    4.2,
                    4.3,
                    3,
                    4.1,
                    6,
                    5.1,
                    5.9,
                    5.6,
                    5.8,
                    6.6,
                    4.5,
                    6.3,
                    5.8,
                    6.1,
                    5.1,
                    5.3,
                    5.5,
                    5,
                    5.1,
                    5.3,
                    5.5,
                    6.7,
                    6.9,
                    5,
                    5.7,
                    4.9,
                    6.7,
                    4.9,
                    5.7,
                    6,
                    4.8,
                    4.9,
                    5.6,
                    5.8,
                    6.1,
                    6.4,
                    5.6,
                    5.1,
                    5.6,
                    6.1,
                    5.6,
                    5.5,
                    4.8,
                    5.4,
                    5.6,
                    5.1,
                    5.1,
                    5.9,
                    5.7,
                    5.2,
                    5,
                    5.2,
                    5.4,
                    5.1
                  ],
                  "xaxis": "x2",
                  "yaxis": "y2"
                },
                {
                  "line": {
                    "color": "#1f77b4"
                  },
                  "marker": {
                    "color": "#1f77b4"
                  },
                  "name": "PetalWidthCm",
                  "type": "box",
                  "x": [
                    0.2,
                    0.2,
                    0.2,
                    0.2,
                    0.2,
                    0.4,
                    0.3,
                    0.2,
                    0.2,
                    0.1,
                    0.2,
                    0.2,
                    0.1,
                    0.1,
                    0.2,
                    0.4,
                    0.4,
                    0.3,
                    0.3,
                    0.3,
                    0.2,
                    0.4,
                    0.2,
                    0.5,
                    0.2,
                    0.2,
                    0.4,
                    0.2,
                    0.2,
                    0.2,
                    0.2,
                    0.4,
                    0.1,
                    0.2,
                    0.1,
                    0.2,
                    0.2,
                    0.1,
                    0.2,
                    0.2,
                    0.3,
                    0.3,
                    0.2,
                    0.6,
                    0.4,
                    0.3,
                    0.2,
                    0.2,
                    0.2,
                    0.2,
                    1.4,
                    1.5,
                    1.5,
                    1.3,
                    1.5,
                    1.3,
                    1.6,
                    1,
                    1.3,
                    1.4,
                    1,
                    1.5,
                    1,
                    1.4,
                    1.3,
                    1.4,
                    1.5,
                    1,
                    1.5,
                    1.1,
                    1.8,
                    1.3,
                    1.5,
                    1.2,
                    1.3,
                    1.4,
                    1.4,
                    1.7,
                    1.5,
                    1,
                    1.1,
                    1,
                    1.2,
                    1.6,
                    1.5,
                    1.6,
                    1.5,
                    1.3,
                    1.3,
                    1.3,
                    1.2,
                    1.4,
                    1.2,
                    1,
                    1.3,
                    1.2,
                    1.3,
                    1.3,
                    1.1,
                    1.3,
                    2.5,
                    1.9,
                    2.1,
                    1.8,
                    2.2,
                    2.1,
                    1.7,
                    1.8,
                    1.8,
                    2.5,
                    2,
                    1.9,
                    2.1,
                    2,
                    2.4,
                    2.3,
                    1.8,
                    2.2,
                    2.3,
                    1.5,
                    2.3,
                    2,
                    2,
                    1.8,
                    2.1,
                    1.8,
                    1.8,
                    1.8,
                    2.1,
                    1.6,
                    1.9,
                    2,
                    2.2,
                    1.5,
                    1.4,
                    2.3,
                    2.4,
                    1.8,
                    1.8,
                    2.1,
                    2.4,
                    2.3,
                    1.9,
                    2.3,
                    2.5,
                    2.3,
                    1.9,
                    2,
                    2.3,
                    1.8
                  ],
                  "xaxis": "x4",
                  "yaxis": "y4"
                }
              ],
              "layout": {
                "showlegend": false,
                "template": {
                  "data": {
                    "bar": [
                      {
                        "error_x": {
                          "color": "#2a3f5f"
                        },
                        "error_y": {
                          "color": "#2a3f5f"
                        },
                        "marker": {
                          "line": {
                            "color": "#E5ECF6",
                            "width": 0.5
                          },
                          "pattern": {
                            "fillmode": "overlay",
                            "size": 10,
                            "solidity": 0.2
                          }
                        },
                        "type": "bar"
                      }
                    ],
                    "barpolar": [
                      {
                        "marker": {
                          "line": {
                            "color": "#E5ECF6",
                            "width": 0.5
                          },
                          "pattern": {
                            "fillmode": "overlay",
                            "size": 10,
                            "solidity": 0.2
                          }
                        },
                        "type": "barpolar"
                      }
                    ],
                    "carpet": [
                      {
                        "aaxis": {
                          "endlinecolor": "#2a3f5f",
                          "gridcolor": "white",
                          "linecolor": "white",
                          "minorgridcolor": "white",
                          "startlinecolor": "#2a3f5f"
                        },
                        "baxis": {
                          "endlinecolor": "#2a3f5f",
                          "gridcolor": "white",
                          "linecolor": "white",
                          "minorgridcolor": "white",
                          "startlinecolor": "#2a3f5f"
                        },
                        "type": "carpet"
                      }
                    ],
                    "choropleth": [
                      {
                        "colorbar": {
                          "outlinewidth": 0,
                          "ticks": ""
                        },
                        "type": "choropleth"
                      }
                    ],
                    "contour": [
                      {
                        "colorbar": {
                          "outlinewidth": 0,
                          "ticks": ""
                        },
                        "colorscale": [
                          [
                            0,
                            "#0d0887"
                          ],
                          [
                            0.1111111111111111,
                            "#46039f"
                          ],
                          [
                            0.2222222222222222,
                            "#7201a8"
                          ],
                          [
                            0.3333333333333333,
                            "#9c179e"
                          ],
                          [
                            0.4444444444444444,
                            "#bd3786"
                          ],
                          [
                            0.5555555555555556,
                            "#d8576b"
                          ],
                          [
                            0.6666666666666666,
                            "#ed7953"
                          ],
                          [
                            0.7777777777777778,
                            "#fb9f3a"
                          ],
                          [
                            0.8888888888888888,
                            "#fdca26"
                          ],
                          [
                            1,
                            "#f0f921"
                          ]
                        ],
                        "type": "contour"
                      }
                    ],
                    "contourcarpet": [
                      {
                        "colorbar": {
                          "outlinewidth": 0,
                          "ticks": ""
                        },
                        "type": "contourcarpet"
                      }
                    ],
                    "heatmap": [
                      {
                        "colorbar": {
                          "outlinewidth": 0,
                          "ticks": ""
                        },
                        "colorscale": [
                          [
                            0,
                            "#0d0887"
                          ],
                          [
                            0.1111111111111111,
                            "#46039f"
                          ],
                          [
                            0.2222222222222222,
                            "#7201a8"
                          ],
                          [
                            0.3333333333333333,
                            "#9c179e"
                          ],
                          [
                            0.4444444444444444,
                            "#bd3786"
                          ],
                          [
                            0.5555555555555556,
                            "#d8576b"
                          ],
                          [
                            0.6666666666666666,
                            "#ed7953"
                          ],
                          [
                            0.7777777777777778,
                            "#fb9f3a"
                          ],
                          [
                            0.8888888888888888,
                            "#fdca26"
                          ],
                          [
                            1,
                            "#f0f921"
                          ]
                        ],
                        "type": "heatmap"
                      }
                    ],
                    "heatmapgl": [
                      {
                        "colorbar": {
                          "outlinewidth": 0,
                          "ticks": ""
                        },
                        "colorscale": [
                          [
                            0,
                            "#0d0887"
                          ],
                          [
                            0.1111111111111111,
                            "#46039f"
                          ],
                          [
                            0.2222222222222222,
                            "#7201a8"
                          ],
                          [
                            0.3333333333333333,
                            "#9c179e"
                          ],
                          [
                            0.4444444444444444,
                            "#bd3786"
                          ],
                          [
                            0.5555555555555556,
                            "#d8576b"
                          ],
                          [
                            0.6666666666666666,
                            "#ed7953"
                          ],
                          [
                            0.7777777777777778,
                            "#fb9f3a"
                          ],
                          [
                            0.8888888888888888,
                            "#fdca26"
                          ],
                          [
                            1,
                            "#f0f921"
                          ]
                        ],
                        "type": "heatmapgl"
                      }
                    ],
                    "histogram": [
                      {
                        "marker": {
                          "pattern": {
                            "fillmode": "overlay",
                            "size": 10,
                            "solidity": 0.2
                          }
                        },
                        "type": "histogram"
                      }
                    ],
                    "histogram2d": [
                      {
                        "colorbar": {
                          "outlinewidth": 0,
                          "ticks": ""
                        },
                        "colorscale": [
                          [
                            0,
                            "#0d0887"
                          ],
                          [
                            0.1111111111111111,
                            "#46039f"
                          ],
                          [
                            0.2222222222222222,
                            "#7201a8"
                          ],
                          [
                            0.3333333333333333,
                            "#9c179e"
                          ],
                          [
                            0.4444444444444444,
                            "#bd3786"
                          ],
                          [
                            0.5555555555555556,
                            "#d8576b"
                          ],
                          [
                            0.6666666666666666,
                            "#ed7953"
                          ],
                          [
                            0.7777777777777778,
                            "#fb9f3a"
                          ],
                          [
                            0.8888888888888888,
                            "#fdca26"
                          ],
                          [
                            1,
                            "#f0f921"
                          ]
                        ],
                        "type": "histogram2d"
                      }
                    ],
                    "histogram2dcontour": [
                      {
                        "colorbar": {
                          "outlinewidth": 0,
                          "ticks": ""
                        },
                        "colorscale": [
                          [
                            0,
                            "#0d0887"
                          ],
                          [
                            0.1111111111111111,
                            "#46039f"
                          ],
                          [
                            0.2222222222222222,
                            "#7201a8"
                          ],
                          [
                            0.3333333333333333,
                            "#9c179e"
                          ],
                          [
                            0.4444444444444444,
                            "#bd3786"
                          ],
                          [
                            0.5555555555555556,
                            "#d8576b"
                          ],
                          [
                            0.6666666666666666,
                            "#ed7953"
                          ],
                          [
                            0.7777777777777778,
                            "#fb9f3a"
                          ],
                          [
                            0.8888888888888888,
                            "#fdca26"
                          ],
                          [
                            1,
                            "#f0f921"
                          ]
                        ],
                        "type": "histogram2dcontour"
                      }
                    ],
                    "mesh3d": [
                      {
                        "colorbar": {
                          "outlinewidth": 0,
                          "ticks": ""
                        },
                        "type": "mesh3d"
                      }
                    ],
                    "parcoords": [
                      {
                        "line": {
                          "colorbar": {
                            "outlinewidth": 0,
                            "ticks": ""
                          }
                        },
                        "type": "parcoords"
                      }
                    ],
                    "pie": [
                      {
                        "automargin": true,
                        "type": "pie"
                      }
                    ],
                    "scatter": [
                      {
                        "fillpattern": {
                          "fillmode": "overlay",
                          "size": 10,
                          "solidity": 0.2
                        },
                        "type": "scatter"
                      }
                    ],
                    "scatter3d": [
                      {
                        "line": {
                          "colorbar": {
                            "outlinewidth": 0,
                            "ticks": ""
                          }
                        },
                        "marker": {
                          "colorbar": {
                            "outlinewidth": 0,
                            "ticks": ""
                          }
                        },
                        "type": "scatter3d"
                      }
                    ],
                    "scattercarpet": [
                      {
                        "marker": {
                          "colorbar": {
                            "outlinewidth": 0,
                            "ticks": ""
                          }
                        },
                        "type": "scattercarpet"
                      }
                    ],
                    "scattergeo": [
                      {
                        "marker": {
                          "colorbar": {
                            "outlinewidth": 0,
                            "ticks": ""
                          }
                        },
                        "type": "scattergeo"
                      }
                    ],
                    "scattergl": [
                      {
                        "marker": {
                          "colorbar": {
                            "outlinewidth": 0,
                            "ticks": ""
                          }
                        },
                        "type": "scattergl"
                      }
                    ],
                    "scattermapbox": [
                      {
                        "marker": {
                          "colorbar": {
                            "outlinewidth": 0,
                            "ticks": ""
                          }
                        },
                        "type": "scattermapbox"
                      }
                    ],
                    "scatterpolar": [
                      {
                        "marker": {
                          "colorbar": {
                            "outlinewidth": 0,
                            "ticks": ""
                          }
                        },
                        "type": "scatterpolar"
                      }
                    ],
                    "scatterpolargl": [
                      {
                        "marker": {
                          "colorbar": {
                            "outlinewidth": 0,
                            "ticks": ""
                          }
                        },
                        "type": "scatterpolargl"
                      }
                    ],
                    "scatterternary": [
                      {
                        "marker": {
                          "colorbar": {
                            "outlinewidth": 0,
                            "ticks": ""
                          }
                        },
                        "type": "scatterternary"
                      }
                    ],
                    "surface": [
                      {
                        "colorbar": {
                          "outlinewidth": 0,
                          "ticks": ""
                        },
                        "colorscale": [
                          [
                            0,
                            "#0d0887"
                          ],
                          [
                            0.1111111111111111,
                            "#46039f"
                          ],
                          [
                            0.2222222222222222,
                            "#7201a8"
                          ],
                          [
                            0.3333333333333333,
                            "#9c179e"
                          ],
                          [
                            0.4444444444444444,
                            "#bd3786"
                          ],
                          [
                            0.5555555555555556,
                            "#d8576b"
                          ],
                          [
                            0.6666666666666666,
                            "#ed7953"
                          ],
                          [
                            0.7777777777777778,
                            "#fb9f3a"
                          ],
                          [
                            0.8888888888888888,
                            "#fdca26"
                          ],
                          [
                            1,
                            "#f0f921"
                          ]
                        ],
                        "type": "surface"
                      }
                    ],
                    "table": [
                      {
                        "cells": {
                          "fill": {
                            "color": "#EBF0F8"
                          },
                          "line": {
                            "color": "white"
                          }
                        },
                        "header": {
                          "fill": {
                            "color": "#C8D4E3"
                          },
                          "line": {
                            "color": "white"
                          }
                        },
                        "type": "table"
                      }
                    ]
                  },
                  "layout": {
                    "annotationdefaults": {
                      "arrowcolor": "#2a3f5f",
                      "arrowhead": 0,
                      "arrowwidth": 1
                    },
                    "autotypenumbers": "strict",
                    "coloraxis": {
                      "colorbar": {
                        "outlinewidth": 0,
                        "ticks": ""
                      }
                    },
                    "colorscale": {
                      "diverging": [
                        [
                          0,
                          "#8e0152"
                        ],
                        [
                          0.1,
                          "#c51b7d"
                        ],
                        [
                          0.2,
                          "#de77ae"
                        ],
                        [
                          0.3,
                          "#f1b6da"
                        ],
                        [
                          0.4,
                          "#fde0ef"
                        ],
                        [
                          0.5,
                          "#f7f7f7"
                        ],
                        [
                          0.6,
                          "#e6f5d0"
                        ],
                        [
                          0.7,
                          "#b8e186"
                        ],
                        [
                          0.8,
                          "#7fbc41"
                        ],
                        [
                          0.9,
                          "#4d9221"
                        ],
                        [
                          1,
                          "#276419"
                        ]
                      ],
                      "sequential": [
                        [
                          0,
                          "#0d0887"
                        ],
                        [
                          0.1111111111111111,
                          "#46039f"
                        ],
                        [
                          0.2222222222222222,
                          "#7201a8"
                        ],
                        [
                          0.3333333333333333,
                          "#9c179e"
                        ],
                        [
                          0.4444444444444444,
                          "#bd3786"
                        ],
                        [
                          0.5555555555555556,
                          "#d8576b"
                        ],
                        [
                          0.6666666666666666,
                          "#ed7953"
                        ],
                        [
                          0.7777777777777778,
                          "#fb9f3a"
                        ],
                        [
                          0.8888888888888888,
                          "#fdca26"
                        ],
                        [
                          1,
                          "#f0f921"
                        ]
                      ],
                      "sequentialminus": [
                        [
                          0,
                          "#0d0887"
                        ],
                        [
                          0.1111111111111111,
                          "#46039f"
                        ],
                        [
                          0.2222222222222222,
                          "#7201a8"
                        ],
                        [
                          0.3333333333333333,
                          "#9c179e"
                        ],
                        [
                          0.4444444444444444,
                          "#bd3786"
                        ],
                        [
                          0.5555555555555556,
                          "#d8576b"
                        ],
                        [
                          0.6666666666666666,
                          "#ed7953"
                        ],
                        [
                          0.7777777777777778,
                          "#fb9f3a"
                        ],
                        [
                          0.8888888888888888,
                          "#fdca26"
                        ],
                        [
                          1,
                          "#f0f921"
                        ]
                      ]
                    },
                    "colorway": [
                      "#636efa",
                      "#EF553B",
                      "#00cc96",
                      "#ab63fa",
                      "#FFA15A",
                      "#19d3f3",
                      "#FF6692",
                      "#B6E880",
                      "#FF97FF",
                      "#FECB52"
                    ],
                    "font": {
                      "color": "#2a3f5f"
                    },
                    "geo": {
                      "bgcolor": "white",
                      "lakecolor": "white",
                      "landcolor": "#E5ECF6",
                      "showlakes": true,
                      "showland": true,
                      "subunitcolor": "white"
                    },
                    "hoverlabel": {
                      "align": "left"
                    },
                    "hovermode": "closest",
                    "mapbox": {
                      "style": "light"
                    },
                    "paper_bgcolor": "white",
                    "plot_bgcolor": "#E5ECF6",
                    "polar": {
                      "angularaxis": {
                        "gridcolor": "white",
                        "linecolor": "white",
                        "ticks": ""
                      },
                      "bgcolor": "#E5ECF6",
                      "radialaxis": {
                        "gridcolor": "white",
                        "linecolor": "white",
                        "ticks": ""
                      }
                    },
                    "scene": {
                      "xaxis": {
                        "backgroundcolor": "#E5ECF6",
                        "gridcolor": "white",
                        "gridwidth": 2,
                        "linecolor": "white",
                        "showbackground": true,
                        "ticks": "",
                        "zerolinecolor": "white"
                      },
                      "yaxis": {
                        "backgroundcolor": "#E5ECF6",
                        "gridcolor": "white",
                        "gridwidth": 2,
                        "linecolor": "white",
                        "showbackground": true,
                        "ticks": "",
                        "zerolinecolor": "white"
                      },
                      "zaxis": {
                        "backgroundcolor": "#E5ECF6",
                        "gridcolor": "white",
                        "gridwidth": 2,
                        "linecolor": "white",
                        "showbackground": true,
                        "ticks": "",
                        "zerolinecolor": "white"
                      }
                    },
                    "shapedefaults": {
                      "line": {
                        "color": "#2a3f5f"
                      }
                    },
                    "ternary": {
                      "aaxis": {
                        "gridcolor": "white",
                        "linecolor": "white",
                        "ticks": ""
                      },
                      "baxis": {
                        "gridcolor": "white",
                        "linecolor": "white",
                        "ticks": ""
                      },
                      "bgcolor": "#E5ECF6",
                      "caxis": {
                        "gridcolor": "white",
                        "linecolor": "white",
                        "ticks": ""
                      }
                    },
                    "title": {
                      "x": 0.05
                    },
                    "xaxis": {
                      "automargin": true,
                      "gridcolor": "white",
                      "linecolor": "white",
                      "ticks": "",
                      "title": {
                        "standoff": 15
                      },
                      "zerolinecolor": "white",
                      "zerolinewidth": 2
                    },
                    "yaxis": {
                      "automargin": true,
                      "gridcolor": "white",
                      "linecolor": "white",
                      "ticks": "",
                      "title": {
                        "standoff": 15
                      },
                      "zerolinecolor": "white",
                      "zerolinewidth": 2
                    }
                  }
                },
                "title": {
                  "text": "Boxplots of Numerical Columns"
                },
                "xaxis": {
                  "anchor": "y",
                  "domain": [
                    0,
                    0.45
                  ]
                },
                "xaxis2": {
                  "anchor": "y2",
                  "domain": [
                    0.55,
                    1
                  ]
                },
                "xaxis3": {
                  "anchor": "y3",
                  "domain": [
                    0,
                    0.45
                  ]
                },
                "xaxis4": {
                  "anchor": "y4",
                  "domain": [
                    0.55,
                    1
                  ]
                },
                "yaxis": {
                  "anchor": "x",
                  "domain": [
                    0.575,
                    1
                  ]
                },
                "yaxis2": {
                  "anchor": "x2",
                  "domain": [
                    0.575,
                    1
                  ]
                },
                "yaxis3": {
                  "anchor": "x3",
                  "domain": [
                    0,
                    0.425
                  ]
                },
                "yaxis4": {
                  "anchor": "x4",
                  "domain": [
                    0,
                    0.425
                  ]
                }
              }
            }
          },
          "metadata": {},
          "output_type": "display_data"
        }
      ],
      "source": [
        "custom_colors = ['#1f77b4', 'skyblue', 'cornflowerblue']\n",
        "\n",
        "numerical_features = [col for col in df.columns if df[col].dtype in ['int64', 'float64']]\n",
        "# Calculate the number of rows and columns needed for subplots\n",
        "num_cols = 2\n",
        "num_rows = (len(numerical_features[1:]) + num_cols - 1) // num_cols  # Calculate number of rows based on columns\n",
        "\n",
        "# Create subplots with the calculated number of rows and columns\n",
        "fig = make_subplots(rows=num_rows, cols=num_cols)\n",
        "\n",
        "# Loop through numerical columns and add boxplots with color\n",
        "for i, col in enumerate(numerical_features[1:], start=1):\n",
        "    row_num = (i - 1) % num_rows + 1\n",
        "    col_num = (i - 1) // num_rows + 1\n",
        "    fig.add_trace(\n",
        "        go.Box(\n",
        "            x=df[col],\n",
        "            name=col,\n",
        "            marker_color='#1f77b4',  # Set box color\n",
        "            line_color='#1f77b4'     # Set mean line color\n",
        "        ),\n",
        "        row=row_num,\n",
        "        col=col_num\n",
        "    )\n",
        "\n",
        "# Update layout\n",
        "fig.update_layout(title_text=\"Boxplots of Numerical Columns\", showlegend=False,)\n",
        "\n",
        "# Show the plot\n",
        "fig.show()"
      ]
    },
    {
      "cell_type": "code",
      "execution_count": 10,
      "metadata": {},
      "outputs": [
        {
          "data": {
            "image/png": "[encoded data removed]",
            "text/plain": [
              "<Figure size 2000x500 with 4 Axes>"
            ]
          },
          "metadata": {},
          "output_type": "display_data"
        }
      ],
      "source": [
        "numeric_features = [col for col in df.columns if df[col].dtype in ['int64', 'float64']]\n",
        "\n",
        "# Calculate the number of rows and columns for subplots\n",
        "num_features = len(numeric_features[1:])\n",
        "num_rows = math.ceil(num_features / 4)  # Adjust the number 4 based on how many plots you want per row\n",
        "num_cols = min(num_features, 4)\n",
        "\n",
        "# Set up the figure and axes for subplots\n",
        "fig, axes = plt.subplots(nrows=num_rows, ncols=num_cols, figsize=(5*num_cols, 5*num_rows))\n",
        "\n",
        "# Flatten the axes for easier iteration\n",
        "axes = axes.flatten()\n",
        "\n",
        "sns.set_theme(style=\"darkgrid\")\n",
        "\n",
        "# Loop through each numerical feature and create a distribution plot with custom bar color\n",
        "for i, col in enumerate(numeric_features[1:]):\n",
        "    sns.histplot(df[col], kde=True, ax=axes[i])\n",
        "    axes[i].set_title(col)\n",
        "    axes[i].set_facecolor('skyblue')  # Set background color to skyblue\n",
        "# Remove any unused subplots\n",
        "for i in range(num_features, num_rows*num_cols):\n",
        "    fig.delaxes(axes[i])\n",
        "\n",
        "# Adjust layout\n",
        "plt.tight_layout()\n",
        "plt.show()"
      ]
    },
    {
      "cell_type": "markdown",
      "metadata": {},
      "source": [
        "#### <span style='color:#074173'> 💬 Nhận xét: </span>\n",
        "<div style=\"border-radius:10px;border:#0C6A86 solid;padding:5px;background-color:#ebfae8;font-size:110%;text-align:left;color:black\">\n",
        "\n",
        "- Từ biểu đồ Boxplot ở trên chúng ta có thể thấy rằng `SepalWidthCm` chứa một số ngoại lệ và tất cả các giá trị khác đều hoàn toàn ổn\n",
        "\n",
        "- `Chiều dài của đài hoa (SepalLengthCm)`: Phân phối này có dạng phân phối chuẩn tương đối, với nhiều quan sát tập trung trong khoảng từ 5 đến 7 cm.\n",
        "\n",
        "- `Chiều rộng của đài hoa (SepalWidthCm)`: Phân phối này cũng khá chuẩn nhưng có một đỉnh rõ rệt xung quanh giá trị 3 cm. Điều này có thể cho thấy rằng chiều rộng của đài hoa trong tập dữ liệu này có xu hướng tập trung nhiều vào một giá trị cụ thể.\n",
        "\n",
        "- `Chiều dài của cánh hoa (PetalLengthCm)`: Phân phối này cho thấy có hai nhóm dữ liệu rõ rệt, một nhóm có chiều dài ngắn hơn (từ 1 đến 2 cm) và nhóm còn lại có chiều dài dài hơn (từ 3 đến 6 cm). Điều này giúp nhận biết sự phân chia trong đặc tính của chiều dài cánh hoa và có thể liên quan đến sự phân biệt giữa các loài trong tập dữ liệu iris.\n",
        "\n",
        "- `Chiều rộng của cánh hoa (PetalWidthCm)`: Phân phối này cũng cho thấy sự tồn tại của hai nhóm dữ liệu. Một nhóm quan sát tập trung chủ yếu dưới 1 cm và nhóm còn lại tập trung trong khoảng từ 1 đến 2,5 cm. Đây cũng có thể là dấu hiệu của sự phân biệt giữa các loài trong tập dữ liệu.\n"
      ]
    },
    {
      "cell_type": "markdown",
      "metadata": {},
      "source": [
        "## <span style='color:#074173'> <b>👉 Phân tích giữa 4 biến Numerical và biến Species </b> </span>"
      ]
    },
    {
      "cell_type": "markdown",
      "metadata": {},
      "source": [
        "- Việc phân tích hai biến là một phương pháp thống kê được sử dụng để khám phá mối quan hệ giữa hai biến cùng một lúc. Phân tích này rất quan trọng để xác định các mối quan hệ tiềm ẩn, xác định mối liên hệ giữa các biến số và hiểu rõ hơn về đặc tính chung của chúng."
      ]
    },
    {
      "cell_type": "markdown",
      "metadata": {},
      "source": [
        "\n",
        "### <span style='color:#074173'> <b>❓ SepalLengthCm vs Species</b> </span>"
      ]
    },
    {
      "cell_type": "code",
      "execution_count": 11,
      "metadata": {},
      "outputs": [
        {
          "data": {
            "application/vnd.plotly.v1+json": {
              "config": {
                "plotlyServerURL": "https://plot.ly"
              },
              "data": [
                {
                  "alignmentgroup": "True",
                  "hovertemplate": "Species=%{x}<br>SepalLengthCm=%{y}<extra></extra>",
                  "legendgroup": "Iris-setosa",
                  "marker": {
                    "color": "#1f77b4"
                  },
                  "name": "Iris-setosa",
                  "notched": false,
                  "offsetgroup": "Iris-setosa",
                  "orientation": "v",
                  "showlegend": true,
                  "type": "box",
                  "x": [
                    "Iris-setosa",
                    "Iris-setosa",
                    "Iris-setosa",
                    "Iris-setosa",
                    "Iris-setosa",
                    "Iris-setosa",
                    "Iris-setosa",
                    "Iris-setosa",
                    "Iris-setosa",
                    "Iris-setosa",
                    "Iris-setosa",
                    "Iris-setosa",
                    "Iris-setosa",
                    "Iris-setosa",
                    "Iris-setosa",
                    "Iris-setosa",
                    "Iris-setosa",
                    "Iris-setosa",
                    "Iris-setosa",
                    "Iris-setosa",
                    "Iris-setosa",
                    "Iris-setosa",
                    "Iris-setosa",
                    "Iris-setosa",
                    "Iris-setosa",
                    "Iris-setosa",
                    "Iris-setosa",
                    "Iris-setosa",
                    "Iris-setosa",
                    "Iris-setosa",
                    "Iris-setosa",
                    "Iris-setosa",
                    "Iris-setosa",
                    "Iris-setosa",
                    "Iris-setosa",
                    "Iris-setosa",
                    "Iris-setosa",
                    "Iris-setosa",
                    "Iris-setosa",
                    "Iris-setosa",
                    "Iris-setosa",
                    "Iris-setosa",
                    "Iris-setosa",
                    "Iris-setosa",
                    "Iris-setosa",
                    "Iris-setosa",
                    "Iris-setosa",
                    "Iris-setosa",
                    "Iris-setosa",
                    "Iris-setosa"
                  ],
                  "x0": " ",
                  "xaxis": "x",
                  "y": [
                    5.1,
                    4.9,
                    4.7,
                    4.6,
                    5,
                    5.4,
                    4.6,
                    5,
                    4.4,
                    4.9,
                    5.4,
                    4.8,
                    4.8,
                    4.3,
                    5.8,
                    5.7,
                    5.4,
                    5.1,
                    5.7,
                    5.1,
                    5.4,
                    5.1,
                    4.6,
                    5.1,
                    4.8,
                    5,
                    5,
                    5.2,
                    5.2,
                    4.7,
                    4.8,
                    5.4,
                    5.2,
                    5.5,
                    4.9,
                    5,
                    5.5,
                    4.9,
                    4.4,
                    5.1,
                    5,
                    4.5,
                    4.4,
                    5,
                    5.1,
                    4.8,
                    5.1,
                    4.6,
                    5.3,
                    5
                  ],
                  "y0": " ",
                  "yaxis": "y"
                },
                {
                  "alignmentgroup": "True",
                  "hovertemplate": "Species=%{x}<br>SepalLengthCm=%{y}<extra></extra>",
                  "legendgroup": "Iris-versicolor",
                  "marker": {
                    "color": "skyblue"
                  },
                  "name": "Iris-versicolor",
                  "notched": false,
                  "offsetgroup": "Iris-versicolor",
                  "orientation": "v",
                  "showlegend": true,
                  "type": "box",
                  "x": [
                    "Iris-versicolor",
                    "Iris-versicolor",
                    "Iris-versicolor",
                    "Iris-versicolor",
                    "Iris-versicolor",
                    "Iris-versicolor",
                    "Iris-versicolor",
                    "Iris-versicolor",
                    "Iris-versicolor",
                    "Iris-versicolor",
                    "Iris-versicolor",
                    "Iris-versicolor",
                    "Iris-versicolor",
                    "Iris-versicolor",
                    "Iris-versicolor",
                    "Iris-versicolor",
                    "Iris-versicolor",
                    "Iris-versicolor",
                    "Iris-versicolor",
                    "Iris-versicolor",
                    "Iris-versicolor",
                    "Iris-versicolor",
                    "Iris-versicolor",
                    "Iris-versicolor",
                    "Iris-versicolor",
                    "Iris-versicolor",
                    "Iris-versicolor",
                    "Iris-versicolor",
                    "Iris-versicolor",
                    "Iris-versicolor",
                    "Iris-versicolor",
                    "Iris-versicolor",
                    "Iris-versicolor",
                    "Iris-versicolor",
                    "Iris-versicolor",
                    "Iris-versicolor",
                    "Iris-versicolor",
                    "Iris-versicolor",
                    "Iris-versicolor",
                    "Iris-versicolor",
                    "Iris-versicolor",
                    "Iris-versicolor",
                    "Iris-versicolor",
                    "Iris-versicolor",
                    "Iris-versicolor",
                    "Iris-versicolor",
                    "Iris-versicolor",
                    "Iris-versicolor",
                    "Iris-versicolor",
                    "Iris-versicolor"
                  ],
                  "x0": " ",
                  "xaxis": "x",
                  "y": [
                    7,
                    6.4,
                    6.9,
                    5.5,
                    6.5,
                    5.7,
                    6.3,
                    4.9,
                    6.6,
                    5.2,
                    5,
                    5.9,
                    6,
                    6.1,
                    5.6,
                    6.7,
                    5.6,
                    5.8,
                    6.2,
                    5.6,
                    5.9,
                    6.1,
                    6.3,
                    6.1,
                    6.4,
                    6.6,
                    6.8,
                    6.7,
                    6,
                    5.7,
                    5.5,
                    5.5,
                    5.8,
                    6,
                    5.4,
                    6,
                    6.7,
                    6.3,
                    5.6,
                    5.5,
                    5.5,
                    6.1,
                    5.8,
                    5,
                    5.6,
                    5.7,
                    5.7,
                    6.2,
                    5.1,
                    5.7
                  ],
                  "y0": " ",
                  "yaxis": "y"
                },
                {
                  "alignmentgroup": "True",
                  "hovertemplate": "Species=%{x}<br>SepalLengthCm=%{y}<extra></extra>",
                  "legendgroup": "Iris-virginica",
                  "marker": {
                    "color": "cornflowerblue"
                  },
                  "name": "Iris-virginica",
                  "notched": false,
                  "offsetgroup": "Iris-virginica",
                  "orientation": "v",
                  "showlegend": true,
                  "type": "box",
                  "x": [
                    "Iris-virginica",
                    "Iris-virginica",
                    "Iris-virginica",
                    "Iris-virginica",
                    "Iris-virginica",
                    "Iris-virginica",
                    "Iris-virginica",
                    "Iris-virginica",
                    "Iris-virginica",
                    "Iris-virginica",
                    "Iris-virginica",
                    "Iris-virginica",
                    "Iris-virginica",
                    "Iris-virginica",
                    "Iris-virginica",
                    "Iris-virginica",
                    "Iris-virginica",
                    "Iris-virginica",
                    "Iris-virginica",
                    "Iris-virginica",
                    "Iris-virginica",
                    "Iris-virginica",
                    "Iris-virginica",
                    "Iris-virginica",
                    "Iris-virginica",
                    "Iris-virginica",
                    "Iris-virginica",
                    "Iris-virginica",
                    "Iris-virginica",
                    "Iris-virginica",
                    "Iris-virginica",
                    "Iris-virginica",
                    "Iris-virginica",
                    "Iris-virginica",
                    "Iris-virginica",
                    "Iris-virginica",
                    "Iris-virginica",
                    "Iris-virginica",
                    "Iris-virginica",
                    "Iris-virginica",
                    "Iris-virginica",
                    "Iris-virginica",
                    "Iris-virginica",
                    "Iris-virginica",
                    "Iris-virginica",
                    "Iris-virginica",
                    "Iris-virginica",
                    "Iris-virginica",
                    "Iris-virginica",
                    "Iris-virginica"
                  ],
                  "x0": " ",
                  "xaxis": "x",
                  "y": [
                    6.3,
                    5.8,
                    7.1,
                    6.3,
                    6.5,
                    7.6,
                    4.9,
                    7.3,
                    6.7,
                    7.2,
                    6.5,
                    6.4,
                    6.8,
                    5.7,
                    5.8,
                    6.4,
                    6.5,
                    7.7,
                    7.7,
                    6,
                    6.9,
                    5.6,
                    7.7,
                    6.3,
                    6.7,
                    7.2,
                    6.2,
                    6.1,
                    6.4,
                    7.2,
                    7.4,
                    7.9,
                    6.4,
                    6.3,
                    6.1,
                    7.7,
                    6.3,
                    6.4,
                    6,
                    6.9,
                    6.7,
                    6.9,
                    5.8,
                    6.8,
                    6.7,
                    6.7,
                    6.3,
                    6.5,
                    6.2,
                    5.9
                  ],
                  "y0": " ",
                  "yaxis": "y"
                }
              ],
              "layout": {
                "boxmode": "overlay",
                "legend": {
                  "title": {
                    "text": "Species"
                  },
                  "tracegroupgap": 0
                },
                "template": {
                  "data": {
                    "bar": [
                      {
                        "error_x": {
                          "color": "#2a3f5f"
                        },
                        "error_y": {
                          "color": "#2a3f5f"
                        },
                        "marker": {
                          "line": {
                            "color": "#E5ECF6",
                            "width": 0.5
                          },
                          "pattern": {
                            "fillmode": "overlay",
                            "size": 10,
                            "solidity": 0.2
                          }
                        },
                        "type": "bar"
                      }
                    ],
                    "barpolar": [
                      {
                        "marker": {
                          "line": {
                            "color": "#E5ECF6",
                            "width": 0.5
                          },
                          "pattern": {
                            "fillmode": "overlay",
                            "size": 10,
                            "solidity": 0.2
                          }
                        },
                        "type": "barpolar"
                      }
                    ],
                    "carpet": [
                      {
                        "aaxis": {
                          "endlinecolor": "#2a3f5f",
                          "gridcolor": "white",
                          "linecolor": "white",
                          "minorgridcolor": "white",
                          "startlinecolor": "#2a3f5f"
                        },
                        "baxis": {
                          "endlinecolor": "#2a3f5f",
                          "gridcolor": "white",
                          "linecolor": "white",
                          "minorgridcolor": "white",
                          "startlinecolor": "#2a3f5f"
                        },
                        "type": "carpet"
                      }
                    ],
                    "choropleth": [
                      {
                        "colorbar": {
                          "outlinewidth": 0,
                          "ticks": ""
                        },
                        "type": "choropleth"
                      }
                    ],
                    "contour": [
                      {
                        "colorbar": {
                          "outlinewidth": 0,
                          "ticks": ""
                        },
                        "colorscale": [
                          [
                            0,
                            "#0d0887"
                          ],
                          [
                            0.1111111111111111,
                            "#46039f"
                          ],
                          [
                            0.2222222222222222,
                            "#7201a8"
                          ],
                          [
                            0.3333333333333333,
                            "#9c179e"
                          ],
                          [
                            0.4444444444444444,
                            "#bd3786"
                          ],
                          [
                            0.5555555555555556,
                            "#d8576b"
                          ],
                          [
                            0.6666666666666666,
                            "#ed7953"
                          ],
                          [
                            0.7777777777777778,
                            "#fb9f3a"
                          ],
                          [
                            0.8888888888888888,
                            "#fdca26"
                          ],
                          [
                            1,
                            "#f0f921"
                          ]
                        ],
                        "type": "contour"
                      }
                    ],
                    "contourcarpet": [
                      {
                        "colorbar": {
                          "outlinewidth": 0,
                          "ticks": ""
                        },
                        "type": "contourcarpet"
                      }
                    ],
                    "heatmap": [
                      {
                        "colorbar": {
                          "outlinewidth": 0,
                          "ticks": ""
                        },
                        "colorscale": [
                          [
                            0,
                            "#0d0887"
                          ],
                          [
                            0.1111111111111111,
                            "#46039f"
                          ],
                          [
                            0.2222222222222222,
                            "#7201a8"
                          ],
                          [
                            0.3333333333333333,
                            "#9c179e"
                          ],
                          [
                            0.4444444444444444,
                            "#bd3786"
                          ],
                          [
                            0.5555555555555556,
                            "#d8576b"
                          ],
                          [
                            0.6666666666666666,
                            "#ed7953"
                          ],
                          [
                            0.7777777777777778,
                            "#fb9f3a"
                          ],
                          [
                            0.8888888888888888,
                            "#fdca26"
                          ],
                          [
                            1,
                            "#f0f921"
                          ]
                        ],
                        "type": "heatmap"
                      }
                    ],
                    "heatmapgl": [
                      {
                        "colorbar": {
                          "outlinewidth": 0,
                          "ticks": ""
                        },
                        "colorscale": [
                          [
                            0,
                            "#0d0887"
                          ],
                          [
                            0.1111111111111111,
                            "#46039f"
                          ],
                          [
                            0.2222222222222222,
                            "#7201a8"
                          ],
                          [
                            0.3333333333333333,
                            "#9c179e"
                          ],
                          [
                            0.4444444444444444,
                            "#bd3786"
                          ],
                          [
                            0.5555555555555556,
                            "#d8576b"
                          ],
                          [
                            0.6666666666666666,
                            "#ed7953"
                          ],
                          [
                            0.7777777777777778,
                            "#fb9f3a"
                          ],
                          [
                            0.8888888888888888,
                            "#fdca26"
                          ],
                          [
                            1,
                            "#f0f921"
                          ]
                        ],
                        "type": "heatmapgl"
                      }
                    ],
                    "histogram": [
                      {
                        "marker": {
                          "pattern": {
                            "fillmode": "overlay",
                            "size": 10,
                            "solidity": 0.2
                          }
                        },
                        "type": "histogram"
                      }
                    ],
                    "histogram2d": [
                      {
                        "colorbar": {
                          "outlinewidth": 0,
                          "ticks": ""
                        },
                        "colorscale": [
                          [
                            0,
                            "#0d0887"
                          ],
                          [
                            0.1111111111111111,
                            "#46039f"
                          ],
                          [
                            0.2222222222222222,
                            "#7201a8"
                          ],
                          [
                            0.3333333333333333,
                            "#9c179e"
                          ],
                          [
                            0.4444444444444444,
                            "#bd3786"
                          ],
                          [
                            0.5555555555555556,
                            "#d8576b"
                          ],
                          [
                            0.6666666666666666,
                            "#ed7953"
                          ],
                          [
                            0.7777777777777778,
                            "#fb9f3a"
                          ],
                          [
                            0.8888888888888888,
                            "#fdca26"
                          ],
                          [
                            1,
                            "#f0f921"
                          ]
                        ],
                        "type": "histogram2d"
                      }
                    ],
                    "histogram2dcontour": [
                      {
                        "colorbar": {
                          "outlinewidth": 0,
                          "ticks": ""
                        },
                        "colorscale": [
                          [
                            0,
                            "#0d0887"
                          ],
                          [
                            0.1111111111111111,
                            "#46039f"
                          ],
                          [
                            0.2222222222222222,
                            "#7201a8"
                          ],
                          [
                            0.3333333333333333,
                            "#9c179e"
                          ],
                          [
                            0.4444444444444444,
                            "#bd3786"
                          ],
                          [
                            0.5555555555555556,
                            "#d8576b"
                          ],
                          [
                            0.6666666666666666,
                            "#ed7953"
                          ],
                          [
                            0.7777777777777778,
                            "#fb9f3a"
                          ],
                          [
                            0.8888888888888888,
                            "#fdca26"
                          ],
                          [
                            1,
                            "#f0f921"
                          ]
                        ],
                        "type": "histogram2dcontour"
                      }
                    ],
                    "mesh3d": [
                      {
                        "colorbar": {
                          "outlinewidth": 0,
                          "ticks": ""
                        },
                        "type": "mesh3d"
                      }
                    ],
                    "parcoords": [
                      {
                        "line": {
                          "colorbar": {
                            "outlinewidth": 0,
                            "ticks": ""
                          }
                        },
                        "type": "parcoords"
                      }
                    ],
                    "pie": [
                      {
                        "automargin": true,
                        "type": "pie"
                      }
                    ],
                    "scatter": [
                      {
                        "fillpattern": {
                          "fillmode": "overlay",
                          "size": 10,
                          "solidity": 0.2
                        },
                        "type": "scatter"
                      }
                    ],
                    "scatter3d": [
                      {
                        "line": {
                          "colorbar": {
                            "outlinewidth": 0,
                            "ticks": ""
                          }
                        },
                        "marker": {
                          "colorbar": {
                            "outlinewidth": 0,
                            "ticks": ""
                          }
                        },
                        "type": "scatter3d"
                      }
                    ],
                    "scattercarpet": [
                      {
                        "marker": {
                          "colorbar": {
                            "outlinewidth": 0,
                            "ticks": ""
                          }
                        },
                        "type": "scattercarpet"
                      }
                    ],
                    "scattergeo": [
                      {
                        "marker": {
                          "colorbar": {
                            "outlinewidth": 0,
                            "ticks": ""
                          }
                        },
                        "type": "scattergeo"
                      }
                    ],
                    "scattergl": [
                      {
                        "marker": {
                          "colorbar": {
                            "outlinewidth": 0,
                            "ticks": ""
                          }
                        },
                        "type": "scattergl"
                      }
                    ],
                    "scattermapbox": [
                      {
                        "marker": {
                          "colorbar": {
                            "outlinewidth": 0,
                            "ticks": ""
                          }
                        },
                        "type": "scattermapbox"
                      }
                    ],
                    "scatterpolar": [
                      {
                        "marker": {
                          "colorbar": {
                            "outlinewidth": 0,
                            "ticks": ""
                          }
                        },
                        "type": "scatterpolar"
                      }
                    ],
                    "scatterpolargl": [
                      {
                        "marker": {
                          "colorbar": {
                            "outlinewidth": 0,
                            "ticks": ""
                          }
                        },
                        "type": "scatterpolargl"
                      }
                    ],
                    "scatterternary": [
                      {
                        "marker": {
                          "colorbar": {
                            "outlinewidth": 0,
                            "ticks": ""
                          }
                        },
                        "type": "scatterternary"
                      }
                    ],
                    "surface": [
                      {
                        "colorbar": {
                          "outlinewidth": 0,
                          "ticks": ""
                        },
                        "colorscale": [
                          [
                            0,
                            "#0d0887"
                          ],
                          [
                            0.1111111111111111,
                            "#46039f"
                          ],
                          [
                            0.2222222222222222,
                            "#7201a8"
                          ],
                          [
                            0.3333333333333333,
                            "#9c179e"
                          ],
                          [
                            0.4444444444444444,
                            "#bd3786"
                          ],
                          [
                            0.5555555555555556,
                            "#d8576b"
                          ],
                          [
                            0.6666666666666666,
                            "#ed7953"
                          ],
                          [
                            0.7777777777777778,
                            "#fb9f3a"
                          ],
                          [
                            0.8888888888888888,
                            "#fdca26"
                          ],
                          [
                            1,
                            "#f0f921"
                          ]
                        ],
                        "type": "surface"
                      }
                    ],
                    "table": [
                      {
                        "cells": {
                          "fill": {
                            "color": "#EBF0F8"
                          },
                          "line": {
                            "color": "white"
                          }
                        },
                        "header": {
                          "fill": {
                            "color": "#C8D4E3"
                          },
                          "line": {
                            "color": "white"
                          }
                        },
                        "type": "table"
                      }
                    ]
                  },
                  "layout": {
                    "annotationdefaults": {
                      "arrowcolor": "#2a3f5f",
                      "arrowhead": 0,
                      "arrowwidth": 1
                    },
                    "autotypenumbers": "strict",
                    "coloraxis": {
                      "colorbar": {
                        "outlinewidth": 0,
                        "ticks": ""
                      }
                    },
                    "colorscale": {
                      "diverging": [
                        [
                          0,
                          "#8e0152"
                        ],
                        [
                          0.1,
                          "#c51b7d"
                        ],
                        [
                          0.2,
                          "#de77ae"
                        ],
                        [
                          0.3,
                          "#f1b6da"
                        ],
                        [
                          0.4,
                          "#fde0ef"
                        ],
                        [
                          0.5,
                          "#f7f7f7"
                        ],
                        [
                          0.6,
                          "#e6f5d0"
                        ],
                        [
                          0.7,
                          "#b8e186"
                        ],
                        [
                          0.8,
                          "#7fbc41"
                        ],
                        [
                          0.9,
                          "#4d9221"
                        ],
                        [
                          1,
                          "#276419"
                        ]
                      ],
                      "sequential": [
                        [
                          0,
                          "#0d0887"
                        ],
                        [
                          0.1111111111111111,
                          "#46039f"
                        ],
                        [
                          0.2222222222222222,
                          "#7201a8"
                        ],
                        [
                          0.3333333333333333,
                          "#9c179e"
                        ],
                        [
                          0.4444444444444444,
                          "#bd3786"
                        ],
                        [
                          0.5555555555555556,
                          "#d8576b"
                        ],
                        [
                          0.6666666666666666,
                          "#ed7953"
                        ],
                        [
                          0.7777777777777778,
                          "#fb9f3a"
                        ],
                        [
                          0.8888888888888888,
                          "#fdca26"
                        ],
                        [
                          1,
                          "#f0f921"
                        ]
                      ],
                      "sequentialminus": [
                        [
                          0,
                          "#0d0887"
                        ],
                        [
                          0.1111111111111111,
                          "#46039f"
                        ],
                        [
                          0.2222222222222222,
                          "#7201a8"
                        ],
                        [
                          0.3333333333333333,
                          "#9c179e"
                        ],
                        [
                          0.4444444444444444,
                          "#bd3786"
                        ],
                        [
                          0.5555555555555556,
                          "#d8576b"
                        ],
                        [
                          0.6666666666666666,
                          "#ed7953"
                        ],
                        [
                          0.7777777777777778,
                          "#fb9f3a"
                        ],
                        [
                          0.8888888888888888,
                          "#fdca26"
                        ],
                        [
                          1,
                          "#f0f921"
                        ]
                      ]
                    },
                    "colorway": [
                      "#636efa",
                      "#EF553B",
                      "#00cc96",
                      "#ab63fa",
                      "#FFA15A",
                      "#19d3f3",
                      "#FF6692",
                      "#B6E880",
                      "#FF97FF",
                      "#FECB52"
                    ],
                    "font": {
                      "color": "#2a3f5f"
                    },
                    "geo": {
                      "bgcolor": "white",
                      "lakecolor": "white",
                      "landcolor": "#E5ECF6",
                      "showlakes": true,
                      "showland": true,
                      "subunitcolor": "white"
                    },
                    "hoverlabel": {
                      "align": "left"
                    },
                    "hovermode": "closest",
                    "mapbox": {
                      "style": "light"
                    },
                    "paper_bgcolor": "white",
                    "plot_bgcolor": "#E5ECF6",
                    "polar": {
                      "angularaxis": {
                        "gridcolor": "white",
                        "linecolor": "white",
                        "ticks": ""
                      },
                      "bgcolor": "#E5ECF6",
                      "radialaxis": {
                        "gridcolor": "white",
                        "linecolor": "white",
                        "ticks": ""
                      }
                    },
                    "scene": {
                      "xaxis": {
                        "backgroundcolor": "#E5ECF6",
                        "gridcolor": "white",
                        "gridwidth": 2,
                        "linecolor": "white",
                        "showbackground": true,
                        "ticks": "",
                        "zerolinecolor": "white"
                      },
                      "yaxis": {
                        "backgroundcolor": "#E5ECF6",
                        "gridcolor": "white",
                        "gridwidth": 2,
                        "linecolor": "white",
                        "showbackground": true,
                        "ticks": "",
                        "zerolinecolor": "white"
                      },
                      "zaxis": {
                        "backgroundcolor": "#E5ECF6",
                        "gridcolor": "white",
                        "gridwidth": 2,
                        "linecolor": "white",
                        "showbackground": true,
                        "ticks": "",
                        "zerolinecolor": "white"
                      }
                    },
                    "shapedefaults": {
                      "line": {
                        "color": "#2a3f5f"
                      }
                    },
                    "ternary": {
                      "aaxis": {
                        "gridcolor": "white",
                        "linecolor": "white",
                        "ticks": ""
                      },
                      "baxis": {
                        "gridcolor": "white",
                        "linecolor": "white",
                        "ticks": ""
                      },
                      "bgcolor": "#E5ECF6",
                      "caxis": {
                        "gridcolor": "white",
                        "linecolor": "white",
                        "ticks": ""
                      }
                    },
                    "title": {
                      "x": 0.05
                    },
                    "xaxis": {
                      "automargin": true,
                      "gridcolor": "white",
                      "linecolor": "white",
                      "ticks": "",
                      "title": {
                        "standoff": 15
                      },
                      "zerolinecolor": "white",
                      "zerolinewidth": 2
                    },
                    "yaxis": {
                      "automargin": true,
                      "gridcolor": "white",
                      "linecolor": "white",
                      "ticks": "",
                      "title": {
                        "standoff": 15
                      },
                      "zerolinecolor": "white",
                      "zerolinewidth": 2
                    }
                  }
                },
                "title": {
                  "text": "Box Plot of SepalLengthCm by Species"
                },
                "xaxis": {
                  "anchor": "y",
                  "categoryarray": [
                    "Iris-setosa",
                    "Iris-versicolor",
                    "Iris-virginica"
                  ],
                  "categoryorder": "array",
                  "domain": [
                    0,
                    1
                  ],
                  "title": {
                    "text": "Species"
                  }
                },
                "yaxis": {
                  "anchor": "x",
                  "domain": [
                    0,
                    1
                  ],
                  "title": {
                    "text": "SepalLengthCm"
                  }
                }
              }
            }
          },
          "metadata": {},
          "output_type": "display_data"
        }
      ],
      "source": [
        "\n",
        "# Create a box plot to show the relationship between a numerical variable and a categorical variable\n",
        "fig_boxplot = px.box(df, x=\"Species\", y=\"SepalLengthCm\", title=\"Box Plot of SepalLengthCm by Species\",\n",
        "                     color='Species',  # Set box color based on Species\n",
        "                     color_discrete_sequence=custom_colors  # Custom color sequence\n",
        "                    )\n",
        "\n",
        "# Update layout\n",
        "fig_boxplot.update_layout(xaxis_title=\"Species\", yaxis_title=\"SepalLengthCm\",)\n",
        "\n",
        "# Show the box plot\n",
        "fig_boxplot.show()"
      ]
    },
    {
      "cell_type": "markdown",
      "metadata": {},
      "source": [
        "#### <span style='color:#074173'> 💬 Quan sát: </span>\n",
        "<div style=\"border-radius:10px;border:#0C6A86 solid;padding:5px;background-color:#ebfae8;font-size:110%;text-align:left;color:black\">\n",
        "\n",
        "- Từ biểu đồ trên, có thể thấy rõ rằng loài Virginica có giá trị trung bình về Chiều dài đài hoa (SepalLengthCm) cao hơn so với các loài khác. Ngược lại, loài Setosa thể hiện giá trị trung bình của Chiều dài đài hoa thấp hơn.\n",
        "\n",
        "- Giá trị tối đa của Chiều dài đài hoa của loài Setosa là 5,8cm và giá trị thấp hơn của loài Setosa là 4,3cm.\n",
        "\n",
        "- Giá trị tối đa của Chiều dài đài hoa của các loài Versicolor là 7cm và giá trị thấp hơn là 4,9.\n",
        "\n",
        "- Giá trị tối đa của Chiều dài đài hoa của loài Virginica là 7,9cm và giá trị thấp hơn là 5,6."
      ]
    },
    {
      "cell_type": "markdown",
      "metadata": {},
      "source": [
        "\n",
        "### <span style='color:#074173'> <b>❓ SepalWidthCm vs Species</b> </span>"
      ]
    },
    {
      "cell_type": "code",
      "execution_count": 12,
      "metadata": {},
      "outputs": [
        {
          "data": {
            "application/vnd.plotly.v1+json": {
              "config": {
                "plotlyServerURL": "https://plot.ly"
              },
              "data": [
                {
                  "alignmentgroup": "True",
                  "hovertemplate": "Species=%{x}<br>SepalWidthCm=%{y}<extra></extra>",
                  "legendgroup": "Iris-setosa",
                  "marker": {
                    "color": "#1f77b4"
                  },
                  "name": "Iris-setosa",
                  "notched": false,
                  "offsetgroup": "Iris-setosa",
                  "orientation": "v",
                  "showlegend": true,
                  "type": "box",
                  "x": [
                    "Iris-setosa",
                    "Iris-setosa",
                    "Iris-setosa",
                    "Iris-setosa",
                    "Iris-setosa",
                    "Iris-setosa",
                    "Iris-setosa",
                    "Iris-setosa",
                    "Iris-setosa",
                    "Iris-setosa",
                    "Iris-setosa",
                    "Iris-setosa",
                    "Iris-setosa",
                    "Iris-setosa",
                    "Iris-setosa",
                    "Iris-setosa",
                    "Iris-setosa",
                    "Iris-setosa",
                    "Iris-setosa",
                    "Iris-setosa",
                    "Iris-setosa",
                    "Iris-setosa",
                    "Iris-setosa",
                    "Iris-setosa",
                    "Iris-setosa",
                    "Iris-setosa",
                    "Iris-setosa",
                    "Iris-setosa",
                    "Iris-setosa",
                    "Iris-setosa",
                    "Iris-setosa",
                    "Iris-setosa",
                    "Iris-setosa",
                    "Iris-setosa",
                    "Iris-setosa",
                    "Iris-setosa",
                    "Iris-setosa",
                    "Iris-setosa",
                    "Iris-setosa",
                    "Iris-setosa",
                    "Iris-setosa",
                    "Iris-setosa",
                    "Iris-setosa",
                    "Iris-setosa",
                    "Iris-setosa",
                    "Iris-setosa",
                    "Iris-setosa",
                    "Iris-setosa",
                    "Iris-setosa",
                    "Iris-setosa"
                  ],
                  "x0": " ",
                  "xaxis": "x",
                  "y": [
                    3.5,
                    3,
                    3.2,
                    3.1,
                    3.6,
                    3.9,
                    3.4,
                    3.4,
                    2.9,
                    3.1,
                    3.7,
                    3.4,
                    3,
                    3,
                    4,
                    4.4,
                    3.9,
                    3.5,
                    3.8,
                    3.8,
                    3.4,
                    3.7,
                    3.6,
                    3.3,
                    3.4,
                    3,
                    3.4,
                    3.5,
                    3.4,
                    3.2,
                    3.1,
                    3.4,
                    4.1,
                    4.2,
                    3.1,
                    3.2,
                    3.5,
                    3.1,
                    3,
                    3.4,
                    3.5,
                    2.3,
                    3.2,
                    3.5,
                    3.8,
                    3,
                    3.8,
                    3.2,
                    3.7,
                    3.3
                  ],
                  "y0": " ",
                  "yaxis": "y"
                },
                {
                  "alignmentgroup": "True",
                  "hovertemplate": "Species=%{x}<br>SepalWidthCm=%{y}<extra></extra>",
                  "legendgroup": "Iris-versicolor",
                  "marker": {
                    "color": "skyblue"
                  },
                  "name": "Iris-versicolor",
                  "notched": false,
                  "offsetgroup": "Iris-versicolor",
                  "orientation": "v",
                  "showlegend": true,
                  "type": "box",
                  "x": [
                    "Iris-versicolor",
                    "Iris-versicolor",
                    "Iris-versicolor",
                    "Iris-versicolor",
                    "Iris-versicolor",
                    "Iris-versicolor",
                    "Iris-versicolor",
                    "Iris-versicolor",
                    "Iris-versicolor",
                    "Iris-versicolor",
                    "Iris-versicolor",
                    "Iris-versicolor",
                    "Iris-versicolor",
                    "Iris-versicolor",
                    "Iris-versicolor",
                    "Iris-versicolor",
                    "Iris-versicolor",
                    "Iris-versicolor",
                    "Iris-versicolor",
                    "Iris-versicolor",
                    "Iris-versicolor",
                    "Iris-versicolor",
                    "Iris-versicolor",
                    "Iris-versicolor",
                    "Iris-versicolor",
                    "Iris-versicolor",
                    "Iris-versicolor",
                    "Iris-versicolor",
                    "Iris-versicolor",
                    "Iris-versicolor",
                    "Iris-versicolor",
                    "Iris-versicolor",
                    "Iris-versicolor",
                    "Iris-versicolor",
                    "Iris-versicolor",
                    "Iris-versicolor",
                    "Iris-versicolor",
                    "Iris-versicolor",
                    "Iris-versicolor",
                    "Iris-versicolor",
                    "Iris-versicolor",
                    "Iris-versicolor",
                    "Iris-versicolor",
                    "Iris-versicolor",
                    "Iris-versicolor",
                    "Iris-versicolor",
                    "Iris-versicolor",
                    "Iris-versicolor",
                    "Iris-versicolor",
                    "Iris-versicolor"
                  ],
                  "x0": " ",
                  "xaxis": "x",
                  "y": [
                    3.2,
                    3.2,
                    3.1,
                    2.3,
                    2.8,
                    2.8,
                    3.3,
                    2.4,
                    2.9,
                    2.7,
                    2,
                    3,
                    2.2,
                    2.9,
                    2.9,
                    3.1,
                    3,
                    2.7,
                    2.2,
                    2.5,
                    3.2,
                    2.8,
                    2.5,
                    2.8,
                    2.9,
                    3,
                    2.8,
                    3,
                    2.9,
                    2.6,
                    2.4,
                    2.4,
                    2.7,
                    2.7,
                    3,
                    3.4,
                    3.1,
                    2.3,
                    3,
                    2.5,
                    2.6,
                    3,
                    2.6,
                    2.3,
                    2.7,
                    3,
                    2.9,
                    2.9,
                    2.5,
                    2.8
                  ],
                  "y0": " ",
                  "yaxis": "y"
                },
                {
                  "alignmentgroup": "True",
                  "hovertemplate": "Species=%{x}<br>SepalWidthCm=%{y}<extra></extra>",
                  "legendgroup": "Iris-virginica",
                  "marker": {
                    "color": "cornflowerblue"
                  },
                  "name": "Iris-virginica",
                  "notched": false,
                  "offsetgroup": "Iris-virginica",
                  "orientation": "v",
                  "showlegend": true,
                  "type": "box",
                  "x": [
                    "Iris-virginica",
                    "Iris-virginica",
                    "Iris-virginica",
                    "Iris-virginica",
                    "Iris-virginica",
                    "Iris-virginica",
                    "Iris-virginica",
                    "Iris-virginica",
                    "Iris-virginica",
                    "Iris-virginica",
                    "Iris-virginica",
                    "Iris-virginica",
                    "Iris-virginica",
                    "Iris-virginica",
                    "Iris-virginica",
                    "Iris-virginica",
                    "Iris-virginica",
                    "Iris-virginica",
                    "Iris-virginica",
                    "Iris-virginica",
                    "Iris-virginica",
                    "Iris-virginica",
                    "Iris-virginica",
                    "Iris-virginica",
                    "Iris-virginica",
                    "Iris-virginica",
                    "Iris-virginica",
                    "Iris-virginica",
                    "Iris-virginica",
                    "Iris-virginica",
                    "Iris-virginica",
                    "Iris-virginica",
                    "Iris-virginica",
                    "Iris-virginica",
                    "Iris-virginica",
                    "Iris-virginica",
                    "Iris-virginica",
                    "Iris-virginica",
                    "Iris-virginica",
                    "Iris-virginica",
                    "Iris-virginica",
                    "Iris-virginica",
                    "Iris-virginica",
                    "Iris-virginica",
                    "Iris-virginica",
                    "Iris-virginica",
                    "Iris-virginica",
                    "Iris-virginica",
                    "Iris-virginica",
                    "Iris-virginica"
                  ],
                  "x0": " ",
                  "xaxis": "x",
                  "y": [
                    3.3,
                    2.7,
                    3,
                    2.9,
                    3,
                    3,
                    2.5,
                    2.9,
                    2.5,
                    3.6,
                    3.2,
                    2.7,
                    3,
                    2.5,
                    2.8,
                    3.2,
                    3,
                    3.8,
                    2.6,
                    2.2,
                    3.2,
                    2.8,
                    2.8,
                    2.7,
                    3.3,
                    3.2,
                    2.8,
                    3,
                    2.8,
                    3,
                    2.8,
                    3.8,
                    2.8,
                    2.8,
                    2.6,
                    3,
                    3.4,
                    3.1,
                    3,
                    3.1,
                    3.1,
                    3.1,
                    2.7,
                    3.2,
                    3.3,
                    3,
                    2.5,
                    3,
                    3.4,
                    3
                  ],
                  "y0": " ",
                  "yaxis": "y"
                }
              ],
              "layout": {
                "boxmode": "overlay",
                "legend": {
                  "title": {
                    "text": "Species"
                  },
                  "tracegroupgap": 0
                },
                "template": {
                  "data": {
                    "bar": [
                      {
                        "error_x": {
                          "color": "#2a3f5f"
                        },
                        "error_y": {
                          "color": "#2a3f5f"
                        },
                        "marker": {
                          "line": {
                            "color": "#E5ECF6",
                            "width": 0.5
                          },
                          "pattern": {
                            "fillmode": "overlay",
                            "size": 10,
                            "solidity": 0.2
                          }
                        },
                        "type": "bar"
                      }
                    ],
                    "barpolar": [
                      {
                        "marker": {
                          "line": {
                            "color": "#E5ECF6",
                            "width": 0.5
                          },
                          "pattern": {
                            "fillmode": "overlay",
                            "size": 10,
                            "solidity": 0.2
                          }
                        },
                        "type": "barpolar"
                      }
                    ],
                    "carpet": [
                      {
                        "aaxis": {
                          "endlinecolor": "#2a3f5f",
                          "gridcolor": "white",
                          "linecolor": "white",
                          "minorgridcolor": "white",
                          "startlinecolor": "#2a3f5f"
                        },
                        "baxis": {
                          "endlinecolor": "#2a3f5f",
                          "gridcolor": "white",
                          "linecolor": "white",
                          "minorgridcolor": "white",
                          "startlinecolor": "#2a3f5f"
                        },
                        "type": "carpet"
                      }
                    ],
                    "choropleth": [
                      {
                        "colorbar": {
                          "outlinewidth": 0,
                          "ticks": ""
                        },
                        "type": "choropleth"
                      }
                    ],
                    "contour": [
                      {
                        "colorbar": {
                          "outlinewidth": 0,
                          "ticks": ""
                        },
                        "colorscale": [
                          [
                            0,
                            "#0d0887"
                          ],
                          [
                            0.1111111111111111,
                            "#46039f"
                          ],
                          [
                            0.2222222222222222,
                            "#7201a8"
                          ],
                          [
                            0.3333333333333333,
                            "#9c179e"
                          ],
                          [
                            0.4444444444444444,
                            "#bd3786"
                          ],
                          [
                            0.5555555555555556,
                            "#d8576b"
                          ],
                          [
                            0.6666666666666666,
                            "#ed7953"
                          ],
                          [
                            0.7777777777777778,
                            "#fb9f3a"
                          ],
                          [
                            0.8888888888888888,
                            "#fdca26"
                          ],
                          [
                            1,
                            "#f0f921"
                          ]
                        ],
                        "type": "contour"
                      }
                    ],
                    "contourcarpet": [
                      {
                        "colorbar": {
                          "outlinewidth": 0,
                          "ticks": ""
                        },
                        "type": "contourcarpet"
                      }
                    ],
                    "heatmap": [
                      {
                        "colorbar": {
                          "outlinewidth": 0,
                          "ticks": ""
                        },
                        "colorscale": [
                          [
                            0,
                            "#0d0887"
                          ],
                          [
                            0.1111111111111111,
                            "#46039f"
                          ],
                          [
                            0.2222222222222222,
                            "#7201a8"
                          ],
                          [
                            0.3333333333333333,
                            "#9c179e"
                          ],
                          [
                            0.4444444444444444,
                            "#bd3786"
                          ],
                          [
                            0.5555555555555556,
                            "#d8576b"
                          ],
                          [
                            0.6666666666666666,
                            "#ed7953"
                          ],
                          [
                            0.7777777777777778,
                            "#fb9f3a"
                          ],
                          [
                            0.8888888888888888,
                            "#fdca26"
                          ],
                          [
                            1,
                            "#f0f921"
                          ]
                        ],
                        "type": "heatmap"
                      }
                    ],
                    "heatmapgl": [
                      {
                        "colorbar": {
                          "outlinewidth": 0,
                          "ticks": ""
                        },
                        "colorscale": [
                          [
                            0,
                            "#0d0887"
                          ],
                          [
                            0.1111111111111111,
                            "#46039f"
                          ],
                          [
                            0.2222222222222222,
                            "#7201a8"
                          ],
                          [
                            0.3333333333333333,
                            "#9c179e"
                          ],
                          [
                            0.4444444444444444,
                            "#bd3786"
                          ],
                          [
                            0.5555555555555556,
                            "#d8576b"
                          ],
                          [
                            0.6666666666666666,
                            "#ed7953"
                          ],
                          [
                            0.7777777777777778,
                            "#fb9f3a"
                          ],
                          [
                            0.8888888888888888,
                            "#fdca26"
                          ],
                          [
                            1,
                            "#f0f921"
                          ]
                        ],
                        "type": "heatmapgl"
                      }
                    ],
                    "histogram": [
                      {
                        "marker": {
                          "pattern": {
                            "fillmode": "overlay",
                            "size": 10,
                            "solidity": 0.2
                          }
                        },
                        "type": "histogram"
                      }
                    ],
                    "histogram2d": [
                      {
                        "colorbar": {
                          "outlinewidth": 0,
                          "ticks": ""
                        },
                        "colorscale": [
                          [
                            0,
                            "#0d0887"
                          ],
                          [
                            0.1111111111111111,
                            "#46039f"
                          ],
                          [
                            0.2222222222222222,
                            "#7201a8"
                          ],
                          [
                            0.3333333333333333,
                            "#9c179e"
                          ],
                          [
                            0.4444444444444444,
                            "#bd3786"
                          ],
                          [
                            0.5555555555555556,
                            "#d8576b"
                          ],
                          [
                            0.6666666666666666,
                            "#ed7953"
                          ],
                          [
                            0.7777777777777778,
                            "#fb9f3a"
                          ],
                          [
                            0.8888888888888888,
                            "#fdca26"
                          ],
                          [
                            1,
                            "#f0f921"
                          ]
                        ],
                        "type": "histogram2d"
                      }
                    ],
                    "histogram2dcontour": [
                      {
                        "colorbar": {
                          "outlinewidth": 0,
                          "ticks": ""
                        },
                        "colorscale": [
                          [
                            0,
                            "#0d0887"
                          ],
                          [
                            0.1111111111111111,
                            "#46039f"
                          ],
                          [
                            0.2222222222222222,
                            "#7201a8"
                          ],
                          [
                            0.3333333333333333,
                            "#9c179e"
                          ],
                          [
                            0.4444444444444444,
                            "#bd3786"
                          ],
                          [
                            0.5555555555555556,
                            "#d8576b"
                          ],
                          [
                            0.6666666666666666,
                            "#ed7953"
                          ],
                          [
                            0.7777777777777778,
                            "#fb9f3a"
                          ],
                          [
                            0.8888888888888888,
                            "#fdca26"
                          ],
                          [
                            1,
                            "#f0f921"
                          ]
                        ],
                        "type": "histogram2dcontour"
                      }
                    ],
                    "mesh3d": [
                      {
                        "colorbar": {
                          "outlinewidth": 0,
                          "ticks": ""
                        },
                        "type": "mesh3d"
                      }
                    ],
                    "parcoords": [
                      {
                        "line": {
                          "colorbar": {
                            "outlinewidth": 0,
                            "ticks": ""
                          }
                        },
                        "type": "parcoords"
                      }
                    ],
                    "pie": [
                      {
                        "automargin": true,
                        "type": "pie"
                      }
                    ],
                    "scatter": [
                      {
                        "fillpattern": {
                          "fillmode": "overlay",
                          "size": 10,
                          "solidity": 0.2
                        },
                        "type": "scatter"
                      }
                    ],
                    "scatter3d": [
                      {
                        "line": {
                          "colorbar": {
                            "outlinewidth": 0,
                            "ticks": ""
                          }
                        },
                        "marker": {
                          "colorbar": {
                            "outlinewidth": 0,
                            "ticks": ""
                          }
                        },
                        "type": "scatter3d"
                      }
                    ],
                    "scattercarpet": [
                      {
                        "marker": {
                          "colorbar": {
                            "outlinewidth": 0,
                            "ticks": ""
                          }
                        },
                        "type": "scattercarpet"
                      }
                    ],
                    "scattergeo": [
                      {
                        "marker": {
                          "colorbar": {
                            "outlinewidth": 0,
                            "ticks": ""
                          }
                        },
                        "type": "scattergeo"
                      }
                    ],
                    "scattergl": [
                      {
                        "marker": {
                          "colorbar": {
                            "outlinewidth": 0,
                            "ticks": ""
                          }
                        },
                        "type": "scattergl"
                      }
                    ],
                    "scattermapbox": [
                      {
                        "marker": {
                          "colorbar": {
                            "outlinewidth": 0,
                            "ticks": ""
                          }
                        },
                        "type": "scattermapbox"
                      }
                    ],
                    "scatterpolar": [
                      {
                        "marker": {
                          "colorbar": {
                            "outlinewidth": 0,
                            "ticks": ""
                          }
                        },
                        "type": "scatterpolar"
                      }
                    ],
                    "scatterpolargl": [
                      {
                        "marker": {
                          "colorbar": {
                            "outlinewidth": 0,
                            "ticks": ""
                          }
                        },
                        "type": "scatterpolargl"
                      }
                    ],
                    "scatterternary": [
                      {
                        "marker": {
                          "colorbar": {
                            "outlinewidth": 0,
                            "ticks": ""
                          }
                        },
                        "type": "scatterternary"
                      }
                    ],
                    "surface": [
                      {
                        "colorbar": {
                          "outlinewidth": 0,
                          "ticks": ""
                        },
                        "colorscale": [
                          [
                            0,
                            "#0d0887"
                          ],
                          [
                            0.1111111111111111,
                            "#46039f"
                          ],
                          [
                            0.2222222222222222,
                            "#7201a8"
                          ],
                          [
                            0.3333333333333333,
                            "#9c179e"
                          ],
                          [
                            0.4444444444444444,
                            "#bd3786"
                          ],
                          [
                            0.5555555555555556,
                            "#d8576b"
                          ],
                          [
                            0.6666666666666666,
                            "#ed7953"
                          ],
                          [
                            0.7777777777777778,
                            "#fb9f3a"
                          ],
                          [
                            0.8888888888888888,
                            "#fdca26"
                          ],
                          [
                            1,
                            "#f0f921"
                          ]
                        ],
                        "type": "surface"
                      }
                    ],
                    "table": [
                      {
                        "cells": {
                          "fill": {
                            "color": "#EBF0F8"
                          },
                          "line": {
                            "color": "white"
                          }
                        },
                        "header": {
                          "fill": {
                            "color": "#C8D4E3"
                          },
                          "line": {
                            "color": "white"
                          }
                        },
                        "type": "table"
                      }
                    ]
                  },
                  "layout": {
                    "annotationdefaults": {
                      "arrowcolor": "#2a3f5f",
                      "arrowhead": 0,
                      "arrowwidth": 1
                    },
                    "autotypenumbers": "strict",
                    "coloraxis": {
                      "colorbar": {
                        "outlinewidth": 0,
                        "ticks": ""
                      }
                    },
                    "colorscale": {
                      "diverging": [
                        [
                          0,
                          "#8e0152"
                        ],
                        [
                          0.1,
                          "#c51b7d"
                        ],
                        [
                          0.2,
                          "#de77ae"
                        ],
                        [
                          0.3,
                          "#f1b6da"
                        ],
                        [
                          0.4,
                          "#fde0ef"
                        ],
                        [
                          0.5,
                          "#f7f7f7"
                        ],
                        [
                          0.6,
                          "#e6f5d0"
                        ],
                        [
                          0.7,
                          "#b8e186"
                        ],
                        [
                          0.8,
                          "#7fbc41"
                        ],
                        [
                          0.9,
                          "#4d9221"
                        ],
                        [
                          1,
                          "#276419"
                        ]
                      ],
                      "sequential": [
                        [
                          0,
                          "#0d0887"
                        ],
                        [
                          0.1111111111111111,
                          "#46039f"
                        ],
                        [
                          0.2222222222222222,
                          "#7201a8"
                        ],
                        [
                          0.3333333333333333,
                          "#9c179e"
                        ],
                        [
                          0.4444444444444444,
                          "#bd3786"
                        ],
                        [
                          0.5555555555555556,
                          "#d8576b"
                        ],
                        [
                          0.6666666666666666,
                          "#ed7953"
                        ],
                        [
                          0.7777777777777778,
                          "#fb9f3a"
                        ],
                        [
                          0.8888888888888888,
                          "#fdca26"
                        ],
                        [
                          1,
                          "#f0f921"
                        ]
                      ],
                      "sequentialminus": [
                        [
                          0,
                          "#0d0887"
                        ],
                        [
                          0.1111111111111111,
                          "#46039f"
                        ],
                        [
                          0.2222222222222222,
                          "#7201a8"
                        ],
                        [
                          0.3333333333333333,
                          "#9c179e"
                        ],
                        [
                          0.4444444444444444,
                          "#bd3786"
                        ],
                        [
                          0.5555555555555556,
                          "#d8576b"
                        ],
                        [
                          0.6666666666666666,
                          "#ed7953"
                        ],
                        [
                          0.7777777777777778,
                          "#fb9f3a"
                        ],
                        [
                          0.8888888888888888,
                          "#fdca26"
                        ],
                        [
                          1,
                          "#f0f921"
                        ]
                      ]
                    },
                    "colorway": [
                      "#636efa",
                      "#EF553B",
                      "#00cc96",
                      "#ab63fa",
                      "#FFA15A",
                      "#19d3f3",
                      "#FF6692",
                      "#B6E880",
                      "#FF97FF",
                      "#FECB52"
                    ],
                    "font": {
                      "color": "#2a3f5f"
                    },
                    "geo": {
                      "bgcolor": "white",
                      "lakecolor": "white",
                      "landcolor": "#E5ECF6",
                      "showlakes": true,
                      "showland": true,
                      "subunitcolor": "white"
                    },
                    "hoverlabel": {
                      "align": "left"
                    },
                    "hovermode": "closest",
                    "mapbox": {
                      "style": "light"
                    },
                    "paper_bgcolor": "white",
                    "plot_bgcolor": "#E5ECF6",
                    "polar": {
                      "angularaxis": {
                        "gridcolor": "white",
                        "linecolor": "white",
                        "ticks": ""
                      },
                      "bgcolor": "#E5ECF6",
                      "radialaxis": {
                        "gridcolor": "white",
                        "linecolor": "white",
                        "ticks": ""
                      }
                    },
                    "scene": {
                      "xaxis": {
                        "backgroundcolor": "#E5ECF6",
                        "gridcolor": "white",
                        "gridwidth": 2,
                        "linecolor": "white",
                        "showbackground": true,
                        "ticks": "",
                        "zerolinecolor": "white"
                      },
                      "yaxis": {
                        "backgroundcolor": "#E5ECF6",
                        "gridcolor": "white",
                        "gridwidth": 2,
                        "linecolor": "white",
                        "showbackground": true,
                        "ticks": "",
                        "zerolinecolor": "white"
                      },
                      "zaxis": {
                        "backgroundcolor": "#E5ECF6",
                        "gridcolor": "white",
                        "gridwidth": 2,
                        "linecolor": "white",
                        "showbackground": true,
                        "ticks": "",
                        "zerolinecolor": "white"
                      }
                    },
                    "shapedefaults": {
                      "line": {
                        "color": "#2a3f5f"
                      }
                    },
                    "ternary": {
                      "aaxis": {
                        "gridcolor": "white",
                        "linecolor": "white",
                        "ticks": ""
                      },
                      "baxis": {
                        "gridcolor": "white",
                        "linecolor": "white",
                        "ticks": ""
                      },
                      "bgcolor": "#E5ECF6",
                      "caxis": {
                        "gridcolor": "white",
                        "linecolor": "white",
                        "ticks": ""
                      }
                    },
                    "title": {
                      "x": 0.05
                    },
                    "xaxis": {
                      "automargin": true,
                      "gridcolor": "white",
                      "linecolor": "white",
                      "ticks": "",
                      "title": {
                        "standoff": 15
                      },
                      "zerolinecolor": "white",
                      "zerolinewidth": 2
                    },
                    "yaxis": {
                      "automargin": true,
                      "gridcolor": "white",
                      "linecolor": "white",
                      "ticks": "",
                      "title": {
                        "standoff": 15
                      },
                      "zerolinecolor": "white",
                      "zerolinewidth": 2
                    }
                  }
                },
                "title": {
                  "text": "Box Plot of SepalWidthCm by Species"
                },
                "xaxis": {
                  "anchor": "y",
                  "categoryarray": [
                    "Iris-setosa",
                    "Iris-versicolor",
                    "Iris-virginica"
                  ],
                  "categoryorder": "array",
                  "domain": [
                    0,
                    1
                  ],
                  "title": {
                    "text": "Species"
                  }
                },
                "yaxis": {
                  "anchor": "x",
                  "domain": [
                    0,
                    1
                  ],
                  "title": {
                    "text": "SepalWidthCm"
                  }
                }
              }
            }
          },
          "metadata": {},
          "output_type": "display_data"
        }
      ],
      "source": [
        "# Create a box plot to show the relationship between a numerical variable and a categorical variable\n",
        "fig_boxplot = px.box(df, x=\"Species\", y=\"SepalWidthCm\", title=\"Box Plot of SepalWidthCm by Species\",\n",
        "                     color='Species',  # Set box color based on Species\n",
        "                     color_discrete_sequence=custom_colors  # Custom color sequence\n",
        "                    )\n",
        "\n",
        "# Update layout\n",
        "fig_boxplot.update_layout(xaxis_title=\"Species\", yaxis_title=\"SepalWidthCm\")\n",
        "\n",
        "# Show the box plot\n",
        "fig_boxplot.show()"
      ]
    },
    {
      "cell_type": "markdown",
      "metadata": {},
      "source": [
        "#### <span style='color:#074173'> 💬 Quan sát: </span>\n",
        "<div style=\"border-radius:10px;border:#0C6A86 solid;padding:5px;background-color:#ebfae8;font-size:110%;text-align:left;color:black\">\n",
        "\n",
        "- Ta có thể thấy rõ rằng loài Setosa có giá trị trung bình về Chiều rộng đài hoa (SepalWidthCm) cao hơn so với các loài khác. Ngược lại, loài Versicolor thể hiện giá trị trung bình của Độ rộng đài hoa thấp hơn.\n",
        "\n",
        "- Giá trị tối đa của chiều rộng đài hoa của loài Setosa là 4,4cm và giá trị trung bình thấp hơn của chiều rộng đài hoa là 2,3cm.\n",
        "\n",
        "- Giá trị tối đa của chiều rộng đài hoa của loài Versicolor là 3,4cm và giá trị thấp hơn là 2cm.\n",
        "\n",
        "- Giá trị tối đa của chiều rộng đài hoa của loài Virginica là 3,8cm và giá trị thấp hơn là 2,2cm."
      ]
    },
    {
      "cell_type": "markdown",
      "metadata": {},
      "source": [
        "\n",
        "### <span style='color:#074173'> <b>❓ PetalLengthCm vs Species</b> </span>"
      ]
    },
    {
      "cell_type": "code",
      "execution_count": 13,
      "metadata": {},
      "outputs": [
        {
          "data": {
            "application/vnd.plotly.v1+json": {
              "config": {
                "plotlyServerURL": "https://plot.ly"
              },
              "data": [
                {
                  "alignmentgroup": "True",
                  "hovertemplate": "Species=%{x}<br>PetalLengthCm=%{y}<extra></extra>",
                  "legendgroup": "Iris-setosa",
                  "marker": {
                    "color": "#1f77b4"
                  },
                  "name": "Iris-setosa",
                  "notched": false,
                  "offsetgroup": "Iris-setosa",
                  "orientation": "v",
                  "showlegend": true,
                  "type": "box",
                  "x": [
                    "Iris-setosa",
                    "Iris-setosa",
                    "Iris-setosa",
                    "Iris-setosa",
                    "Iris-setosa",
                    "Iris-setosa",
                    "Iris-setosa",
                    "Iris-setosa",
                    "Iris-setosa",
                    "Iris-setosa",
                    "Iris-setosa",
                    "Iris-setosa",
                    "Iris-setosa",
                    "Iris-setosa",
                    "Iris-setosa",
                    "Iris-setosa",
                    "Iris-setosa",
                    "Iris-setosa",
                    "Iris-setosa",
                    "Iris-setosa",
                    "Iris-setosa",
                    "Iris-setosa",
                    "Iris-setosa",
                    "Iris-setosa",
                    "Iris-setosa",
                    "Iris-setosa",
                    "Iris-setosa",
                    "Iris-setosa",
                    "Iris-setosa",
                    "Iris-setosa",
                    "Iris-setosa",
                    "Iris-setosa",
                    "Iris-setosa",
                    "Iris-setosa",
                    "Iris-setosa",
                    "Iris-setosa",
                    "Iris-setosa",
                    "Iris-setosa",
                    "Iris-setosa",
                    "Iris-setosa",
                    "Iris-setosa",
                    "Iris-setosa",
                    "Iris-setosa",
                    "Iris-setosa",
                    "Iris-setosa",
                    "Iris-setosa",
                    "Iris-setosa",
                    "Iris-setosa",
                    "Iris-setosa",
                    "Iris-setosa"
                  ],
                  "x0": " ",
                  "xaxis": "x",
                  "y": [
                    1.4,
                    1.4,
                    1.3,
                    1.5,
                    1.4,
                    1.7,
                    1.4,
                    1.5,
                    1.4,
                    1.5,
                    1.5,
                    1.6,
                    1.4,
                    1.1,
                    1.2,
                    1.5,
                    1.3,
                    1.4,
                    1.7,
                    1.5,
                    1.7,
                    1.5,
                    1,
                    1.7,
                    1.9,
                    1.6,
                    1.6,
                    1.5,
                    1.4,
                    1.6,
                    1.6,
                    1.5,
                    1.5,
                    1.4,
                    1.5,
                    1.2,
                    1.3,
                    1.5,
                    1.3,
                    1.5,
                    1.3,
                    1.3,
                    1.3,
                    1.6,
                    1.9,
                    1.4,
                    1.6,
                    1.4,
                    1.5,
                    1.4
                  ],
                  "y0": " ",
                  "yaxis": "y"
                },
                {
                  "alignmentgroup": "True",
                  "hovertemplate": "Species=%{x}<br>PetalLengthCm=%{y}<extra></extra>",
                  "legendgroup": "Iris-versicolor",
                  "marker": {
                    "color": "skyblue"
                  },
                  "name": "Iris-versicolor",
                  "notched": false,
                  "offsetgroup": "Iris-versicolor",
                  "orientation": "v",
                  "showlegend": true,
                  "type": "box",
                  "x": [
                    "Iris-versicolor",
                    "Iris-versicolor",
                    "Iris-versicolor",
                    "Iris-versicolor",
                    "Iris-versicolor",
                    "Iris-versicolor",
                    "Iris-versicolor",
                    "Iris-versicolor",
                    "Iris-versicolor",
                    "Iris-versicolor",
                    "Iris-versicolor",
                    "Iris-versicolor",
                    "Iris-versicolor",
                    "Iris-versicolor",
                    "Iris-versicolor",
                    "Iris-versicolor",
                    "Iris-versicolor",
                    "Iris-versicolor",
                    "Iris-versicolor",
                    "Iris-versicolor",
                    "Iris-versicolor",
                    "Iris-versicolor",
                    "Iris-versicolor",
                    "Iris-versicolor",
                    "Iris-versicolor",
                    "Iris-versicolor",
                    "Iris-versicolor",
                    "Iris-versicolor",
                    "Iris-versicolor",
                    "Iris-versicolor",
                    "Iris-versicolor",
                    "Iris-versicolor",
                    "Iris-versicolor",
                    "Iris-versicolor",
                    "Iris-versicolor",
                    "Iris-versicolor",
                    "Iris-versicolor",
                    "Iris-versicolor",
                    "Iris-versicolor",
                    "Iris-versicolor",
                    "Iris-versicolor",
                    "Iris-versicolor",
                    "Iris-versicolor",
                    "Iris-versicolor",
                    "Iris-versicolor",
                    "Iris-versicolor",
                    "Iris-versicolor",
                    "Iris-versicolor",
                    "Iris-versicolor",
                    "Iris-versicolor"
                  ],
                  "x0": " ",
                  "xaxis": "x",
                  "y": [
                    4.7,
                    4.5,
                    4.9,
                    4,
                    4.6,
                    4.5,
                    4.7,
                    3.3,
                    4.6,
                    3.9,
                    3.5,
                    4.2,
                    4,
                    4.7,
                    3.6,
                    4.4,
                    4.5,
                    4.1,
                    4.5,
                    3.9,
                    4.8,
                    4,
                    4.9,
                    4.7,
                    4.3,
                    4.4,
                    4.8,
                    5,
                    4.5,
                    3.5,
                    3.8,
                    3.7,
                    3.9,
                    5.1,
                    4.5,
                    4.5,
                    4.7,
                    4.4,
                    4.1,
                    4,
                    4.4,
                    4.6,
                    4,
                    3.3,
                    4.2,
                    4.2,
                    4.2,
                    4.3,
                    3,
                    4.1
                  ],
                  "y0": " ",
                  "yaxis": "y"
                },
                {
                  "alignmentgroup": "True",
                  "hovertemplate": "Species=%{x}<br>PetalLengthCm=%{y}<extra></extra>",
                  "legendgroup": "Iris-virginica",
                  "marker": {
                    "color": "cornflowerblue"
                  },
                  "name": "Iris-virginica",
                  "notched": false,
                  "offsetgroup": "Iris-virginica",
                  "orientation": "v",
                  "showlegend": true,
                  "type": "box",
                  "x": [
                    "Iris-virginica",
                    "Iris-virginica",
                    "Iris-virginica",
                    "Iris-virginica",
                    "Iris-virginica",
                    "Iris-virginica",
                    "Iris-virginica",
                    "Iris-virginica",
                    "Iris-virginica",
                    "Iris-virginica",
                    "Iris-virginica",
                    "Iris-virginica",
                    "Iris-virginica",
                    "Iris-virginica",
                    "Iris-virginica",
                    "Iris-virginica",
                    "Iris-virginica",
                    "Iris-virginica",
                    "Iris-virginica",
                    "Iris-virginica",
                    "Iris-virginica",
                    "Iris-virginica",
                    "Iris-virginica",
                    "Iris-virginica",
                    "Iris-virginica",
                    "Iris-virginica",
                    "Iris-virginica",
                    "Iris-virginica",
                    "Iris-virginica",
                    "Iris-virginica",
                    "Iris-virginica",
                    "Iris-virginica",
                    "Iris-virginica",
                    "Iris-virginica",
                    "Iris-virginica",
                    "Iris-virginica",
                    "Iris-virginica",
                    "Iris-virginica",
                    "Iris-virginica",
                    "Iris-virginica",
                    "Iris-virginica",
                    "Iris-virginica",
                    "Iris-virginica",
                    "Iris-virginica",
                    "Iris-virginica",
                    "Iris-virginica",
                    "Iris-virginica",
                    "Iris-virginica",
                    "Iris-virginica",
                    "Iris-virginica"
                  ],
                  "x0": " ",
                  "xaxis": "x",
                  "y": [
                    6,
                    5.1,
                    5.9,
                    5.6,
                    5.8,
                    6.6,
                    4.5,
                    6.3,
                    5.8,
                    6.1,
                    5.1,
                    5.3,
                    5.5,
                    5,
                    5.1,
                    5.3,
                    5.5,
                    6.7,
                    6.9,
                    5,
                    5.7,
                    4.9,
                    6.7,
                    4.9,
                    5.7,
                    6,
                    4.8,
                    4.9,
                    5.6,
                    5.8,
                    6.1,
                    6.4,
                    5.6,
                    5.1,
                    5.6,
                    6.1,
                    5.6,
                    5.5,
                    4.8,
                    5.4,
                    5.6,
                    5.1,
                    5.1,
                    5.9,
                    5.7,
                    5.2,
                    5,
                    5.2,
                    5.4,
                    5.1
                  ],
                  "y0": " ",
                  "yaxis": "y"
                }
              ],
              "layout": {
                "boxmode": "overlay",
                "legend": {
                  "title": {
                    "text": "Species"
                  },
                  "tracegroupgap": 0
                },
                "template": {
                  "data": {
                    "bar": [
                      {
                        "error_x": {
                          "color": "#2a3f5f"
                        },
                        "error_y": {
                          "color": "#2a3f5f"
                        },
                        "marker": {
                          "line": {
                            "color": "#E5ECF6",
                            "width": 0.5
                          },
                          "pattern": {
                            "fillmode": "overlay",
                            "size": 10,
                            "solidity": 0.2
                          }
                        },
                        "type": "bar"
                      }
                    ],
                    "barpolar": [
                      {
                        "marker": {
                          "line": {
                            "color": "#E5ECF6",
                            "width": 0.5
                          },
                          "pattern": {
                            "fillmode": "overlay",
                            "size": 10,
                            "solidity": 0.2
                          }
                        },
                        "type": "barpolar"
                      }
                    ],
                    "carpet": [
                      {
                        "aaxis": {
                          "endlinecolor": "#2a3f5f",
                          "gridcolor": "white",
                          "linecolor": "white",
                          "minorgridcolor": "white",
                          "startlinecolor": "#2a3f5f"
                        },
                        "baxis": {
                          "endlinecolor": "#2a3f5f",
                          "gridcolor": "white",
                          "linecolor": "white",
                          "minorgridcolor": "white",
                          "startlinecolor": "#2a3f5f"
                        },
                        "type": "carpet"
                      }
                    ],
                    "choropleth": [
                      {
                        "colorbar": {
                          "outlinewidth": 0,
                          "ticks": ""
                        },
                        "type": "choropleth"
                      }
                    ],
                    "contour": [
                      {
                        "colorbar": {
                          "outlinewidth": 0,
                          "ticks": ""
                        },
                        "colorscale": [
                          [
                            0,
                            "#0d0887"
                          ],
                          [
                            0.1111111111111111,
                            "#46039f"
                          ],
                          [
                            0.2222222222222222,
                            "#7201a8"
                          ],
                          [
                            0.3333333333333333,
                            "#9c179e"
                          ],
                          [
                            0.4444444444444444,
                            "#bd3786"
                          ],
                          [
                            0.5555555555555556,
                            "#d8576b"
                          ],
                          [
                            0.6666666666666666,
                            "#ed7953"
                          ],
                          [
                            0.7777777777777778,
                            "#fb9f3a"
                          ],
                          [
                            0.8888888888888888,
                            "#fdca26"
                          ],
                          [
                            1,
                            "#f0f921"
                          ]
                        ],
                        "type": "contour"
                      }
                    ],
                    "contourcarpet": [
                      {
                        "colorbar": {
                          "outlinewidth": 0,
                          "ticks": ""
                        },
                        "type": "contourcarpet"
                      }
                    ],
                    "heatmap": [
                      {
                        "colorbar": {
                          "outlinewidth": 0,
                          "ticks": ""
                        },
                        "colorscale": [
                          [
                            0,
                            "#0d0887"
                          ],
                          [
                            0.1111111111111111,
                            "#46039f"
                          ],
                          [
                            0.2222222222222222,
                            "#7201a8"
                          ],
                          [
                            0.3333333333333333,
                            "#9c179e"
                          ],
                          [
                            0.4444444444444444,
                            "#bd3786"
                          ],
                          [
                            0.5555555555555556,
                            "#d8576b"
                          ],
                          [
                            0.6666666666666666,
                            "#ed7953"
                          ],
                          [
                            0.7777777777777778,
                            "#fb9f3a"
                          ],
                          [
                            0.8888888888888888,
                            "#fdca26"
                          ],
                          [
                            1,
                            "#f0f921"
                          ]
                        ],
                        "type": "heatmap"
                      }
                    ],
                    "heatmapgl": [
                      {
                        "colorbar": {
                          "outlinewidth": 0,
                          "ticks": ""
                        },
                        "colorscale": [
                          [
                            0,
                            "#0d0887"
                          ],
                          [
                            0.1111111111111111,
                            "#46039f"
                          ],
                          [
                            0.2222222222222222,
                            "#7201a8"
                          ],
                          [
                            0.3333333333333333,
                            "#9c179e"
                          ],
                          [
                            0.4444444444444444,
                            "#bd3786"
                          ],
                          [
                            0.5555555555555556,
                            "#d8576b"
                          ],
                          [
                            0.6666666666666666,
                            "#ed7953"
                          ],
                          [
                            0.7777777777777778,
                            "#fb9f3a"
                          ],
                          [
                            0.8888888888888888,
                            "#fdca26"
                          ],
                          [
                            1,
                            "#f0f921"
                          ]
                        ],
                        "type": "heatmapgl"
                      }
                    ],
                    "histogram": [
                      {
                        "marker": {
                          "pattern": {
                            "fillmode": "overlay",
                            "size": 10,
                            "solidity": 0.2
                          }
                        },
                        "type": "histogram"
                      }
                    ],
                    "histogram2d": [
                      {
                        "colorbar": {
                          "outlinewidth": 0,
                          "ticks": ""
                        },
                        "colorscale": [
                          [
                            0,
                            "#0d0887"
                          ],
                          [
                            0.1111111111111111,
                            "#46039f"
                          ],
                          [
                            0.2222222222222222,
                            "#7201a8"
                          ],
                          [
                            0.3333333333333333,
                            "#9c179e"
                          ],
                          [
                            0.4444444444444444,
                            "#bd3786"
                          ],
                          [
                            0.5555555555555556,
                            "#d8576b"
                          ],
                          [
                            0.6666666666666666,
                            "#ed7953"
                          ],
                          [
                            0.7777777777777778,
                            "#fb9f3a"
                          ],
                          [
                            0.8888888888888888,
                            "#fdca26"
                          ],
                          [
                            1,
                            "#f0f921"
                          ]
                        ],
                        "type": "histogram2d"
                      }
                    ],
                    "histogram2dcontour": [
                      {
                        "colorbar": {
                          "outlinewidth": 0,
                          "ticks": ""
                        },
                        "colorscale": [
                          [
                            0,
                            "#0d0887"
                          ],
                          [
                            0.1111111111111111,
                            "#46039f"
                          ],
                          [
                            0.2222222222222222,
                            "#7201a8"
                          ],
                          [
                            0.3333333333333333,
                            "#9c179e"
                          ],
                          [
                            0.4444444444444444,
                            "#bd3786"
                          ],
                          [
                            0.5555555555555556,
                            "#d8576b"
                          ],
                          [
                            0.6666666666666666,
                            "#ed7953"
                          ],
                          [
                            0.7777777777777778,
                            "#fb9f3a"
                          ],
                          [
                            0.8888888888888888,
                            "#fdca26"
                          ],
                          [
                            1,
                            "#f0f921"
                          ]
                        ],
                        "type": "histogram2dcontour"
                      }
                    ],
                    "mesh3d": [
                      {
                        "colorbar": {
                          "outlinewidth": 0,
                          "ticks": ""
                        },
                        "type": "mesh3d"
                      }
                    ],
                    "parcoords": [
                      {
                        "line": {
                          "colorbar": {
                            "outlinewidth": 0,
                            "ticks": ""
                          }
                        },
                        "type": "parcoords"
                      }
                    ],
                    "pie": [
                      {
                        "automargin": true,
                        "type": "pie"
                      }
                    ],
                    "scatter": [
                      {
                        "fillpattern": {
                          "fillmode": "overlay",
                          "size": 10,
                          "solidity": 0.2
                        },
                        "type": "scatter"
                      }
                    ],
                    "scatter3d": [
                      {
                        "line": {
                          "colorbar": {
                            "outlinewidth": 0,
                            "ticks": ""
                          }
                        },
                        "marker": {
                          "colorbar": {
                            "outlinewidth": 0,
                            "ticks": ""
                          }
                        },
                        "type": "scatter3d"
                      }
                    ],
                    "scattercarpet": [
                      {
                        "marker": {
                          "colorbar": {
                            "outlinewidth": 0,
                            "ticks": ""
                          }
                        },
                        "type": "scattercarpet"
                      }
                    ],
                    "scattergeo": [
                      {
                        "marker": {
                          "colorbar": {
                            "outlinewidth": 0,
                            "ticks": ""
                          }
                        },
                        "type": "scattergeo"
                      }
                    ],
                    "scattergl": [
                      {
                        "marker": {
                          "colorbar": {
                            "outlinewidth": 0,
                            "ticks": ""
                          }
                        },
                        "type": "scattergl"
                      }
                    ],
                    "scattermapbox": [
                      {
                        "marker": {
                          "colorbar": {
                            "outlinewidth": 0,
                            "ticks": ""
                          }
                        },
                        "type": "scattermapbox"
                      }
                    ],
                    "scatterpolar": [
                      {
                        "marker": {
                          "colorbar": {
                            "outlinewidth": 0,
                            "ticks": ""
                          }
                        },
                        "type": "scatterpolar"
                      }
                    ],
                    "scatterpolargl": [
                      {
                        "marker": {
                          "colorbar": {
                            "outlinewidth": 0,
                            "ticks": ""
                          }
                        },
                        "type": "scatterpolargl"
                      }
                    ],
                    "scatterternary": [
                      {
                        "marker": {
                          "colorbar": {
                            "outlinewidth": 0,
                            "ticks": ""
                          }
                        },
                        "type": "scatterternary"
                      }
                    ],
                    "surface": [
                      {
                        "colorbar": {
                          "outlinewidth": 0,
                          "ticks": ""
                        },
                        "colorscale": [
                          [
                            0,
                            "#0d0887"
                          ],
                          [
                            0.1111111111111111,
                            "#46039f"
                          ],
                          [
                            0.2222222222222222,
                            "#7201a8"
                          ],
                          [
                            0.3333333333333333,
                            "#9c179e"
                          ],
                          [
                            0.4444444444444444,
                            "#bd3786"
                          ],
                          [
                            0.5555555555555556,
                            "#d8576b"
                          ],
                          [
                            0.6666666666666666,
                            "#ed7953"
                          ],
                          [
                            0.7777777777777778,
                            "#fb9f3a"
                          ],
                          [
                            0.8888888888888888,
                            "#fdca26"
                          ],
                          [
                            1,
                            "#f0f921"
                          ]
                        ],
                        "type": "surface"
                      }
                    ],
                    "table": [
                      {
                        "cells": {
                          "fill": {
                            "color": "#EBF0F8"
                          },
                          "line": {
                            "color": "white"
                          }
                        },
                        "header": {
                          "fill": {
                            "color": "#C8D4E3"
                          },
                          "line": {
                            "color": "white"
                          }
                        },
                        "type": "table"
                      }
                    ]
                  },
                  "layout": {
                    "annotationdefaults": {
                      "arrowcolor": "#2a3f5f",
                      "arrowhead": 0,
                      "arrowwidth": 1
                    },
                    "autotypenumbers": "strict",
                    "coloraxis": {
                      "colorbar": {
                        "outlinewidth": 0,
                        "ticks": ""
                      }
                    },
                    "colorscale": {
                      "diverging": [
                        [
                          0,
                          "#8e0152"
                        ],
                        [
                          0.1,
                          "#c51b7d"
                        ],
                        [
                          0.2,
                          "#de77ae"
                        ],
                        [
                          0.3,
                          "#f1b6da"
                        ],
                        [
                          0.4,
                          "#fde0ef"
                        ],
                        [
                          0.5,
                          "#f7f7f7"
                        ],
                        [
                          0.6,
                          "#e6f5d0"
                        ],
                        [
                          0.7,
                          "#b8e186"
                        ],
                        [
                          0.8,
                          "#7fbc41"
                        ],
                        [
                          0.9,
                          "#4d9221"
                        ],
                        [
                          1,
                          "#276419"
                        ]
                      ],
                      "sequential": [
                        [
                          0,
                          "#0d0887"
                        ],
                        [
                          0.1111111111111111,
                          "#46039f"
                        ],
                        [
                          0.2222222222222222,
                          "#7201a8"
                        ],
                        [
                          0.3333333333333333,
                          "#9c179e"
                        ],
                        [
                          0.4444444444444444,
                          "#bd3786"
                        ],
                        [
                          0.5555555555555556,
                          "#d8576b"
                        ],
                        [
                          0.6666666666666666,
                          "#ed7953"
                        ],
                        [
                          0.7777777777777778,
                          "#fb9f3a"
                        ],
                        [
                          0.8888888888888888,
                          "#fdca26"
                        ],
                        [
                          1,
                          "#f0f921"
                        ]
                      ],
                      "sequentialminus": [
                        [
                          0,
                          "#0d0887"
                        ],
                        [
                          0.1111111111111111,
                          "#46039f"
                        ],
                        [
                          0.2222222222222222,
                          "#7201a8"
                        ],
                        [
                          0.3333333333333333,
                          "#9c179e"
                        ],
                        [
                          0.4444444444444444,
                          "#bd3786"
                        ],
                        [
                          0.5555555555555556,
                          "#d8576b"
                        ],
                        [
                          0.6666666666666666,
                          "#ed7953"
                        ],
                        [
                          0.7777777777777778,
                          "#fb9f3a"
                        ],
                        [
                          0.8888888888888888,
                          "#fdca26"
                        ],
                        [
                          1,
                          "#f0f921"
                        ]
                      ]
                    },
                    "colorway": [
                      "#636efa",
                      "#EF553B",
                      "#00cc96",
                      "#ab63fa",
                      "#FFA15A",
                      "#19d3f3",
                      "#FF6692",
                      "#B6E880",
                      "#FF97FF",
                      "#FECB52"
                    ],
                    "font": {
                      "color": "#2a3f5f"
                    },
                    "geo": {
                      "bgcolor": "white",
                      "lakecolor": "white",
                      "landcolor": "#E5ECF6",
                      "showlakes": true,
                      "showland": true,
                      "subunitcolor": "white"
                    },
                    "hoverlabel": {
                      "align": "left"
                    },
                    "hovermode": "closest",
                    "mapbox": {
                      "style": "light"
                    },
                    "paper_bgcolor": "white",
                    "plot_bgcolor": "#E5ECF6",
                    "polar": {
                      "angularaxis": {
                        "gridcolor": "white",
                        "linecolor": "white",
                        "ticks": ""
                      },
                      "bgcolor": "#E5ECF6",
                      "radialaxis": {
                        "gridcolor": "white",
                        "linecolor": "white",
                        "ticks": ""
                      }
                    },
                    "scene": {
                      "xaxis": {
                        "backgroundcolor": "#E5ECF6",
                        "gridcolor": "white",
                        "gridwidth": 2,
                        "linecolor": "white",
                        "showbackground": true,
                        "ticks": "",
                        "zerolinecolor": "white"
                      },
                      "yaxis": {
                        "backgroundcolor": "#E5ECF6",
                        "gridcolor": "white",
                        "gridwidth": 2,
                        "linecolor": "white",
                        "showbackground": true,
                        "ticks": "",
                        "zerolinecolor": "white"
                      },
                      "zaxis": {
                        "backgroundcolor": "#E5ECF6",
                        "gridcolor": "white",
                        "gridwidth": 2,
                        "linecolor": "white",
                        "showbackground": true,
                        "ticks": "",
                        "zerolinecolor": "white"
                      }
                    },
                    "shapedefaults": {
                      "line": {
                        "color": "#2a3f5f"
                      }
                    },
                    "ternary": {
                      "aaxis": {
                        "gridcolor": "white",
                        "linecolor": "white",
                        "ticks": ""
                      },
                      "baxis": {
                        "gridcolor": "white",
                        "linecolor": "white",
                        "ticks": ""
                      },
                      "bgcolor": "#E5ECF6",
                      "caxis": {
                        "gridcolor": "white",
                        "linecolor": "white",
                        "ticks": ""
                      }
                    },
                    "title": {
                      "x": 0.05
                    },
                    "xaxis": {
                      "automargin": true,
                      "gridcolor": "white",
                      "linecolor": "white",
                      "ticks": "",
                      "title": {
                        "standoff": 15
                      },
                      "zerolinecolor": "white",
                      "zerolinewidth": 2
                    },
                    "yaxis": {
                      "automargin": true,
                      "gridcolor": "white",
                      "linecolor": "white",
                      "ticks": "",
                      "title": {
                        "standoff": 15
                      },
                      "zerolinecolor": "white",
                      "zerolinewidth": 2
                    }
                  }
                },
                "title": {
                  "text": "Box Plot of PetalLengthCm by Species"
                },
                "xaxis": {
                  "anchor": "y",
                  "categoryarray": [
                    "Iris-setosa",
                    "Iris-versicolor",
                    "Iris-virginica"
                  ],
                  "categoryorder": "array",
                  "domain": [
                    0,
                    1
                  ],
                  "title": {
                    "text": "Species"
                  }
                },
                "yaxis": {
                  "anchor": "x",
                  "domain": [
                    0,
                    1
                  ],
                  "title": {
                    "text": "PetalLengthCm"
                  }
                }
              }
            }
          },
          "metadata": {},
          "output_type": "display_data"
        }
      ],
      "source": [
        "# Create a box plot to show the relationship between a numerical variable and a categorical variable\n",
        "fig_boxplot = px.box(df, x=\"Species\", y=\"PetalLengthCm\", title=\"Box Plot of PetalLengthCm by Species\",\n",
        "                     color='Species',  # Set box color based on Species\n",
        "                     color_discrete_sequence=custom_colors  # Custom color sequence\n",
        "                    )\n",
        "\n",
        "# Update layout\n",
        "fig_boxplot.update_layout(xaxis_title=\"Species\", yaxis_title=\"PetalLengthCm\",)\n",
        "\n",
        "# Show the box plot\n",
        "fig_boxplot.show()"
      ]
    },
    {
      "cell_type": "markdown",
      "metadata": {},
      "source": [
        "#### <span style='color:#074173'> 💬 Quan sát: </span>\n",
        "<div style=\"border-radius:10px;border:#0C6A86 solid;padding:5px;background-color:#ebfae8;font-size:110%;text-align:left;color:black\">\n",
        "\n",
        "- Từ biểu đồ trên, có thể thấy rõ loài Virginica có giá trị trung bình về Chiều dài cánh hoa (PetalLengthCm) cao hơn so với các loài khác. Ngược lại, loài Setosa thể hiện giá trị trung bình của Chiều dài cánh hoa thấp hơn.\n",
        "\n",
        "- Giá trị tối đa của Chiều dài cánh hoa của loài Setosa là 1,9cm và giá trị trung bình thấp hơn của Setosa là 1.\n",
        "\n",
        "- Giá trị tối đa của chiều dài cánh hoa của loài Versicolor là 5,1 và giá trị trung bình thấp hơn của loài nhiều màu là 3,3.\n",
        "\n",
        "- Giá trị chiều dài cánh hoa tối đa của các loài Virginica là 6,9 và giá trị trung bình thấp hơn của Virginica là 4,5."
      ]
    },
    {
      "cell_type": "markdown",
      "metadata": {},
      "source": [
        "\n",
        "### <span style='color:#074173'> <b>❓ PetalWidthCm vs Species</b> </span>"
      ]
    },
    {
      "cell_type": "code",
      "execution_count": 14,
      "metadata": {},
      "outputs": [
        {
          "data": {
            "application/vnd.plotly.v1+json": {
              "config": {
                "plotlyServerURL": "https://plot.ly"
              },
              "data": [
                {
                  "alignmentgroup": "True",
                  "hovertemplate": "Species=%{x}<br>PetalWidthCm=%{y}<extra></extra>",
                  "legendgroup": "Iris-setosa",
                  "marker": {
                    "color": "#1f77b4"
                  },
                  "name": "Iris-setosa",
                  "notched": false,
                  "offsetgroup": "Iris-setosa",
                  "orientation": "v",
                  "showlegend": true,
                  "type": "box",
                  "x": [
                    "Iris-setosa",
                    "Iris-setosa",
                    "Iris-setosa",
                    "Iris-setosa",
                    "Iris-setosa",
                    "Iris-setosa",
                    "Iris-setosa",
                    "Iris-setosa",
                    "Iris-setosa",
                    "Iris-setosa",
                    "Iris-setosa",
                    "Iris-setosa",
                    "Iris-setosa",
                    "Iris-setosa",
                    "Iris-setosa",
                    "Iris-setosa",
                    "Iris-setosa",
                    "Iris-setosa",
                    "Iris-setosa",
                    "Iris-setosa",
                    "Iris-setosa",
                    "Iris-setosa",
                    "Iris-setosa",
                    "Iris-setosa",
                    "Iris-setosa",
                    "Iris-setosa",
                    "Iris-setosa",
                    "Iris-setosa",
                    "Iris-setosa",
                    "Iris-setosa",
                    "Iris-setosa",
                    "Iris-setosa",
                    "Iris-setosa",
                    "Iris-setosa",
                    "Iris-setosa",
                    "Iris-setosa",
                    "Iris-setosa",
                    "Iris-setosa",
                    "Iris-setosa",
                    "Iris-setosa",
                    "Iris-setosa",
                    "Iris-setosa",
                    "Iris-setosa",
                    "Iris-setosa",
                    "Iris-setosa",
                    "Iris-setosa",
                    "Iris-setosa",
                    "Iris-setosa",
                    "Iris-setosa",
                    "Iris-setosa"
                  ],
                  "x0": " ",
                  "xaxis": "x",
                  "y": [
                    0.2,
                    0.2,
                    0.2,
                    0.2,
                    0.2,
                    0.4,
                    0.3,
                    0.2,
                    0.2,
                    0.1,
                    0.2,
                    0.2,
                    0.1,
                    0.1,
                    0.2,
                    0.4,
                    0.4,
                    0.3,
                    0.3,
                    0.3,
                    0.2,
                    0.4,
                    0.2,
                    0.5,
                    0.2,
                    0.2,
                    0.4,
                    0.2,
                    0.2,
                    0.2,
                    0.2,
                    0.4,
                    0.1,
                    0.2,
                    0.1,
                    0.2,
                    0.2,
                    0.1,
                    0.2,
                    0.2,
                    0.3,
                    0.3,
                    0.2,
                    0.6,
                    0.4,
                    0.3,
                    0.2,
                    0.2,
                    0.2,
                    0.2
                  ],
                  "y0": " ",
                  "yaxis": "y"
                },
                {
                  "alignmentgroup": "True",
                  "hovertemplate": "Species=%{x}<br>PetalWidthCm=%{y}<extra></extra>",
                  "legendgroup": "Iris-versicolor",
                  "marker": {
                    "color": "skyblue"
                  },
                  "name": "Iris-versicolor",
                  "notched": false,
                  "offsetgroup": "Iris-versicolor",
                  "orientation": "v",
                  "showlegend": true,
                  "type": "box",
                  "x": [
                    "Iris-versicolor",
                    "Iris-versicolor",
                    "Iris-versicolor",
                    "Iris-versicolor",
                    "Iris-versicolor",
                    "Iris-versicolor",
                    "Iris-versicolor",
                    "Iris-versicolor",
                    "Iris-versicolor",
                    "Iris-versicolor",
                    "Iris-versicolor",
                    "Iris-versicolor",
                    "Iris-versicolor",
                    "Iris-versicolor",
                    "Iris-versicolor",
                    "Iris-versicolor",
                    "Iris-versicolor",
                    "Iris-versicolor",
                    "Iris-versicolor",
                    "Iris-versicolor",
                    "Iris-versicolor",
                    "Iris-versicolor",
                    "Iris-versicolor",
                    "Iris-versicolor",
                    "Iris-versicolor",
                    "Iris-versicolor",
                    "Iris-versicolor",
                    "Iris-versicolor",
                    "Iris-versicolor",
                    "Iris-versicolor",
                    "Iris-versicolor",
                    "Iris-versicolor",
                    "Iris-versicolor",
                    "Iris-versicolor",
                    "Iris-versicolor",
                    "Iris-versicolor",
                    "Iris-versicolor",
                    "Iris-versicolor",
                    "Iris-versicolor",
                    "Iris-versicolor",
                    "Iris-versicolor",
                    "Iris-versicolor",
                    "Iris-versicolor",
                    "Iris-versicolor",
                    "Iris-versicolor",
                    "Iris-versicolor",
                    "Iris-versicolor",
                    "Iris-versicolor",
                    "Iris-versicolor",
                    "Iris-versicolor"
                  ],
                  "x0": " ",
                  "xaxis": "x",
                  "y": [
                    1.4,
                    1.5,
                    1.5,
                    1.3,
                    1.5,
                    1.3,
                    1.6,
                    1,
                    1.3,
                    1.4,
                    1,
                    1.5,
                    1,
                    1.4,
                    1.3,
                    1.4,
                    1.5,
                    1,
                    1.5,
                    1.1,
                    1.8,
                    1.3,
                    1.5,
                    1.2,
                    1.3,
                    1.4,
                    1.4,
                    1.7,
                    1.5,
                    1,
                    1.1,
                    1,
                    1.2,
                    1.6,
                    1.5,
                    1.6,
                    1.5,
                    1.3,
                    1.3,
                    1.3,
                    1.2,
                    1.4,
                    1.2,
                    1,
                    1.3,
                    1.2,
                    1.3,
                    1.3,
                    1.1,
                    1.3
                  ],
                  "y0": " ",
                  "yaxis": "y"
                },
                {
                  "alignmentgroup": "True",
                  "hovertemplate": "Species=%{x}<br>PetalWidthCm=%{y}<extra></extra>",
                  "legendgroup": "Iris-virginica",
                  "marker": {
                    "color": "cornflowerblue"
                  },
                  "name": "Iris-virginica",
                  "notched": false,
                  "offsetgroup": "Iris-virginica",
                  "orientation": "v",
                  "showlegend": true,
                  "type": "box",
                  "x": [
                    "Iris-virginica",
                    "Iris-virginica",
                    "Iris-virginica",
                    "Iris-virginica",
                    "Iris-virginica",
                    "Iris-virginica",
                    "Iris-virginica",
                    "Iris-virginica",
                    "Iris-virginica",
                    "Iris-virginica",
                    "Iris-virginica",
                    "Iris-virginica",
                    "Iris-virginica",
                    "Iris-virginica",
                    "Iris-virginica",
                    "Iris-virginica",
                    "Iris-virginica",
                    "Iris-virginica",
                    "Iris-virginica",
                    "Iris-virginica",
                    "Iris-virginica",
                    "Iris-virginica",
                    "Iris-virginica",
                    "Iris-virginica",
                    "Iris-virginica",
                    "Iris-virginica",
                    "Iris-virginica",
                    "Iris-virginica",
                    "Iris-virginica",
                    "Iris-virginica",
                    "Iris-virginica",
                    "Iris-virginica",
                    "Iris-virginica",
                    "Iris-virginica",
                    "Iris-virginica",
                    "Iris-virginica",
                    "Iris-virginica",
                    "Iris-virginica",
                    "Iris-virginica",
                    "Iris-virginica",
                    "Iris-virginica",
                    "Iris-virginica",
                    "Iris-virginica",
                    "Iris-virginica",
                    "Iris-virginica",
                    "Iris-virginica",
                    "Iris-virginica",
                    "Iris-virginica",
                    "Iris-virginica",
                    "Iris-virginica"
                  ],
                  "x0": " ",
                  "xaxis": "x",
                  "y": [
                    2.5,
                    1.9,
                    2.1,
                    1.8,
                    2.2,
                    2.1,
                    1.7,
                    1.8,
                    1.8,
                    2.5,
                    2,
                    1.9,
                    2.1,
                    2,
                    2.4,
                    2.3,
                    1.8,
                    2.2,
                    2.3,
                    1.5,
                    2.3,
                    2,
                    2,
                    1.8,
                    2.1,
                    1.8,
                    1.8,
                    1.8,
                    2.1,
                    1.6,
                    1.9,
                    2,
                    2.2,
                    1.5,
                    1.4,
                    2.3,
                    2.4,
                    1.8,
                    1.8,
                    2.1,
                    2.4,
                    2.3,
                    1.9,
                    2.3,
                    2.5,
                    2.3,
                    1.9,
                    2,
                    2.3,
                    1.8
                  ],
                  "y0": " ",
                  "yaxis": "y"
                }
              ],
              "layout": {
                "boxmode": "overlay",
                "legend": {
                  "title": {
                    "text": "Species"
                  },
                  "tracegroupgap": 0
                },
                "template": {
                  "data": {
                    "bar": [
                      {
                        "error_x": {
                          "color": "#2a3f5f"
                        },
                        "error_y": {
                          "color": "#2a3f5f"
                        },
                        "marker": {
                          "line": {
                            "color": "#E5ECF6",
                            "width": 0.5
                          },
                          "pattern": {
                            "fillmode": "overlay",
                            "size": 10,
                            "solidity": 0.2
                          }
                        },
                        "type": "bar"
                      }
                    ],
                    "barpolar": [
                      {
                        "marker": {
                          "line": {
                            "color": "#E5ECF6",
                            "width": 0.5
                          },
                          "pattern": {
                            "fillmode": "overlay",
                            "size": 10,
                            "solidity": 0.2
                          }
                        },
                        "type": "barpolar"
                      }
                    ],
                    "carpet": [
                      {
                        "aaxis": {
                          "endlinecolor": "#2a3f5f",
                          "gridcolor": "white",
                          "linecolor": "white",
                          "minorgridcolor": "white",
                          "startlinecolor": "#2a3f5f"
                        },
                        "baxis": {
                          "endlinecolor": "#2a3f5f",
                          "gridcolor": "white",
                          "linecolor": "white",
                          "minorgridcolor": "white",
                          "startlinecolor": "#2a3f5f"
                        },
                        "type": "carpet"
                      }
                    ],
                    "choropleth": [
                      {
                        "colorbar": {
                          "outlinewidth": 0,
                          "ticks": ""
                        },
                        "type": "choropleth"
                      }
                    ],
                    "contour": [
                      {
                        "colorbar": {
                          "outlinewidth": 0,
                          "ticks": ""
                        },
                        "colorscale": [
                          [
                            0,
                            "#0d0887"
                          ],
                          [
                            0.1111111111111111,
                            "#46039f"
                          ],
                          [
                            0.2222222222222222,
                            "#7201a8"
                          ],
                          [
                            0.3333333333333333,
                            "#9c179e"
                          ],
                          [
                            0.4444444444444444,
                            "#bd3786"
                          ],
                          [
                            0.5555555555555556,
                            "#d8576b"
                          ],
                          [
                            0.6666666666666666,
                            "#ed7953"
                          ],
                          [
                            0.7777777777777778,
                            "#fb9f3a"
                          ],
                          [
                            0.8888888888888888,
                            "#fdca26"
                          ],
                          [
                            1,
                            "#f0f921"
                          ]
                        ],
                        "type": "contour"
                      }
                    ],
                    "contourcarpet": [
                      {
                        "colorbar": {
                          "outlinewidth": 0,
                          "ticks": ""
                        },
                        "type": "contourcarpet"
                      }
                    ],
                    "heatmap": [
                      {
                        "colorbar": {
                          "outlinewidth": 0,
                          "ticks": ""
                        },
                        "colorscale": [
                          [
                            0,
                            "#0d0887"
                          ],
                          [
                            0.1111111111111111,
                            "#46039f"
                          ],
                          [
                            0.2222222222222222,
                            "#7201a8"
                          ],
                          [
                            0.3333333333333333,
                            "#9c179e"
                          ],
                          [
                            0.4444444444444444,
                            "#bd3786"
                          ],
                          [
                            0.5555555555555556,
                            "#d8576b"
                          ],
                          [
                            0.6666666666666666,
                            "#ed7953"
                          ],
                          [
                            0.7777777777777778,
                            "#fb9f3a"
                          ],
                          [
                            0.8888888888888888,
                            "#fdca26"
                          ],
                          [
                            1,
                            "#f0f921"
                          ]
                        ],
                        "type": "heatmap"
                      }
                    ],
                    "heatmapgl": [
                      {
                        "colorbar": {
                          "outlinewidth": 0,
                          "ticks": ""
                        },
                        "colorscale": [
                          [
                            0,
                            "#0d0887"
                          ],
                          [
                            0.1111111111111111,
                            "#46039f"
                          ],
                          [
                            0.2222222222222222,
                            "#7201a8"
                          ],
                          [
                            0.3333333333333333,
                            "#9c179e"
                          ],
                          [
                            0.4444444444444444,
                            "#bd3786"
                          ],
                          [
                            0.5555555555555556,
                            "#d8576b"
                          ],
                          [
                            0.6666666666666666,
                            "#ed7953"
                          ],
                          [
                            0.7777777777777778,
                            "#fb9f3a"
                          ],
                          [
                            0.8888888888888888,
                            "#fdca26"
                          ],
                          [
                            1,
                            "#f0f921"
                          ]
                        ],
                        "type": "heatmapgl"
                      }
                    ],
                    "histogram": [
                      {
                        "marker": {
                          "pattern": {
                            "fillmode": "overlay",
                            "size": 10,
                            "solidity": 0.2
                          }
                        },
                        "type": "histogram"
                      }
                    ],
                    "histogram2d": [
                      {
                        "colorbar": {
                          "outlinewidth": 0,
                          "ticks": ""
                        },
                        "colorscale": [
                          [
                            0,
                            "#0d0887"
                          ],
                          [
                            0.1111111111111111,
                            "#46039f"
                          ],
                          [
                            0.2222222222222222,
                            "#7201a8"
                          ],
                          [
                            0.3333333333333333,
                            "#9c179e"
                          ],
                          [
                            0.4444444444444444,
                            "#bd3786"
                          ],
                          [
                            0.5555555555555556,
                            "#d8576b"
                          ],
                          [
                            0.6666666666666666,
                            "#ed7953"
                          ],
                          [
                            0.7777777777777778,
                            "#fb9f3a"
                          ],
                          [
                            0.8888888888888888,
                            "#fdca26"
                          ],
                          [
                            1,
                            "#f0f921"
                          ]
                        ],
                        "type": "histogram2d"
                      }
                    ],
                    "histogram2dcontour": [
                      {
                        "colorbar": {
                          "outlinewidth": 0,
                          "ticks": ""
                        },
                        "colorscale": [
                          [
                            0,
                            "#0d0887"
                          ],
                          [
                            0.1111111111111111,
                            "#46039f"
                          ],
                          [
                            0.2222222222222222,
                            "#7201a8"
                          ],
                          [
                            0.3333333333333333,
                            "#9c179e"
                          ],
                          [
                            0.4444444444444444,
                            "#bd3786"
                          ],
                          [
                            0.5555555555555556,
                            "#d8576b"
                          ],
                          [
                            0.6666666666666666,
                            "#ed7953"
                          ],
                          [
                            0.7777777777777778,
                            "#fb9f3a"
                          ],
                          [
                            0.8888888888888888,
                            "#fdca26"
                          ],
                          [
                            1,
                            "#f0f921"
                          ]
                        ],
                        "type": "histogram2dcontour"
                      }
                    ],
                    "mesh3d": [
                      {
                        "colorbar": {
                          "outlinewidth": 0,
                          "ticks": ""
                        },
                        "type": "mesh3d"
                      }
                    ],
                    "parcoords": [
                      {
                        "line": {
                          "colorbar": {
                            "outlinewidth": 0,
                            "ticks": ""
                          }
                        },
                        "type": "parcoords"
                      }
                    ],
                    "pie": [
                      {
                        "automargin": true,
                        "type": "pie"
                      }
                    ],
                    "scatter": [
                      {
                        "fillpattern": {
                          "fillmode": "overlay",
                          "size": 10,
                          "solidity": 0.2
                        },
                        "type": "scatter"
                      }
                    ],
                    "scatter3d": [
                      {
                        "line": {
                          "colorbar": {
                            "outlinewidth": 0,
                            "ticks": ""
                          }
                        },
                        "marker": {
                          "colorbar": {
                            "outlinewidth": 0,
                            "ticks": ""
                          }
                        },
                        "type": "scatter3d"
                      }
                    ],
                    "scattercarpet": [
                      {
                        "marker": {
                          "colorbar": {
                            "outlinewidth": 0,
                            "ticks": ""
                          }
                        },
                        "type": "scattercarpet"
                      }
                    ],
                    "scattergeo": [
                      {
                        "marker": {
                          "colorbar": {
                            "outlinewidth": 0,
                            "ticks": ""
                          }
                        },
                        "type": "scattergeo"
                      }
                    ],
                    "scattergl": [
                      {
                        "marker": {
                          "colorbar": {
                            "outlinewidth": 0,
                            "ticks": ""
                          }
                        },
                        "type": "scattergl"
                      }
                    ],
                    "scattermapbox": [
                      {
                        "marker": {
                          "colorbar": {
                            "outlinewidth": 0,
                            "ticks": ""
                          }
                        },
                        "type": "scattermapbox"
                      }
                    ],
                    "scatterpolar": [
                      {
                        "marker": {
                          "colorbar": {
                            "outlinewidth": 0,
                            "ticks": ""
                          }
                        },
                        "type": "scatterpolar"
                      }
                    ],
                    "scatterpolargl": [
                      {
                        "marker": {
                          "colorbar": {
                            "outlinewidth": 0,
                            "ticks": ""
                          }
                        },
                        "type": "scatterpolargl"
                      }
                    ],
                    "scatterternary": [
                      {
                        "marker": {
                          "colorbar": {
                            "outlinewidth": 0,
                            "ticks": ""
                          }
                        },
                        "type": "scatterternary"
                      }
                    ],
                    "surface": [
                      {
                        "colorbar": {
                          "outlinewidth": 0,
                          "ticks": ""
                        },
                        "colorscale": [
                          [
                            0,
                            "#0d0887"
                          ],
                          [
                            0.1111111111111111,
                            "#46039f"
                          ],
                          [
                            0.2222222222222222,
                            "#7201a8"
                          ],
                          [
                            0.3333333333333333,
                            "#9c179e"
                          ],
                          [
                            0.4444444444444444,
                            "#bd3786"
                          ],
                          [
                            0.5555555555555556,
                            "#d8576b"
                          ],
                          [
                            0.6666666666666666,
                            "#ed7953"
                          ],
                          [
                            0.7777777777777778,
                            "#fb9f3a"
                          ],
                          [
                            0.8888888888888888,
                            "#fdca26"
                          ],
                          [
                            1,
                            "#f0f921"
                          ]
                        ],
                        "type": "surface"
                      }
                    ],
                    "table": [
                      {
                        "cells": {
                          "fill": {
                            "color": "#EBF0F8"
                          },
                          "line": {
                            "color": "white"
                          }
                        },
                        "header": {
                          "fill": {
                            "color": "#C8D4E3"
                          },
                          "line": {
                            "color": "white"
                          }
                        },
                        "type": "table"
                      }
                    ]
                  },
                  "layout": {
                    "annotationdefaults": {
                      "arrowcolor": "#2a3f5f",
                      "arrowhead": 0,
                      "arrowwidth": 1
                    },
                    "autotypenumbers": "strict",
                    "coloraxis": {
                      "colorbar": {
                        "outlinewidth": 0,
                        "ticks": ""
                      }
                    },
                    "colorscale": {
                      "diverging": [
                        [
                          0,
                          "#8e0152"
                        ],
                        [
                          0.1,
                          "#c51b7d"
                        ],
                        [
                          0.2,
                          "#de77ae"
                        ],
                        [
                          0.3,
                          "#f1b6da"
                        ],
                        [
                          0.4,
                          "#fde0ef"
                        ],
                        [
                          0.5,
                          "#f7f7f7"
                        ],
                        [
                          0.6,
                          "#e6f5d0"
                        ],
                        [
                          0.7,
                          "#b8e186"
                        ],
                        [
                          0.8,
                          "#7fbc41"
                        ],
                        [
                          0.9,
                          "#4d9221"
                        ],
                        [
                          1,
                          "#276419"
                        ]
                      ],
                      "sequential": [
                        [
                          0,
                          "#0d0887"
                        ],
                        [
                          0.1111111111111111,
                          "#46039f"
                        ],
                        [
                          0.2222222222222222,
                          "#7201a8"
                        ],
                        [
                          0.3333333333333333,
                          "#9c179e"
                        ],
                        [
                          0.4444444444444444,
                          "#bd3786"
                        ],
                        [
                          0.5555555555555556,
                          "#d8576b"
                        ],
                        [
                          0.6666666666666666,
                          "#ed7953"
                        ],
                        [
                          0.7777777777777778,
                          "#fb9f3a"
                        ],
                        [
                          0.8888888888888888,
                          "#fdca26"
                        ],
                        [
                          1,
                          "#f0f921"
                        ]
                      ],
                      "sequentialminus": [
                        [
                          0,
                          "#0d0887"
                        ],
                        [
                          0.1111111111111111,
                          "#46039f"
                        ],
                        [
                          0.2222222222222222,
                          "#7201a8"
                        ],
                        [
                          0.3333333333333333,
                          "#9c179e"
                        ],
                        [
                          0.4444444444444444,
                          "#bd3786"
                        ],
                        [
                          0.5555555555555556,
                          "#d8576b"
                        ],
                        [
                          0.6666666666666666,
                          "#ed7953"
                        ],
                        [
                          0.7777777777777778,
                          "#fb9f3a"
                        ],
                        [
                          0.8888888888888888,
                          "#fdca26"
                        ],
                        [
                          1,
                          "#f0f921"
                        ]
                      ]
                    },
                    "colorway": [
                      "#636efa",
                      "#EF553B",
                      "#00cc96",
                      "#ab63fa",
                      "#FFA15A",
                      "#19d3f3",
                      "#FF6692",
                      "#B6E880",
                      "#FF97FF",
                      "#FECB52"
                    ],
                    "font": {
                      "color": "#2a3f5f"
                    },
                    "geo": {
                      "bgcolor": "white",
                      "lakecolor": "white",
                      "landcolor": "#E5ECF6",
                      "showlakes": true,
                      "showland": true,
                      "subunitcolor": "white"
                    },
                    "hoverlabel": {
                      "align": "left"
                    },
                    "hovermode": "closest",
                    "mapbox": {
                      "style": "light"
                    },
                    "paper_bgcolor": "white",
                    "plot_bgcolor": "#E5ECF6",
                    "polar": {
                      "angularaxis": {
                        "gridcolor": "white",
                        "linecolor": "white",
                        "ticks": ""
                      },
                      "bgcolor": "#E5ECF6",
                      "radialaxis": {
                        "gridcolor": "white",
                        "linecolor": "white",
                        "ticks": ""
                      }
                    },
                    "scene": {
                      "xaxis": {
                        "backgroundcolor": "#E5ECF6",
                        "gridcolor": "white",
                        "gridwidth": 2,
                        "linecolor": "white",
                        "showbackground": true,
                        "ticks": "",
                        "zerolinecolor": "white"
                      },
                      "yaxis": {
                        "backgroundcolor": "#E5ECF6",
                        "gridcolor": "white",
                        "gridwidth": 2,
                        "linecolor": "white",
                        "showbackground": true,
                        "ticks": "",
                        "zerolinecolor": "white"
                      },
                      "zaxis": {
                        "backgroundcolor": "#E5ECF6",
                        "gridcolor": "white",
                        "gridwidth": 2,
                        "linecolor": "white",
                        "showbackground": true,
                        "ticks": "",
                        "zerolinecolor": "white"
                      }
                    },
                    "shapedefaults": {
                      "line": {
                        "color": "#2a3f5f"
                      }
                    },
                    "ternary": {
                      "aaxis": {
                        "gridcolor": "white",
                        "linecolor": "white",
                        "ticks": ""
                      },
                      "baxis": {
                        "gridcolor": "white",
                        "linecolor": "white",
                        "ticks": ""
                      },
                      "bgcolor": "#E5ECF6",
                      "caxis": {
                        "gridcolor": "white",
                        "linecolor": "white",
                        "ticks": ""
                      }
                    },
                    "title": {
                      "x": 0.05
                    },
                    "xaxis": {
                      "automargin": true,
                      "gridcolor": "white",
                      "linecolor": "white",
                      "ticks": "",
                      "title": {
                        "standoff": 15
                      },
                      "zerolinecolor": "white",
                      "zerolinewidth": 2
                    },
                    "yaxis": {
                      "automargin": true,
                      "gridcolor": "white",
                      "linecolor": "white",
                      "ticks": "",
                      "title": {
                        "standoff": 15
                      },
                      "zerolinecolor": "white",
                      "zerolinewidth": 2
                    }
                  }
                },
                "title": {
                  "text": "Box Plot of PetalWidthCm by Species"
                },
                "xaxis": {
                  "anchor": "y",
                  "categoryarray": [
                    "Iris-setosa",
                    "Iris-versicolor",
                    "Iris-virginica"
                  ],
                  "categoryorder": "array",
                  "domain": [
                    0,
                    1
                  ],
                  "title": {
                    "text": "Species"
                  }
                },
                "yaxis": {
                  "anchor": "x",
                  "domain": [
                    0,
                    1
                  ],
                  "title": {
                    "text": "PetalWidthCm"
                  }
                }
              }
            }
          },
          "metadata": {},
          "output_type": "display_data"
        }
      ],
      "source": [
        "# Create a box plot to show the relationship between a numerical variable and a categorical variable\n",
        "fig_boxplot = px.box(df, x=\"Species\", y=\"PetalWidthCm\", title=\"Box Plot of PetalWidthCm by Species\",\n",
        "                     color='Species',  # Set box color based on Species\n",
        "                     color_discrete_sequence=custom_colors  # Custom color sequence\n",
        "                    )\n",
        "\n",
        "# Update layout\n",
        "fig_boxplot.update_layout(xaxis_title=\"Species\", yaxis_title=\"PetalWidthCm\",)\n",
        "\n",
        "# Show the box plot\n",
        "fig_boxplot.show()"
      ]
    },
    {
      "cell_type": "markdown",
      "metadata": {},
      "source": [
        "#### <span style='color:#074173'> 💬 Quan sát: </span>\n",
        "<div style=\"border-radius:10px;border:#0C6A86 solid;padding:5px;background-color:#ebfae8;font-size:110%;text-align:left;color:black\">\n",
        "\n",
        "- Từ biểu đồ trên, có thể thấy rõ rằng loài Virginica có giá trị trung bình về Chiều rộng cánh hoa (PetalWidthCm) cao hơn so với các loài khác. Ngược lại, loài Setosa thể hiện giá trị trung bình của Chiều rộng cánh hoa thấp hơn.\n",
        "\n",
        "- Giá trị tối đa của Chiều dài cánh hoa của loài Setosa là 0,6cm và giá trị trung bình thấp hơn của Setosa là 0,1.\n",
        "\n",
        "- Giá trị tối đa của chiều dài cánh hoa của loài Versicolor là 1,8cm và giá trị trung bình thấp hơn của loài nhiều màu là 1cm.\n",
        "\n",
        "- Giá trị chiều dài cánh hoa tối đa của loài Virginica là 2,5cm và giá trị trung bình thấp hơn của loài Virginica là 1,4cm."
      ]
    },
    {
      "cell_type": "markdown",
      "metadata": {},
      "source": [
        "# <div style=\"padding:20px;color:white;margin:0;font-size:35px;font-family:Verdana;text-align:left;display:fill;border-radius:5px;background-color:#254E58;overflow:hidden\"><b>C. Khám phá và đặt câu hỏi về dữ liệu</b></div>"
      ]
    },
    {
      "cell_type": "markdown",
      "metadata": {},
      "source": [
        "# <div style=\"padding:10px;color:white;margin:0;font-size:20px;font-family:Verdana;text-align:left;display:fill;border-radius:5px;background-color:#254E58;overflow:hidden\"><b>❓ Câu hỏi 1: Phân phối của các đặc tính của hoa Iris như thế nào? Có sự khác biệt nào rõ rệt khi xem xét phân bố của các đặc tính không?</b></div>"
      ]
    },
    {
      "cell_type": "code",
      "execution_count": 15,
      "metadata": {},
      "outputs": [
        {
          "data": {
            "image/png": "[encoded data removed]",
            "text/plain": [
              "<Figure size 1400x1000 with 4 Axes>"
            ]
          },
          "metadata": {},
          "output_type": "display_data"
        }
      ],
      "source": [
        "plt.rcParams['figure.figsize'] = [14, 10]\n",
        "plt.rcParams['figure.facecolor'] = '#FFDAB9'\n",
        "\n",
        "# Create histograms\n",
        "fig, axs = plt.subplots(2, 2)\n",
        "\n",
        "axs[0, 0].hist(df['SepalLengthCm'],  color='red', edgecolor='black', alpha=0.8)\n",
        "axs[0, 0].set_xlabel('Sepal Length')\n",
        "axs[0, 0].set_title('Sepal Length Histogram')\n",
        "\n",
        "axs[0, 1].hist(df['SepalWidthCm'],  color='blue', edgecolor='black', alpha=0.8)\n",
        "axs[0, 1].set_xlabel('Sepal Width')\n",
        "axs[0, 1].set_title('Sepal Width Histogram')\n",
        "\n",
        "axs[1, 0].hist(df['PetalLengthCm'],  color='cyan', edgecolor='black', alpha=0.8)\n",
        "axs[1, 0].set_xlabel('Petal Length')\n",
        "axs[1, 0].set_title('Petal Length Histogram')\n",
        "\n",
        "axs[1, 1].hist(df['PetalWidthCm'],  color='green', edgecolor='black', alpha=0.8)\n",
        "axs[1, 1].set_xlabel('Petal Width')\n",
        "axs[1, 1].set_title('Petal Width Histogram')\n",
        "\n",
        "plt.tight_layout()\n",
        "plt.show()"
      ]
    },
    {
      "cell_type": "code",
      "execution_count": 16,
      "metadata": {},
      "outputs": [
        {
          "data": {
            "image/png": "[encoded data removed]",
            "text/plain": [
              "<Figure size 1400x1200 with 8 Axes>"
            ]
          },
          "metadata": {},
          "output_type": "display_data"
        }
      ],
      "source": [
        "plt.figure(figsize=(14, 12))\n",
        "plt.gcf().set_facecolor(\"#E0FFFF\")\n",
        "\n",
        "# Create subplots for KDE plots\n",
        "plt.subplot(4, 2, 1)\n",
        "sns.kdeplot(df['SepalLengthCm'], color='red', fill=True, alpha=0.7)\n",
        "plt.xlabel('Sepal Length')\n",
        "plt.title('Sepal Length KDE')\n",
        "\n",
        "plt.subplot(4, 2, 2)\n",
        "sns.boxplot(data=df, x='SepalLengthCm', color='red')\n",
        "plt.xlabel('Sepal Length')\n",
        "plt.title('Sepal Length Box-plot')\n",
        "\n",
        "plt.subplot(4, 2, 3)\n",
        "sns.kdeplot(df['SepalWidthCm'], color='blue', fill=True, alpha=0.7)\n",
        "plt.xlabel('Sepal Width')\n",
        "plt.title('Sepal Width KDE')\n",
        "\n",
        "plt.subplot(4, 2, 4)\n",
        "sns.boxplot(data=df, x='SepalWidthCm', color='blue')\n",
        "plt.xlabel('Sepal Width')\n",
        "plt.title('Sepal Width Box-plot')\n",
        "\n",
        "plt.subplot(4, 2, 5)\n",
        "sns.kdeplot(df['PetalLengthCm'], color='purple', fill=True, alpha=0.7)\n",
        "plt.xlabel('Petal Length')\n",
        "plt.title('Petal Length KDE')\n",
        "\n",
        "plt.subplot(4, 2, 6)\n",
        "sns.boxplot(data=df, x='PetalLengthCm', color='purple')\n",
        "plt.xlabel('Petal Length')\n",
        "plt.title('Petal Length Box-plot')\n",
        "\n",
        "plt.subplot(4, 2, 7)\n",
        "sns.kdeplot(df['PetalWidthCm'], color='green', fill=True, alpha=0.7)\n",
        "plt.xlabel('Petal Width')\n",
        "plt.title('Petal Width KDE')\n",
        "\n",
        "plt.subplot(4, 2, 8)\n",
        "sns.boxplot(data=df, x='PetalWidthCm', color='green')\n",
        "plt.xlabel('Petal Width')\n",
        "plt.title('Petal Width Box-plot')\n",
        "\n",
        "plt.tight_layout()\n",
        "plt.show()"
      ]
    },
    {
      "cell_type": "markdown",
      "metadata": {},
      "source": [
        "#### <span style='color:#074173'> 💬 Trả lời: </span>\n",
        "<div style=\"border-radius:10px;border:#0C6A86 solid;padding:5px;background-color:#ebfae8;font-size:110%;text-align:left;color:black\">\n",
        "\n",
        "- Ở câu hỏi đầu tiên, nhóm đã trực quan biểu đồ historgram và boxplot để xem xét về tổng quan về phân bố của các đặc tính của hoa Iris.\n",
        "\n",
        "- Đối với đặc tính `SepalLengthCm`, `SepalWidthCm`, tức là chiều dài và chiều rộng của lá, ta thấy rằng phân phối của chúng khá giống nhau và boxplot cho thấy khoảng giá trị hẹp hơn so với 2 đặc trưng còn lại, , khó để thấy sự khác biệt rõ rệt giữa các loại hoa.\n",
        "\n",
        "- Đối với đặc tính `PetalLengthCm`, `PetalWidthCm`, tức là chiều dài và chiều rộng của cánh hoa, ta thấy rằng có sự tách biệt rõ rệt trong phân phối của 2 dặc tính này qua historgram. Biểu đồ boxplot cũng cho thấy một khoảng giá trị khá rộng. Do đó ta có thể nhận xét: có thể có một loài hoa có chiều dài và chiều rộng cánh hoa nhỏ hơn so với các loài hoa còn lại.\n",
        "\n",
        "- Để biết được rõ hơn về sự khác biệt giữa các loài hoa, nhóm sẽ tiếp tục khám phá ở các câu hỏi tiếp theo."
      ]
    },
    {
      "cell_type": "markdown",
      "metadata": {},
      "source": [
        "# <div style=\"padding:10px;color:white;margin:0;font-size:20px;font-family:Verdana;text-align:left;display:fill;border-radius:5px;background-color:#254E58;overflow:hidden\"><b>❓ Câu hỏi 2: Có sự khác biệt của phân bố các đặc tính giữa các loài hoa không?</b></div>"
      ]
    },
    {
      "cell_type": "code",
      "execution_count": 17,
      "metadata": {},
      "outputs": [
        {
          "data": {
            "image/png": "[encoded data removed]",
            "text/plain": [
              "<Figure size 1400x1000 with 4 Axes>"
            ]
          },
          "metadata": {},
          "output_type": "display_data"
        }
      ],
      "source": [
        "plt.figure(figsize=(14, 10))\n",
        "plt.gcf().set_facecolor(\"#F0FFF0\")\n",
        "\n",
        "# Create subplots for KDE plots by species\n",
        "plt.subplot(2, 2, 1)\n",
        "for species in df['Species'].unique():\n",
        "    sns.kdeplot(df[df['Species'] == species]['SepalLengthCm'], shade=True, label=species)\n",
        "plt.xlabel('Sepal Length')\n",
        "plt.title('Sepal Length by Species')\n",
        "plt.legend(fontsize=12)\n",
        "plt.grid(True)\n",
        "\n",
        "plt.subplot(2, 2, 2)\n",
        "for species in df['Species'].unique():\n",
        "    sns.kdeplot(df[df['Species'] == species]['SepalWidthCm'], shade=True, label=species)\n",
        "plt.xlabel('Sepal Width')\n",
        "plt.title('Sepal Width by Species')\n",
        "plt.legend(fontsize=12)\n",
        "plt.grid(True)\n",
        "\n",
        "plt.subplot(2, 2, 3)\n",
        "for species in df['Species'].unique():\n",
        "    sns.kdeplot(df[df['Species'] == species]['PetalLengthCm'], shade=True, label=species)\n",
        "plt.xlabel('Petal Length')\n",
        "plt.title('Petal Length by Species')\n",
        "plt.legend(fontsize=12)\n",
        "plt.grid(True)\n",
        "\n",
        "plt.subplot(2, 2, 4)\n",
        "for species in df['Species'].unique():\n",
        "    sns.kdeplot(df[df['Species'] == species]['PetalWidthCm'], shade=True, label=species)\n",
        "plt.xlabel('Petal Width')\n",
        "plt.title('Petal Width by Species')\n",
        "plt.legend(fontsize=12)\n",
        "plt.grid(True)\n",
        "\n",
        "plt.tight_layout()\n",
        "plt.show()"
      ]
    },
    {
      "cell_type": "markdown",
      "metadata": {},
      "source": [
        "#### <span style='color:#074173'> 💬 Nhận xét: </span>\n",
        "<div style=\"border-radius:10px;border:#0C6A86 solid;padding:5px;background-color:#ebfae8;font-size:110%;text-align:left;color:black\">\n",
        "\n",
        "- `SepalLengthCm`: Chúng ta có thể thấy có sự giao nhau giữa cả iris-setosa và iris-versicolor; giữa iris-versicolor và iris-virginica; cũng như giữa cả 3 loài hoa trong biểu đồ histogram trên. Điều đó làm cho việc phân biệt giữa các loài hoa trở nên khó khăn hơn.\n",
        "\n",
        "- `SepalWidthCm`: Có sự giao nhau khá nhiều giữa cả 3 loài hoa, đặc biệt là giữa iris-versicolor và iris-virginica, phân bố của chúng dường như trùng vào nhau. Phân bố của loài iris-setosa nằm về phía bên phải hơn so với phân bố ở `SepalLengthCm`. Điều này cho thấy nếu chỉ dựa vào `SepalWidthCm` để phân biệt giữa các loài hoa thì còn khó khăn hơn nữa.\n",
        "\n",
        "- `PetalLengthCm` và `PetalWidthCm`: Có sự phân biệt rõ rệt giữa các loài hoa, đặc biệt là giữa iris-setosa và 2 loài hoa còn lại. Phân bố của iris-setosa nằm ở phía bên trái hơn so với 2 loài hoa còn lại, còn phân bố của iris-versicolor và iris-virginica có một sự giao nhau nhẹ, nhưng vãn phân biệt được. Điều này cho thấy rằng `PetalLengthCm` và `PetalWidthCm` là 2 đặc tính quan trọng để phân biệt giữa các loài hoa."
      ]
    },
    {
      "cell_type": "markdown",
      "metadata": {},
      "source": [
        "# <div style=\"padding:10px;color:white;margin:0;font-size:20px;font-family:Verdana;text-align:left;display:fill;border-radius:5px;background-color:#254E58;overflow:hidden\"><b>❓ Câu hỏi 3: Những yếu tố nào hình thành nên sự khác biệt của các loài hoa</b></div>"
      ]
    },
    {
      "cell_type": "code",
      "execution_count": 18,
      "metadata": {},
      "outputs": [
        {
          "data": {
            "image/png": "[encoded data removed]",
            "text/plain": [
              "<Figure size 1400x600 with 2 Axes>"
            ]
          },
          "metadata": {},
          "output_type": "display_data"
        }
      ],
      "source": [
        "\n",
        "\n",
        "plt.figure(figsize=(14, 6))\n",
        "plt.gcf().set_facecolor(\"#F0F8FF\")\n",
        "\n",
        "plt.subplot(1, 2, 1)\n",
        "sns.scatterplot(data=df, x='SepalLengthCm', y='SepalWidthCm', hue='Species', palette='Dark2')\n",
        "plt.xlabel('Sepal Length')\n",
        "plt.ylabel('Sepal Width')\n",
        "plt.title('Sepal Length vs Sepal Width')\n",
        "\n",
        "plt.subplot(1, 2, 2)\n",
        "sns.scatterplot(data=df, x='PetalLengthCm', y='PetalWidthCm', hue='Species', palette='Dark2')\n",
        "plt.xlabel('Petal Length')\n",
        "plt.ylabel('Petal Width')\n",
        "plt.title('Petal Length vs Petal Width')\n",
        "\n",
        "plt.tight_layout()\n",
        "plt.show()\n"
      ]
    },
    {
      "cell_type": "markdown",
      "metadata": {},
      "source": [
        "#### <span style='color:#074173'> 💬 Trả lời: </span>\n",
        "<div style=\"border-radius:10px;border:#0C6A86 solid;padding:5px;background-color:#ebfae8;font-size:110%;text-align:left;color:black\">\n",
        "\n",
        "- Từ biểu đồ 1 ta thấy được:\n",
        "    - Loài `Setosa` có chiều dài lá đài ngắn hơn nhưng chiều rộng lá đài lớn hơn.\n",
        "    - Loài `Versicolor`  có chiều dài và rộng của lá đài đều nhỏ hơn so với 2 loài còn lại\n",
        "    - Loài `Virginica` có lá đài dài hơn nhưng chiều rộng lá đài nhỏ hơn.\n",
        "- Đối với biểu đồ 2:\n",
        "    - Loài `Setosa` có chiều dài và chiều rộng cánh hoa nhỏ hơn hẳn so với 2 loài còn lại. \n",
        "    - Loài `Versicolor` nằm ở giữa đường chéo phụ của hai loài còn lại về chiều dài và chiều rộng của cánh hoa.\n",
        "    - Loài `Virginica` có chiều dài và chiều rộng cánh hoa lớn nhất.\n",
        "\n",
        "\n",
        "=> Từ những thông tin trên ta có một số kết luận như:\n",
        "- Loài hoa có cánh hoa nhỏ, ngắn và lá đài ngắn nhưng chiều rộng lá đài lớn thì ta có thể suy ra đây là loài `Setosa`\n",
        "- Loài mà có cả lá đài dài và cánh hoa vừa rộng vừa dài thì đó là loài `Virginica`"
      ]
    },
    {
      "cell_type": "markdown",
      "metadata": {},
      "source": [
        "# <div style=\"padding:20px;color:white;margin:0;font-size:35px;font-family:Verdana;text-align:left;display:fill;border-radius:5px;background-color:#254E58;overflow:hidden\"><b>C Insights</b></div>"
      ]
    },
    {
      "cell_type": "markdown",
      "metadata": {},
      "source": [
        "<div style=\"border-radius:10px;border:#0C6A86 solid;padding:5px;background-color:#ebfae8;font-size:110%;text-align:left;color:black\">\n",
        "\n",
        "Trong quá trình khám phá toàn diện tập dữ liệu `Iris` bằng các công cụ trực quan phân tích như Matplotlib, Seaborn và Plotly, nhóm đã tìm hiểu sâu về các đặc tính của các loài hoa Iris. Trong phần này, nhóm sẽ chia sẻ những phát hiện thú vị nhất, bao gồm các đặc tính riêng biệt, sự khác nhau giữa các loài hoa:\n",
        "\n",
        "- **Tập dữ liệu:**\n",
        "  - Ngoài giá trị `SepalWidthCm` chứa một số ngoại lệ vthì tất cả các giá trị khác còn lại đều hoàn toàn ổn\n",
        "  - Cả `SepalLengthCm` và `SepalWitdhCm` đều có dạng phân phối chuẩn, `SepalWitdhCm` đạt đỉnh rõ rệt xung quanh giá trị 3cm còn với `SepalLengthCm` thì nhiều quan sát tập trung trong khoảng từ 5 đến 7 cm.\n",
        "  - `PetalLengthCm` và `PetalWidthCm` cả 2 phân phối của 2 cột này đều cho thấy có 2 nhóm dữ liệu rõ rệt.\n",
        "\n",
        "- **Đặc tính của các loài hoa:**\n",
        "  - Ta có loài hoa `Virginica` đứng đầu trong 3 đặc tính là chiều dài đài hoa (SepalLengthCm), cả chiều dài và rộng của cánh hoa (Petal). \n",
        "  - Ngược lại với loài `Virginica` thì loài `Setosa`có giá trị 3 đặc tính trên thấp nhất.\n",
        "  - Loài `Virsicolor` các đặc tính đều ở mức trung bình.\n",
        "\n",
        "- **Sự khác biệt giữa các loài hoa:**\n",
        "  - Từ một số đặc tính đã được rút trích ở trên, ta thấy rằng loài hoa có cánh hoa nhỏ, ngắn và lá đài ngắn nhưng chiều rộng lá đài lớn thì ta có thể suy ra đây là loài `Setosa`\n",
        "  - Loài mà có cả lá đài dài và cánh hoa vừa rộng vừa dài thì đó là loài `Virginica`\n",
        "\n"
      ]
    }
  ],
  "metadata": {
    "kernelspec": {
      "display_name": "Python 3",
      "language": "python",
      "name": "python3"
    },
    "language_info": {
      "codemirror_mode": {
        "name": "ipython",
        "version": 3
      },
      "file_extension": ".py",
      "mimetype": "text/x-python",
      "name": "python",
      "nbconvert_exporter": "python",
      "pygments_lexer": "ipython3",
      "version": "3.9.18"
    }
  },
  "nbformat": 4,
  "nbformat_minor": 2
}
